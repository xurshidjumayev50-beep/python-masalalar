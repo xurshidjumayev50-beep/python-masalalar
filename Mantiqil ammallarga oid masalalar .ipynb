{
 "cells": [
  {
   "cell_type": "code",
   "execution_count": 2,
   "id": "c5153761",
   "metadata": {},
   "outputs": [
    {
     "name": "stdout",
     "output_type": "stream",
     "text": [
      "A=-7\n",
      "False\n"
     ]
    }
   ],
   "source": [
    "# bolleon 1\n",
    "A=int(input(\"A=\"))\n",
    "print(A>0)"
   ]
  },
  {
   "cell_type": "code",
   "execution_count": 8,
   "id": "4ea5f0a8",
   "metadata": {},
   "outputs": [
    {
     "name": "stdout",
     "output_type": "stream",
     "text": [
      "A=7\n",
      "True\n"
     ]
    }
   ],
   "source": [
    "#  boleon 2\n",
    "A=int(input(\"A=\"))\n",
    "print(A%2==1)"
   ]
  },
  {
   "cell_type": "code",
   "execution_count": 10,
   "id": "ee46542f",
   "metadata": {},
   "outputs": [
    {
     "name": "stdout",
     "output_type": "stream",
     "text": [
      "A=7\n",
      "False\n"
     ]
    }
   ],
   "source": [
    "# boleon 3 \n",
    "A=int(input(\"A=\"))\n",
    "print(A%2==0)"
   ]
  },
  {
   "cell_type": "code",
   "execution_count": 2,
   "id": "83a7c51f",
   "metadata": {},
   "outputs": [
    {
     "name": "stdout",
     "output_type": "stream",
     "text": [
      "A=5\n",
      "B=5\n",
      "False\n"
     ]
    }
   ],
   "source": [
    "# boleon 4\n",
    "A=int(input(\"A=\"))\n",
    "B=int(input(\"B=\"))\n",
    "print(A>2 and B<=3)"
   ]
  },
  {
   "cell_type": "code",
   "execution_count": 5,
   "id": "edae5c36",
   "metadata": {},
   "outputs": [
    {
     "name": "stdout",
     "output_type": "stream",
     "text": [
      "A=-4\n",
      "B=-1\n",
      "False\n"
     ]
    }
   ],
   "source": [
    "# boleon 5 \n",
    "A=int(input(\"A=\"))\n",
    "B=int(input(\"B=\"))\n",
    "print(A>=0 or B<-2)"
   ]
  },
  {
   "cell_type": "code",
   "execution_count": 9,
   "id": "722d0f37",
   "metadata": {},
   "outputs": [
    {
     "name": "stdout",
     "output_type": "stream",
     "text": [
      "A=4\n",
      "B=5\n",
      "C=6\n",
      "True\n"
     ]
    }
   ],
   "source": [
    "# boleon 6 \n",
    "A=int(input(\"A=\"))\n",
    "B=int(input(\"B=\"))\n",
    "C=int(input(\"C=\"))\n",
    "print(A<=B<=C)"
   ]
  },
  {
   "cell_type": "code",
   "execution_count": 10,
   "id": "3f965d21",
   "metadata": {},
   "outputs": [
    {
     "name": "stdout",
     "output_type": "stream",
     "text": [
      "A=5\n",
      "B=8\n",
      "C=9\n",
      "True\n"
     ]
    }
   ],
   "source": [
    "# boleon 7 \n",
    "A=int(input(\"A=\"))\n",
    "B=int(input(\"B=\"))\n",
    "C=int(input(\"C=\"))\n",
    "print(A<=B<=C)"
   ]
  },
  {
   "cell_type": "code",
   "execution_count": 15,
   "id": "b48c1091",
   "metadata": {},
   "outputs": [
    {
     "name": "stdout",
     "output_type": "stream",
     "text": [
      "A=5\n",
      "B=5\n",
      "True True\n"
     ]
    }
   ],
   "source": [
    "# boleon 8\n",
    "A=int(input(\"A=\"))\n",
    "B=int(input(\"B=\"))\n",
    "print(A%2==1,B%2==1)"
   ]
  },
  {
   "cell_type": "code",
   "execution_count": 18,
   "id": "47159dc5",
   "metadata": {},
   "outputs": [
    {
     "name": "stdout",
     "output_type": "stream",
     "text": [
      "A=5\n",
      "B=5\n",
      "True\n"
     ]
    }
   ],
   "source": [
    "# boleon 9\n",
    "A=int(input(\"A=\"))\n",
    "B=int(input(\"B=\"))\n",
    "print((A%2==1 or B%2==1) or (A%2==1 and B%2==1))"
   ]
  },
  {
   "cell_type": "code",
   "execution_count": 19,
   "id": "363f472e",
   "metadata": {},
   "outputs": [
    {
     "name": "stdout",
     "output_type": "stream",
     "text": [
      "A=5\n",
      "B=8\n",
      "True\n"
     ]
    }
   ],
   "source": [
    "# boleon 10 \n",
    "A=int(input(\"A=\"))\n",
    "B=int(input(\"B=\"))\n",
    "print(A%2==1 or B%2==1)"
   ]
  },
  {
   "cell_type": "code",
   "execution_count": 21,
   "id": "be11e7f6",
   "metadata": {},
   "outputs": [
    {
     "name": "stdout",
     "output_type": "stream",
     "text": [
      "A=4\n",
      "B=5\n",
      "False\n"
     ]
    }
   ],
   "source": [
    "# boleon 11\n",
    "A=int(input(\"A=\"))\n",
    "B=int(input(\"B=\"))\n",
    "print((A%2==1 and B%2==1)or((A%2==0 and B%2==0)))"
   ]
  },
  {
   "cell_type": "code",
   "execution_count": 1,
   "id": "4de49757",
   "metadata": {},
   "outputs": [
    {
     "name": "stdout",
     "output_type": "stream",
     "text": [
      "A=5\n",
      "B=-8\n",
      "C=4\n",
      "True False True\n"
     ]
    }
   ],
   "source": [
    "# boleon 12\n",
    "A=int(input(\"A=\"))\n",
    "B=int(input(\"B=\"))\n",
    "C=int(input(\"C=\"))\n",
    "print(A>0,B>0,C>0)"
   ]
  },
  {
   "cell_type": "code",
   "execution_count": 2,
   "id": "dd60f63e",
   "metadata": {},
   "outputs": [
    {
     "name": "stdout",
     "output_type": "stream",
     "text": [
      "A=4\n",
      "B=4\n",
      "C=4\n",
      "True\n"
     ]
    }
   ],
   "source": [
    "# boleon 13\n",
    "A=int(input(\"A=\"))\n",
    "B=int(input(\"B=\"))\n",
    "C=int(input(\"C=\"))\n",
    "print(A>0 or B>0 or C>0 )"
   ]
  },
  {
   "cell_type": "code",
   "execution_count": 7,
   "id": "3db7d073",
   "metadata": {},
   "outputs": [
    {
     "name": "stdout",
     "output_type": "stream",
     "text": [
      "A=7\n",
      "B=5\n",
      "C=5\n",
      "False\n"
     ]
    }
   ],
   "source": [
    "# boleon 14 \n",
    "A=int(input(\"A=\"))\n",
    "B=int(input(\"B=\"))\n",
    "C=int(input(\"C=\"))\n",
    "print((A > 0 and B > 0 and C < 0) or (A > 0 and B < 0 and C > 0) or (A < 0 and B > 0 and C > 0))"
   ]
  },
  {
   "cell_type": "code",
   "execution_count": 8,
   "id": "dc28f27d",
   "metadata": {},
   "outputs": [
    {
     "name": "stdout",
     "output_type": "stream",
     "text": [
      "A=-4\n",
      "B=5\n",
      "C=4\n",
      "True\n"
     ]
    }
   ],
   "source": [
    "# boleon 15\n",
    "A=int(input(\"A=\"))\n",
    "B=int(input(\"B=\"))\n",
    "C=int(input(\"C=\"))\n",
    "print((A > 0 and B > 0 and C < 0) or (A > 0 and B < 0 and C > 0) or (A < 0 and B > 0 and C > 0))"
   ]
  },
  {
   "cell_type": "code",
   "execution_count": null,
   "id": "94fb2805",
   "metadata": {},
   "outputs": [],
   "source": [
    "# boleon  16\n"
   ]
  }
 ],
 "metadata": {
  "kernelspec": {
   "display_name": "Python 3 (ipykernel)",
   "language": "python",
   "name": "python3"
  },
  "language_info": {
   "codemirror_mode": {
    "name": "ipython",
    "version": 3
   },
   "file_extension": ".py",
   "mimetype": "text/x-python",
   "name": "python",
   "nbconvert_exporter": "python",
   "pygments_lexer": "ipython3",
   "version": "3.12.3"
  }
 },
 "nbformat": 4,
 "nbformat_minor": 5
}
