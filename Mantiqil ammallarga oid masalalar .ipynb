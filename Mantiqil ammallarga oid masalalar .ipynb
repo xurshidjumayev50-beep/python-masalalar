{
 "cells": [
  {
   "cell_type": "code",
   "execution_count": null,
   "id": "c5153761",
   "metadata": {},
   "outputs": [
    {
     "ename": "ValueError",
     "evalue": "invalid literal for int() with base 10: ''",
     "output_type": "error",
     "traceback": [
      "\u001b[0;31m---------------------------------------------------------------------------\u001b[0m",
      "\u001b[0;31mValueError\u001b[0m                                Traceback (most recent call last)",
      "Cell \u001b[0;32mIn[4], line 2\u001b[0m\n\u001b[1;32m      1\u001b[0m \u001b[38;5;66;03m# bolleon 1\u001b[39;00m\n\u001b[0;32m----> 2\u001b[0m A\u001b[38;5;241m=\u001b[39m\u001b[38;5;28;43mint\u001b[39;49m\u001b[43m(\u001b[49m\u001b[38;5;28;43minput\u001b[39;49m\u001b[43m(\u001b[49m\u001b[38;5;124;43m\"\u001b[39;49m\u001b[38;5;124;43mA=\u001b[39;49m\u001b[38;5;124;43m\"\u001b[39;49m\u001b[43m)\u001b[49m\u001b[43m)\u001b[49m\n\u001b[1;32m      3\u001b[0m \u001b[38;5;28mprint\u001b[39m(A\u001b[38;5;241m>\u001b[39m\u001b[38;5;241m0\u001b[39m)\n",
      "\u001b[0;31mValueError\u001b[0m: invalid literal for int() with base 10: ''"
     ]
    }
   ],
   "source": [
    "# bolleon 1\n",
    "A=int(input(\"A=\"))\n",
    "print(A>0)"
   ]
  },
  {
   "cell_type": "code",
   "execution_count": null,
   "id": "4ea5f0a8",
   "metadata": {},
   "outputs": [
    {
     "name": "stdout",
     "output_type": "stream",
     "text": [
      "A=7\n",
      "True\n"
     ]
    }
   ],
   "source": [
    "#  boleon 2\n",
    "A=int(input(\"A=\"))\n",
    "print(A%2==1)"
   ]
  },
  {
   "cell_type": "code",
   "execution_count": null,
   "id": "ee46542f",
   "metadata": {},
   "outputs": [
    {
     "name": "stdout",
     "output_type": "stream",
     "text": [
      "A=7\n",
      "False\n"
     ]
    }
   ],
   "source": [
    "# boleon 3 \n",
    "A=int(input(\"A=\"))\n",
    "print(A%2==0)"
   ]
  },
  {
   "cell_type": "code",
   "execution_count": null,
   "id": "83a7c51f",
   "metadata": {},
   "outputs": [
    {
     "name": "stdout",
     "output_type": "stream",
     "text": [
      "A=5\n",
      "B=5\n",
      "False\n"
     ]
    }
   ],
   "source": [
    "# boleon 4\n",
    "A=int(input(\"A=\"))\n",
    "B=int(input(\"B=\"))\n",
    "print(A>2 and B<=3)"
   ]
  },
  {
   "cell_type": "code",
   "execution_count": null,
   "id": "edae5c36",
   "metadata": {},
   "outputs": [
    {
     "name": "stdout",
     "output_type": "stream",
     "text": [
      "A=-4\n",
      "B=-1\n",
      "False\n"
     ]
    }
   ],
   "source": [
    "# boleon 5 \n",
    "A=int(input(\"A=\"))\n",
    "B=int(input(\"B=\"))\n",
    "print(A>=0 or B<-2)"
   ]
  },
  {
   "cell_type": "code",
   "execution_count": null,
   "id": "722d0f37",
   "metadata": {},
   "outputs": [
    {
     "name": "stdout",
     "output_type": "stream",
     "text": [
      "A=4\n",
      "B=5\n",
      "C=6\n",
      "True\n"
     ]
    }
   ],
   "source": [
    "# boleon 6 \n",
    "A=int(input(\"A=\"))\n",
    "B=int(input(\"B=\"))\n",
    "C=int(input(\"C=\"))\n",
    "print(A<=B<=C)"
   ]
  },
  {
   "cell_type": "code",
   "execution_count": null,
   "id": "3f965d21",
   "metadata": {},
   "outputs": [
    {
     "name": "stdout",
     "output_type": "stream",
     "text": [
      "A=5\n",
      "B=8\n",
      "C=9\n",
      "True\n"
     ]
    }
   ],
   "source": [
    "# boleon 7 \n",
    "A=int(input(\"A=\"))\n",
    "B=int(input(\"B=\"))\n",
    "C=int(input(\"C=\"))\n",
    "print(A<=B<=C)"
   ]
  },
  {
   "cell_type": "code",
   "execution_count": null,
   "id": "b48c1091",
   "metadata": {},
   "outputs": [
    {
     "name": "stdout",
     "output_type": "stream",
     "text": [
      "A=5\n",
      "B=5\n",
      "True True\n"
     ]
    }
   ],
   "source": [
    "# boleon 8\n",
    "A=int(input(\"A=\"))\n",
    "B=int(input(\"B=\"))\n",
    "print(A%2==1,B%2==1)"
   ]
  },
  {
   "cell_type": "code",
   "execution_count": null,
   "id": "47159dc5",
   "metadata": {},
   "outputs": [
    {
     "name": "stdout",
     "output_type": "stream",
     "text": [
      "A=5\n",
      "B=5\n",
      "True\n"
     ]
    }
   ],
   "source": [
    "# boleon 9\n",
    "A=int(input(\"A=\"))\n",
    "B=int(input(\"B=\"))\n",
    "print((A%2==1 or B%2==1) or (A%2==1 and B%2==1))"
   ]
  },
  {
   "cell_type": "code",
   "execution_count": null,
   "id": "363f472e",
   "metadata": {},
   "outputs": [
    {
     "name": "stdout",
     "output_type": "stream",
     "text": [
      "A=5\n",
      "B=8\n",
      "True\n"
     ]
    }
   ],
   "source": [
    "# boleon 10 \n",
    "A=int(input(\"A=\"))\n",
    "B=int(input(\"B=\"))\n",
    "print(A%2==1 or B%2==1)"
   ]
  },
  {
   "cell_type": "code",
   "execution_count": null,
   "id": "be11e7f6",
   "metadata": {},
   "outputs": [
    {
     "name": "stdout",
     "output_type": "stream",
     "text": [
      "A=4\n",
      "B=5\n",
      "False\n"
     ]
    }
   ],
   "source": [
    "# boleon 11\n",
    "A=int(input(\"A=\"))\n",
    "B=int(input(\"B=\"))\n",
    "print((A%2==1 and B%2==1)or((A%2==0 and B%2==0)))"
   ]
  },
  {
   "cell_type": "code",
   "execution_count": null,
   "id": "4de49757",
   "metadata": {},
   "outputs": [
    {
     "name": "stdout",
     "output_type": "stream",
     "text": [
      "A=5\n",
      "B=-8\n",
      "C=4\n",
      "True False True\n"
     ]
    }
   ],
   "source": [
    "# boleon 12\n",
    "A=int(input(\"A=\"))\n",
    "B=int(input(\"B=\"))\n",
    "C=int(input(\"C=\"))\n",
    "print(A>0,B>0,C>0)"
   ]
  },
  {
   "cell_type": "code",
   "execution_count": null,
   "id": "dd60f63e",
   "metadata": {},
   "outputs": [
    {
     "name": "stdout",
     "output_type": "stream",
     "text": [
      "A=4\n",
      "B=4\n",
      "C=4\n",
      "True\n"
     ]
    }
   ],
   "source": [
    "# boleon 13\n",
    "A=int(input(\"A=\"))\n",
    "B=int(input(\"B=\"))\n",
    "C=int(input(\"C=\"))\n",
    "print(A>0 or B>0 or C>0 )"
   ]
  },
  {
   "cell_type": "code",
   "execution_count": null,
   "id": "3db7d073",
   "metadata": {},
   "outputs": [
    {
     "name": "stdout",
     "output_type": "stream",
     "text": [
      "A=7\n",
      "B=5\n",
      "C=5\n",
      "False\n"
     ]
    }
   ],
   "source": [
    "# boleon 14 \n",
    "A=int(input(\"A=\"))\n",
    "B=int(input(\"B=\"))\n",
    "C=int(input(\"C=\"))\n",
    "print((A > 0 and B > 0 and C < 0) or (A > 0 and B < 0 and C > 0) or (A < 0 and B > 0 and C > 0))"
   ]
  },
  {
   "cell_type": "code",
   "execution_count": 1,
   "id": "dc28f27d",
   "metadata": {},
   "outputs": [
    {
     "ename": "ValueError",
     "evalue": "invalid literal for int() with base 10: ''",
     "output_type": "error",
     "traceback": [
      "\u001b[0;31m---------------------------------------------------------------------------\u001b[0m",
      "\u001b[0;31mValueError\u001b[0m                                Traceback (most recent call last)",
      "Cell \u001b[0;32mIn[1], line 2\u001b[0m\n\u001b[1;32m      1\u001b[0m \u001b[38;5;66;03m# boleon 15\u001b[39;00m\n\u001b[0;32m----> 2\u001b[0m A\u001b[38;5;241m=\u001b[39m\u001b[38;5;28;43mint\u001b[39;49m\u001b[43m(\u001b[49m\u001b[38;5;28;43minput\u001b[39;49m\u001b[43m(\u001b[49m\u001b[38;5;124;43m\"\u001b[39;49m\u001b[38;5;124;43mA=\u001b[39;49m\u001b[38;5;124;43m\"\u001b[39;49m\u001b[43m)\u001b[49m\u001b[43m)\u001b[49m\n\u001b[1;32m      3\u001b[0m B\u001b[38;5;241m=\u001b[39m\u001b[38;5;28mint\u001b[39m(\u001b[38;5;28minput\u001b[39m(\u001b[38;5;124m\"\u001b[39m\u001b[38;5;124mB=\u001b[39m\u001b[38;5;124m\"\u001b[39m))\n\u001b[1;32m      4\u001b[0m C\u001b[38;5;241m=\u001b[39m\u001b[38;5;28mint\u001b[39m(\u001b[38;5;28minput\u001b[39m(\u001b[38;5;124m\"\u001b[39m\u001b[38;5;124mC=\u001b[39m\u001b[38;5;124m\"\u001b[39m))\n",
      "\u001b[0;31mValueError\u001b[0m: invalid literal for int() with base 10: ''"
     ]
    }
   ],
   "source": [
    "# boleon 15\n",
    "A=int(input(\"A=\"))\n",
    "B=int(input(\"B=\"))\n",
    "C=int(input(\"C=\"))\n",
    "print((A > 0 and B > 0 and C < 0) or (A > 0 and B < 0 and C > 0) or (A < 0 and B > 0 and C > 0))"
   ]
  },
  {
   "cell_type": "code",
   "execution_count": 5,
   "id": "94fb2805",
   "metadata": {},
   "outputs": [
    {
     "name": "stdout",
     "output_type": "stream",
     "text": [
      "False\n"
     ]
    }
   ],
   "source": [
    "# boleon  16\n",
    "n=int(input(\"n=\"))\n",
    "print(n<100 and n>10 and n%2==0)"
   ]
  },
  {
   "cell_type": "code",
   "execution_count": 4,
   "id": "944f6047",
   "metadata": {},
   "outputs": [
    {
     "name": "stdout",
     "output_type": "stream",
     "text": [
      "False\n"
     ]
    }
   ],
   "source": [
    "# boleon 17 \n",
    "n=int(input(\"n=\"))\n",
    "print(n<1000 and n>100 and n%2==1)\n"
   ]
  },
  {
   "cell_type": "code",
   "execution_count": 10,
   "id": "e085bee4",
   "metadata": {},
   "outputs": [
    {
     "name": "stdout",
     "output_type": "stream",
     "text": [
      "False\n"
     ]
    }
   ],
   "source": [
    "# boleon 18\n",
    "a=int(input(\"a=\"))\n",
    "b=int(input(\"b=\"))\n",
    "c=int(input(\"c=\"))\n",
    "print((a == 1 and b == 1) or (a ==1 and c == 1) or (b == 1 and c == 1))"
   ]
  },
  {
   "cell_type": "code",
   "execution_count": 11,
   "id": "629d26c1",
   "metadata": {},
   "outputs": [
    {
     "name": "stdout",
     "output_type": "stream",
     "text": [
      "True\n"
     ]
    }
   ],
   "source": [
    "# boleon 19 \n",
    "a=int(input(\"a=\"))\n",
    "b=int(input(\"b=\"))\n",
    "c=int(input(\"c=\"))\n",
    "print(a==-b or a==-c or b==-c)"
   ]
  },
  {
   "cell_type": "code",
   "execution_count": 12,
   "id": "b72bb48a",
   "metadata": {},
   "outputs": [
    {
     "name": "stdout",
     "output_type": "stream",
     "text": [
      "True\n"
     ]
    }
   ],
   "source": [
    "# boleon 20 \n",
    "n = int(input(\"n = \"))\n",
    "print(n // 100 != n % 100 // 10 and n % 100 // 10 != n % 10)\n"
   ]
  },
  {
   "cell_type": "code",
   "execution_count": 14,
   "id": "1b0f33f7",
   "metadata": {},
   "outputs": [
    {
     "name": "stdout",
     "output_type": "stream",
     "text": [
      "False\n"
     ]
    }
   ],
   "source": [
    "# boleon 21 \n",
    "n=int(input(\"n=\"))\n",
    "n = int(input(\"n = \"))\n",
    "print(n % 10 > n % 100 // 10 and n % 100 // 10 > n // 100)\n"
   ]
  },
  {
   "cell_type": "code",
   "execution_count": 15,
   "id": "48e1cd4a",
   "metadata": {},
   "outputs": [
    {
     "name": "stdout",
     "output_type": "stream",
     "text": [
      "True\n"
     ]
    }
   ],
   "source": [
    "# boleon 22\n",
    "n = int(input(\"n = \"))\n",
    "print((n % 10 > n % 100 // 10 and n % 100 // 10 > n // 100) or (n % 10 < n % 100 // 10 and n % 100 // 10 < n // 100))\n",
    "\n",
    "n = 321"
   ]
  },
  {
   "cell_type": "code",
   "execution_count": 17,
   "id": "4ca6cf7a",
   "metadata": {},
   "outputs": [
    {
     "name": "stdout",
     "output_type": "stream",
     "text": [
      "False\n"
     ]
    }
   ],
   "source": [
    "# boleon 23 \n",
    "n = int(input(\"n = \"))\n",
    "print(n % 10 == n // 100)\n"
   ]
  },
  {
   "cell_type": "code",
   "execution_count": 18,
   "id": "52fa8052",
   "metadata": {},
   "outputs": [
    {
     "name": "stdout",
     "output_type": "stream",
     "text": [
      "False\n"
     ]
    }
   ],
   "source": [
    "# boleon 24 \n",
    "a = int(input(\"a = \"))\n",
    "b = int(input(\"b = \"))\n",
    "c = int(input(\"c = \"))\n",
    "print(b ** 2 - 4 * a * c >= 0 )\n"
   ]
  },
  {
   "cell_type": "code",
   "execution_count": 19,
   "id": "e276294b",
   "metadata": {},
   "outputs": [
    {
     "name": "stdout",
     "output_type": "stream",
     "text": [
      "False\n"
     ]
    }
   ],
   "source": [
    "# boleon 25 \n",
    "x = int(input(\"x = \"))\n",
    "y = int(input(\"y = \"))\n",
    "print(x < 0 and y > 0)\n"
   ]
  },
  {
   "cell_type": "code",
   "execution_count": 20,
   "id": "109151d6",
   "metadata": {},
   "outputs": [
    {
     "name": "stdout",
     "output_type": "stream",
     "text": [
      "False\n"
     ]
    }
   ],
   "source": [
    "# boleon 26 \n",
    "x = int(input(\"x = \"))\n",
    "y = int(input(\"y = \"))\n",
    "print(x > 0 and y < 0)\n"
   ]
  },
  {
   "cell_type": "code",
   "execution_count": 21,
   "id": "00dd96be",
   "metadata": {},
   "outputs": [
    {
     "name": "stdout",
     "output_type": "stream",
     "text": [
      "False\n"
     ]
    }
   ],
   "source": [
    "# boleon 27 \n",
    "x = int(input(\"x = \"))\n",
    "y = int(input(\"y = \"))\n",
    "print(x < 0 and y > 0)"
   ]
  },
  {
   "cell_type": "code",
   "execution_count": 22,
   "id": "c0a9cc22",
   "metadata": {},
   "outputs": [
    {
     "name": "stdout",
     "output_type": "stream",
     "text": [
      "True\n"
     ]
    }
   ],
   "source": [
    "# boleon 28 \n",
    "x = int(input(\"x = \"))\n",
    "y = int(input(\"y = \")) \n",
    "print((x > 0 and y > 0) or (x < 0 and y < 0))"
   ]
  },
  {
   "cell_type": "code",
   "execution_count": 23,
   "id": "0ef9fe3e",
   "metadata": {},
   "outputs": [
    {
     "name": "stdout",
     "output_type": "stream",
     "text": [
      "False\n"
     ]
    }
   ],
   "source": [
    "# boleon 29 \n",
    "x = int(input(\"x = \"))\n",
    "y = int(input(\"y = \")) \n",
    "x1 = int(input(\"x1 = \"))\n",
    "y1 = int(input(\"y1 = \")) \n",
    "x2 = int(input(\"x2 = \"))\n",
    "y2 = int(input(\"y2 = \")) \n",
    "print(y1 > y and x1 < x and y2 < y and x2 > x)\n"
   ]
  },
  {
   "cell_type": "code",
   "execution_count": 24,
   "id": "2867240e",
   "metadata": {},
   "outputs": [
    {
     "name": "stdout",
     "output_type": "stream",
     "text": [
      "False\n"
     ]
    }
   ],
   "source": [
    "# boleon 30 \n",
    "a = int(input(\"a = \"))\n",
    "b = int(input(\"b = \"))\n",
    "c = int(input(\"c = \"))\n",
    "print(a == b and b == c and a + b > c and a + c > b and b + c > a)\n"
   ]
  },
  {
   "cell_type": "code",
   "execution_count": 25,
   "id": "79094466",
   "metadata": {},
   "outputs": [
    {
     "name": "stdout",
     "output_type": "stream",
     "text": [
      "False\n"
     ]
    }
   ],
   "source": [
    "# boleon 31 \n",
    "a = int(input(\"a = \"))\n",
    "b = int(input(\"b = \"))\n",
    "c = int(input(\"c = \"))\n",
    "print((a == b or b == c or a == c) and a + b > c and a + c > b and b + c > a)\n"
   ]
  },
  {
   "cell_type": "code",
   "execution_count": 27,
   "id": "f3c4f017",
   "metadata": {},
   "outputs": [
    {
     "name": "stdout",
     "output_type": "stream",
     "text": [
      "False\n"
     ]
    }
   ],
   "source": [
    "# boleon 32 \n",
    "a = int(input(\"a = \"))\n",
    "b = int(input(\"b = \"))\n",
    "c = int(input(\"c = \"))\n",
    "print(a + b >= c and a + c >= b and b + c >= a and (c ** 2 == a ** 2 + b ** 2 or a ** 2 == c ** 2 + b ** 2 or b ** 2 == a ** 2 + c ** 2  ))\n"
   ]
  },
  {
   "cell_type": "code",
   "execution_count": 28,
   "id": "da85e23b",
   "metadata": {},
   "outputs": [
    {
     "name": "stdout",
     "output_type": "stream",
     "text": [
      "True\n"
     ]
    }
   ],
   "source": [
    "# boleon 33 \n",
    "a = int(input(\"a = \"))\n",
    "b = int(input(\"b = \"))\n",
    "c = int(input(\"c = \"))\n",
    "print(a + b > c and a + c >= b and b + c > a)"
   ]
  },
  {
   "cell_type": "code",
   "execution_count": 29,
   "id": "7f02884f",
   "metadata": {},
   "outputs": [
    {
     "name": "stdout",
     "output_type": "stream",
     "text": [
      "True\n"
     ]
    }
   ],
   "source": [
    "# boleon 34 \n",
    "x = int(input(\"x = \"))\n",
    "y = int(input(\"y = \"))\n",
    "print( (x + y) % 2 != 0)\n"
   ]
  },
  {
   "cell_type": "code",
   "execution_count": null,
   "id": "4fac1e8e",
   "metadata": {},
   "outputs": [
    {
     "name": "stdout",
     "output_type": "stream",
     "text": [
      "False\n"
     ]
    }
   ],
   "source": [
    "# boleon 35 \n",
    "x1 = int(input(\"x1 = \"))\n",
    "y1 = int(input(\"y1 = \"))\n",
    "x2 = int(input(\"x2 = \"))\n",
    "y2 = int(input(\"y2 = \"))\n",
    "print((x1 + y1) % 2 == (x2 + y2) % 2)\n"
   ]
  },
  {
   "cell_type": "code",
   "execution_count": 32,
   "id": "e7ecdea5",
   "metadata": {},
   "outputs": [
    {
     "name": "stdout",
     "output_type": "stream",
     "text": [
      "False\n"
     ]
    }
   ],
   "source": [
    "# boleon 36\n",
    "x1 = int(input(\"x1 = \"))\n",
    "y1 = int(input(\"y1 = \"))\n",
    "x2 = int(input(\"x2 = \"))\n",
    "y2 = int(input(\"y2 = \"))\n",
    "\n",
    "print(x1 == x2 or y1 == y2)\n"
   ]
  },
  {
   "cell_type": "code",
   "execution_count": 33,
   "id": "6203440c",
   "metadata": {},
   "outputs": [
    {
     "name": "stdout",
     "output_type": "stream",
     "text": [
      "True\n"
     ]
    }
   ],
   "source": [
    "# boleon 37 \n",
    "x1 = int(input(\"x1 = \"))\n",
    "y1 = int(input(\"y1 = \"))\n",
    "x2 = int(input(\"x2 = \"))\n",
    "y2 = int(input(\"y2 = \"))\n",
    "a = x1 == x2 or y1 == y2\n",
    "b = (x1 + 1 == x2 and y1 +1 == y2) or (x1 - 1 == x2 and y1 - 1 == y2)\n",
    "c = (x1 - 1 == x2 and y1 + 1 == y2) or (x1 + 1 == x2 and y1 - 1 == y2)\n",
    "print(a or b or c)"
   ]
  },
  {
   "cell_type": "code",
   "execution_count": null,
   "id": "c934db29",
   "metadata": {},
   "outputs": [
    {
     "name": "stdout",
     "output_type": "stream",
     "text": [
      "True\n"
     ]
    }
   ],
   "source": [
    "# boleon 38 \n",
    "x1 = int(input(\"x1 = \"))\n",
    "y1 = int(input(\"y1 = \"))\n",
    "x2 = int(input(\"x2 = \"))\n",
    "y2 = int(input(\"y2 = \"))\n",
    "a = (abs(x1 - x2) == abs(y1 - y2))\n",
    "print(a)"
   ]
  },
  {
   "cell_type": "code",
   "execution_count": 35,
   "id": "85b7f309",
   "metadata": {},
   "outputs": [
    {
     "name": "stdout",
     "output_type": "stream",
     "text": [
      "True\n"
     ]
    }
   ],
   "source": [
    "# boleon 39 \n",
    "x1 = int(input(\"x1 = \"))\n",
    "y1 = int(input(\"y1 = \"))\n",
    "x2 = int(input(\"x2 = \"))\n",
    "y2 = int(input(\"y2 = \"))\n",
    "a = (x1 == x2 or y1 == y2)\n",
    "b =  (abs(x1 - x2) == abs(y1 - y2)) \n",
    "print(a or b)"
   ]
  },
  {
   "cell_type": "code",
   "execution_count": 36,
   "id": "c20087e9",
   "metadata": {},
   "outputs": [
    {
     "name": "stdout",
     "output_type": "stream",
     "text": [
      "False\n"
     ]
    }
   ],
   "source": [
    "# boleon 40 \n",
    "x1 = int(input(\"x1 = \"))\n",
    "y1 = int(input(\"y1 = \"))\n",
    "x2 = int(input(\"x2 = \"))\n",
    "y2 = int(input(\"y2 = \"))\n",
    "a = (x2 - 1 == x1 and y2 - 2 == y1) or (x2 + 1 == x1 and y2 - 2 == y1) or (x2 + 1 == x1 and y2 + 2 == y1) or (x2 - 1 == x1 and y2 + 2 == y1)\n",
    "b = (x2 - 2 == x1 and y2 - 1 == y1) or (x2 + 2 == x1 and y2 - 1 == y1) or (x1 - 2 == x2 and y1 - 1 == y2) or (x1 + 2 == y2 and y1 - 1 == y2)\n",
    "print(a or b)\n"
   ]
  }
 ],
 "metadata": {
  "kernelspec": {
   "display_name": "Python 3",
   "language": "python",
   "name": "python3"
  },
  "language_info": {
   "codemirror_mode": {
    "name": "ipython",
    "version": 3
   },
   "file_extension": ".py",
   "mimetype": "text/x-python",
   "name": "python",
   "nbconvert_exporter": "python",
   "pygments_lexer": "ipython3",
   "version": "3.12.3"
  }
 },
 "nbformat": 4,
 "nbformat_minor": 5
}
