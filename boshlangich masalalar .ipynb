{
 "cells": [
  {
   "cell_type": "code",
   "execution_count": 4,
   "id": "70e30b93",
   "metadata": {},
   "outputs": [
    {
     "name": "stdout",
     "output_type": "stream",
     "text": [
      "a=5\n",
      "20\n"
     ]
    }
   ],
   "source": [
    "# begin1\n",
    "a=int(input(\"a=\"))\n",
    "P=4* a\n",
    "print(P)"
   ]
  },
  {
   "cell_type": "code",
   "execution_count": 5,
   "id": "194cfa94",
   "metadata": {},
   "outputs": [
    {
     "name": "stdout",
     "output_type": "stream",
     "text": [
      "a=5\n",
      "25\n"
     ]
    }
   ],
   "source": [
    "# begin2 \n",
    "a=int(input(\"a=\"))\n",
    "S=a**2\n",
    "print(S)"
   ]
  },
  {
   "cell_type": "code",
   "execution_count": 7,
   "id": "9948fcfb",
   "metadata": {},
   "outputs": [
    {
     "name": "stdout",
     "output_type": "stream",
     "text": [
      "a=4\n",
      "b=7\n",
      "28 22\n"
     ]
    }
   ],
   "source": [
    "#begin3 \n",
    "a=int(input(\"a=\"))\n",
    "b=int(input(\"b=\"))\n",
    "S=a*b\n",
    "P=2*(a+b)\n",
    "print(S,P)"
   ]
  },
  {
   "cell_type": "code",
   "execution_count": 9,
   "id": "e9883fd7",
   "metadata": {},
   "outputs": [
    {
     "name": "stdout",
     "output_type": "stream",
     "text": [
      "d=5\n",
      "15.700000000000001\n"
     ]
    }
   ],
   "source": [
    "#begin4 \n",
    "d=int(input(\"d=\"))\n",
    "pi=3.14 \n",
    "L=pi*d\n",
    "print(L)"
   ]
  },
  {
   "cell_type": "code",
   "execution_count": 10,
   "id": "35c13a56",
   "metadata": {},
   "outputs": [
    {
     "name": "stdout",
     "output_type": "stream",
     "text": [
      "a=4\n",
      "64 96\n"
     ]
    }
   ],
   "source": [
    "#begin5\n",
    "a=int(input(\"a=\"))\n",
    "V=a**3\n",
    "S=6*a**2\n",
    "print(V,S)"
   ]
  },
  {
   "cell_type": "code",
   "execution_count": 11,
   "id": "dca93ad3",
   "metadata": {},
   "outputs": [
    {
     "name": "stdout",
     "output_type": "stream",
     "text": [
      "a=4\n",
      "b=5\n",
      "c=8\n",
      "160 184\n"
     ]
    }
   ],
   "source": [
    "#begin6 \n",
    "a=int(input(\"a=\"))\n",
    "b=int(input(\"b=\"))\n",
    "c=int(input(\"c=\"))\n",
    "V=a*b*c\n",
    "S=2*(a*b +b*c+ a*c)\n",
    "print(V,S)"
   ]
  },
  {
   "cell_type": "code",
   "execution_count": 12,
   "id": "0bd1cfbc",
   "metadata": {},
   "outputs": [
    {
     "name": "stdout",
     "output_type": "stream",
     "text": [
      "R=5\n",
      "31.400000000000002 78.5\n"
     ]
    }
   ],
   "source": [
    "#begin 7 \n",
    "R=int(input(\"R=\"))\n",
    "pi=3.14\n",
    "L=2*pi*R\n",
    "S=pi*R**2\n",
    "print(L,S)\n"
   ]
  },
  {
   "cell_type": "code",
   "execution_count": 13,
   "id": "c6f2223f",
   "metadata": {},
   "outputs": [
    {
     "name": "stdout",
     "output_type": "stream",
     "text": [
      "a=5\n",
      "b=4\n",
      "4.5\n"
     ]
    }
   ],
   "source": [
    "#begin8 \n",
    "a=int(input(\"a=\"))\n",
    "b=int(input(\"b=\"))\n",
    "S=(a+b)/2 \n",
    "print(S)"
   ]
  },
  {
   "cell_type": "code",
   "execution_count": 15,
   "id": "2a8e2b9d",
   "metadata": {},
   "outputs": [
    {
     "name": "stdout",
     "output_type": "stream",
     "text": [
      "a=1\n",
      "b=4\n",
      "2.0\n"
     ]
    }
   ],
   "source": [
    "#begin9\n",
    "a=int(input(\"a=\"))\n",
    "b=int(input(\"b=\"))\n",
    "S=(a*b)**1/2\n",
    "print(S)"
   ]
  },
  {
   "cell_type": "code",
   "execution_count": 16,
   "id": "a29d98ac",
   "metadata": {},
   "outputs": [
    {
     "name": "stdout",
     "output_type": "stream",
     "text": [
      "a=4\n",
      "b=5\n",
      "20 9 16 25\n"
     ]
    }
   ],
   "source": [
    "#begin10 \n",
    "a=int(input(\"a=\"))\n",
    "b=int(input(\"b=\"))\n",
    "S=a*b\n",
    "L=a+b\n",
    "print(S,L,a**2,b**2)"
   ]
  },
  {
   "cell_type": "code",
   "execution_count": null,
   "id": "115b725f",
   "metadata": {},
   "outputs": [],
   "source": [
    "#begin11\n"
   ]
  }
 ],
 "metadata": {
  "kernelspec": {
   "display_name": "Python 3 (ipykernel)",
   "language": "python",
   "name": "python3"
  },
  "language_info": {
   "codemirror_mode": {
    "name": "ipython",
    "version": 3
   },
   "file_extension": ".py",
   "mimetype": "text/x-python",
   "name": "python",
   "nbconvert_exporter": "python",
   "pygments_lexer": "ipython3",
   "version": "3.12.3"
  }
 },
 "nbformat": 4,
 "nbformat_minor": 5
}
