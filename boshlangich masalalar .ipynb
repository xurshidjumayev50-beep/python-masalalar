{
 "cells": [
  {
   "cell_type": "code",
   "execution_count": 4,
   "id": "70e30b93",
   "metadata": {},
   "outputs": [
    {
     "name": "stdout",
     "output_type": "stream",
     "text": [
      "a=5\n",
      "20\n"
     ]
    }
   ],
   "source": [
    "# begin1\n",
    "a=int(input(\"a=\"))\n",
    "P=4* a\n",
    "print(P)"
   ]
  },
  {
   "cell_type": "code",
   "execution_count": 5,
   "id": "194cfa94",
   "metadata": {},
   "outputs": [
    {
     "name": "stdout",
     "output_type": "stream",
     "text": [
      "a=5\n",
      "25\n"
     ]
    }
   ],
   "source": [
    "# begin2 \n",
    "a=int(input(\"a=\"))\n",
    "S=a**2\n",
    "print(S)"
   ]
  },
  {
   "cell_type": "code",
   "execution_count": 7,
   "id": "9948fcfb",
   "metadata": {},
   "outputs": [
    {
     "name": "stdout",
     "output_type": "stream",
     "text": [
      "a=4\n",
      "b=7\n",
      "28 22\n"
     ]
    }
   ],
   "source": [
    "#begin3 \n",
    "a=int(input(\"a=\"))\n",
    "b=int(input(\"b=\"))\n",
    "S=a*b\n",
    "P=2*(a+b)\n",
    "print(S,P)"
   ]
  },
  {
   "cell_type": "code",
   "execution_count": 9,
   "id": "e9883fd7",
   "metadata": {},
   "outputs": [
    {
     "name": "stdout",
     "output_type": "stream",
     "text": [
      "d=5\n",
      "15.700000000000001\n"
     ]
    }
   ],
   "source": [
    "#begin4 \n",
    "d=int(input(\"d=\"))\n",
    "pi=3.14 \n",
    "L=pi*d\n",
    "print(L)"
   ]
  },
  {
   "cell_type": "code",
   "execution_count": 10,
   "id": "35c13a56",
   "metadata": {},
   "outputs": [
    {
     "name": "stdout",
     "output_type": "stream",
     "text": [
      "a=4\n",
      "64 96\n"
     ]
    }
   ],
   "source": [
    "#begin5\n",
    "a=int(input(\"a=\"))\n",
    "V=a**3\n",
    "S=6*a**2\n",
    "print(V,S)"
   ]
  },
  {
   "cell_type": "code",
   "execution_count": 11,
   "id": "dca93ad3",
   "metadata": {},
   "outputs": [
    {
     "name": "stdout",
     "output_type": "stream",
     "text": [
      "a=4\n",
      "b=5\n",
      "c=8\n",
      "160 184\n"
     ]
    }
   ],
   "source": [
    "#begin6 \n",
    "a=int(input(\"a=\"))\n",
    "b=int(input(\"b=\"))\n",
    "c=int(input(\"c=\"))\n",
    "V=a*b*c\n",
    "S=2*(a*b +b*c+ a*c)\n",
    "print(V,S)"
   ]
  },
  {
   "cell_type": "code",
   "execution_count": 12,
   "id": "0bd1cfbc",
   "metadata": {},
   "outputs": [
    {
     "name": "stdout",
     "output_type": "stream",
     "text": [
      "R=5\n",
      "31.400000000000002 78.5\n"
     ]
    }
   ],
   "source": [
    "#begin 7 \n",
    "R=int(input(\"R=\"))\n",
    "pi=3.14\n",
    "L=2*pi*R\n",
    "S=pi*R**2\n",
    "print(L,S)\n"
   ]
  },
  {
   "cell_type": "code",
   "execution_count": 13,
   "id": "c6f2223f",
   "metadata": {},
   "outputs": [
    {
     "name": "stdout",
     "output_type": "stream",
     "text": [
      "a=5\n",
      "b=4\n",
      "4.5\n"
     ]
    }
   ],
   "source": [
    "#begin8 \n",
    "a=int(input(\"a=\"))\n",
    "b=int(input(\"b=\"))\n",
    "S=(a+b)/2 \n",
    "print(S)"
   ]
  },
  {
   "cell_type": "code",
   "execution_count": 15,
   "id": "2a8e2b9d",
   "metadata": {},
   "outputs": [
    {
     "name": "stdout",
     "output_type": "stream",
     "text": [
      "a=1\n",
      "b=4\n",
      "2.0\n"
     ]
    }
   ],
   "source": [
    "#begin9\n",
    "a=int(input(\"a=\"))\n",
    "b=int(input(\"b=\"))\n",
    "S=(a*b)**1/2\n",
    "print(S)"
   ]
  },
  {
   "cell_type": "code",
   "execution_count": 16,
   "id": "a29d98ac",
   "metadata": {},
   "outputs": [
    {
     "name": "stdout",
     "output_type": "stream",
     "text": [
      "a=4\n",
      "b=5\n",
      "20 9 16 25\n"
     ]
    }
   ],
   "source": [
    "#begin10 \n",
    "a=int(input(\"a=\"))\n",
    "b=int(input(\"b=\"))\n",
    "S=a*b\n",
    "L=a+b\n",
    "print(S,L,a**2,b**2)"
   ]
  },
  {
   "cell_type": "code",
   "execution_count": 3,
   "id": "115b725f",
   "metadata": {},
   "outputs": [
    {
     "name": "stdout",
     "output_type": "stream",
     "text": [
      "a=4\n",
      "b=-5\n",
      "-20 -1 4 5\n"
     ]
    }
   ],
   "source": [
    "#begin11\n",
    "a=int(input(\"a=\"))\n",
    "b=int(input(\"b=\"))\n",
    "S=a*b\n",
    "L=a+b\n",
    "T=abs(a)\n",
    "D=abs(b)\n",
    "print(S,L,T,D)"
   ]
  },
  {
   "cell_type": "code",
   "execution_count": 7,
   "id": "3900abe1",
   "metadata": {},
   "outputs": [
    {
     "name": "stdout",
     "output_type": "stream",
     "text": [
      "a=4\n",
      "b=3\n",
      "5.0 12.0\n"
     ]
    }
   ],
   "source": [
    "#begin12 \n",
    "import math\n",
    "a=int(input(\"a=\"))\n",
    "b=int(input(\"b=\"))\n",
    "c = math.sqrt(a**2 + b**2)\n",
    "P=a+b+c\n",
    "print(c,P)"
   ]
  },
  {
   "cell_type": "code",
   "execution_count": 12,
   "id": "bd639282",
   "metadata": {},
   "outputs": [
    {
     "name": "stdout",
     "output_type": "stream",
     "text": [
      "R1 = 4\n",
      "R2 = 2\n",
      "S1 = 50.24\n",
      "S2 = 12.56\n",
      "S3 = 37.68\n"
     ]
    }
   ],
   "source": [
    "# begin 13 \n",
    "R1 = int(input(\"R1 = \"))\n",
    "R2 = int(input(\"R2 = \"))\n",
    "pi = 3.14\n",
    "\n",
    "if R1 > R2:\n",
    "    S1 = pi * R1**2\n",
    "    S2 = pi * R2**2\n",
    "    S3 = S1 - S2\n",
    "    print(\"S1 =\", S1)\n",
    "    print(\"S2 =\", S2)\n",
    "    print(\"S3 =\", S3)\n"
   ]
  },
  {
   "cell_type": "code",
   "execution_count": 13,
   "id": "447990c1",
   "metadata": {},
   "outputs": [
    {
     "name": "stdout",
     "output_type": "stream",
     "text": [
      "L=4\n",
      "6.28 123.83657600000001\n"
     ]
    }
   ],
   "source": [
    "# begin 14 \n",
    "L=int(input(\"L=\"))\n",
    "PI=3.14\n",
    "R=L/2*PI\n",
    "S=PI*R**2\n",
    "print(R,S)"
   ]
  },
  {
   "cell_type": "code",
   "execution_count": 14,
   "id": "85f3c03a",
   "metadata": {},
   "outputs": [
    {
     "name": "stdout",
     "output_type": "stream",
     "text": [
      "S=45\n",
      "7.165605095541401 14.331210191082802\n"
     ]
    }
   ],
   "source": [
    "#begin15\n",
    "S=int(input(\"S=\"))\n",
    "pi=3.14 \n",
    "R=(S/pi)**1/2\n",
    "d=2*R\n",
    "print(R,d)"
   ]
  },
  {
   "cell_type": "code",
   "execution_count": 15,
   "id": "0603c261",
   "metadata": {},
   "outputs": [
    {
     "name": "stdout",
     "output_type": "stream",
     "text": [
      "x1=-4\n",
      "x2=8\n",
      "12\n"
     ]
    }
   ],
   "source": [
    "#begin16 \n",
    "x1=int(input(\"x1=\"))\n",
    "x2=int(input(\"x2=\"))\n",
    "x=abs(x2-x1)\n",
    "print(x)"
   ]
  },
  {
   "cell_type": "code",
   "execution_count": 17,
   "id": "c56a11a8",
   "metadata": {},
   "outputs": [
    {
     "name": "stdout",
     "output_type": "stream",
     "text": [
      "A=2\n",
      "b=4\n",
      "C=8\n",
      "12\n"
     ]
    }
   ],
   "source": [
    "# begin 17 \n",
    "A=int(input(\"A=\"))\n",
    "B=int(input(\"b=\"))\n",
    "C=int(input(\"C=\"))\n",
    "X=C-A\n",
    "Y=C-A\n",
    "print(X+Y)"
   ]
  },
  {
   "cell_type": "code",
   "execution_count": 19,
   "id": "233ef5d8",
   "metadata": {},
   "outputs": [
    {
     "name": "stdout",
     "output_type": "stream",
     "text": [
      "A=2\n",
      "B=8\n",
      "C=4\n",
      "8\n"
     ]
    }
   ],
   "source": [
    "# begin18\n",
    "A=int(input(\"A=\"))\n",
    "B=int(input(\"B=\"))\n",
    "C=int(input(\"C=\"))\n",
    "X=C-A\n",
    "Y=B-C\n",
    "print(X*Y)"
   ]
  },
  {
   "cell_type": "code",
   "execution_count": 20,
   "id": "e09763da",
   "metadata": {},
   "outputs": [
    {
     "name": "stdout",
     "output_type": "stream",
     "text": [
      "x1=1\n",
      "x2=8\n",
      "y1=5\n",
      "y2=9\n",
      "22 28\n"
     ]
    }
   ],
   "source": [
    "# begin19 \n",
    "x1=int(input(\"x1=\"))\n",
    "x2=int(input(\"x2=\"))\n",
    "y1=int(input(\"y1=\"))\n",
    "y2=int(input(\"y2=\"))\n",
    "x=abs(x2-x1)\n",
    "y=abs(y2-y1)\n",
    "P=2*(x+y)\n",
    "S=x*y\n",
    "print(P,S)"
   ]
  },
  {
   "cell_type": "code",
   "execution_count": 22,
   "id": "961edcc4",
   "metadata": {},
   "outputs": [
    {
     "name": "stdout",
     "output_type": "stream",
     "text": [
      "x1=4\n",
      "x2=7\n",
      "y1=5\n",
      "y2=6\n",
      "3.1622776601683795\n"
     ]
    }
   ],
   "source": [
    "#begin20 \n",
    "import math\n",
    "x1=int(input(\"x1=\"))\n",
    "x2=int(input(\"x2=\"))\n",
    "y1=int(input(\"y1=\"))\n",
    "y2=int(input(\"y2=\"))\n",
    "S=math.sqrt((x2-x1)**2 + (y2-y1)**2)\n",
    "print(S)"
   ]
  },
  {
   "cell_type": "code",
   "execution_count": 23,
   "id": "544faed5",
   "metadata": {},
   "outputs": [
    {
     "name": "stdout",
     "output_type": "stream",
     "text": [
      "x1=1\n",
      "x2=4\n",
      "x3=7\n",
      "y1=2\n",
      "y2=5\n",
      "y3=8\n",
      "7.741931283601018 17.727922061357855\n"
     ]
    }
   ],
   "source": [
    "# begin 21 \n",
    "import math\n",
    "x1=int(input(\"x1=\"))\n",
    "x2=int(input(\"x2=\"))\n",
    "x3=int(input(\"x3=\"))\n",
    "y1=int(input(\"y1=\"))\n",
    "y2=int(input(\"y2=\"))\n",
    "y3=int(input(\"y3=\"))\n",
    "a=math.sqrt((x2-x1)**2 + (y2-y1)**2)\n",
    "b=math.sqrt((x3-x2)**2 + (y3-y2)**2)\n",
    "a=math.sqrt((x3-x1)**2 + (y3-y1)**2)\n",
    "p=(a+b+c)/2\n",
    "S=math.sqrt(p*(p-a)*(p-b)*(p-c))\n",
    "P=p*2\n",
    "print(S,P)"
   ]
  },
  {
   "cell_type": "code",
   "execution_count": 24,
   "id": "2b62f8f2",
   "metadata": {},
   "outputs": [
    {
     "name": "stdout",
     "output_type": "stream",
     "text": [
      "a=4\n",
      "b=7\n",
      "7 4\n"
     ]
    }
   ],
   "source": [
    "# begin22 \n",
    "a=int(input(\"a=\"))\n",
    "b=int(input(\"b=\"))\n",
    "a,b=b,a\n",
    "print(a,b)"
   ]
  },
  {
   "cell_type": "code",
   "execution_count": 25,
   "id": "dc5ba64a",
   "metadata": {},
   "outputs": [
    {
     "name": "stdout",
     "output_type": "stream",
     "text": [
      "a=4\n",
      "b=7\n",
      "c=8\n",
      "4 8 7\n"
     ]
    }
   ],
   "source": [
    "# begin23\n",
    "a=int(input(\"a=\"))\n",
    "b=int(input(\"b=\"))\n",
    "c=int(input(\"c=\"))\n",
    "a,b=b,a\n",
    "b,c=c,b\n",
    "c,a=a,c\n",
    "print(a,b,c)"
   ]
  },
  {
   "cell_type": "code",
   "execution_count": 26,
   "id": "bb9a7300",
   "metadata": {},
   "outputs": [
    {
     "name": "stdout",
     "output_type": "stream",
     "text": [
      "a=4\n",
      "b=8\n",
      "c=5\n",
      "4 5 8\n"
     ]
    }
   ],
   "source": [
    "# begin 24 \n",
    "a=int(input(\"a=\"))\n",
    "b=int(input(\"b=\"))\n",
    "c=int(input(\"c=\"))\n",
    "a,c=c,a\n",
    "c,b=b,c\n",
    "b,a=a,b\n",
    "print(a,b,c)"
   ]
  },
  {
   "cell_type": "code",
   "execution_count": 28,
   "id": "f94833a0",
   "metadata": {},
   "outputs": [
    {
     "name": "stdout",
     "output_type": "stream",
     "text": [
      "x=1\n",
      "-10\n"
     ]
    }
   ],
   "source": [
    "# begin25 \n",
    "x=int(input(\"x=\"))\n",
    "y=3*x**6-6*x**2 - 7\n",
    "print(y)"
   ]
  },
  {
   "cell_type": "code",
   "execution_count": 30,
   "id": "b7c9573d",
   "metadata": {},
   "outputs": [
    {
     "name": "stdout",
     "output_type": "stream",
     "text": [
      "x=1\n",
      "314\n"
     ]
    }
   ],
   "source": [
    "# begin26 \n",
    "x=int(input(\"x=\"))\n",
    "y=4*(x-3)**6-7*(x-3)**3+ 2\n",
    "print(y)"
   ]
  },
  {
   "cell_type": "code",
   "execution_count": null,
   "id": "51613586",
   "metadata": {},
   "outputs": [],
   "source": [
    "# begin 27 \n",
    "A=int(input(\"A= \"))\n"
   ]
  }
 ],
 "metadata": {
  "kernelspec": {
   "display_name": "Python 3 (ipykernel)",
   "language": "python",
   "name": "python3"
  },
  "language_info": {
   "codemirror_mode": {
    "name": "ipython",
    "version": 3
   },
   "file_extension": ".py",
   "mimetype": "text/x-python",
   "name": "python",
   "nbconvert_exporter": "python",
   "pygments_lexer": "ipython3",
   "version": "3.12.3"
  }
 },
 "nbformat": 4,
 "nbformat_minor": 5
}
