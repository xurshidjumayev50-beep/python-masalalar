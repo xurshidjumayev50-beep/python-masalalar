{
 "cells": [
  {
   "cell_type": "code",
   "execution_count": 4,
   "id": "70e30b93",
   "metadata": {},
   "outputs": [
    {
     "name": "stdout",
     "output_type": "stream",
     "text": [
      "a=5\n",
      "20\n"
     ]
    }
   ],
   "source": [
    "# begin1\n",
    "a=int(input(\"a=\"))\n",
    "P=4* a\n",
    "print(P)"
   ]
  },
  {
   "cell_type": "code",
   "execution_count": 5,
   "id": "194cfa94",
   "metadata": {},
   "outputs": [
    {
     "name": "stdout",
     "output_type": "stream",
     "text": [
      "a=5\n",
      "25\n"
     ]
    }
   ],
   "source": [
    "# begin2 \n",
    "a=int(input(\"a=\"))\n",
    "S=a**2\n",
    "print(S)"
   ]
  },
  {
   "cell_type": "code",
   "execution_count": 7,
   "id": "9948fcfb",
   "metadata": {},
   "outputs": [
    {
     "name": "stdout",
     "output_type": "stream",
     "text": [
      "a=4\n",
      "b=7\n",
      "28 22\n"
     ]
    }
   ],
   "source": [
    "#begin3 \n",
    "a=int(input(\"a=\"))\n",
    "b=int(input(\"b=\"))\n",
    "S=a*b\n",
    "P=2*(a+b)\n",
    "print(S,P)"
   ]
  },
  {
   "cell_type": "code",
   "execution_count": 9,
   "id": "e9883fd7",
   "metadata": {},
   "outputs": [
    {
     "name": "stdout",
     "output_type": "stream",
     "text": [
      "d=5\n",
      "15.700000000000001\n"
     ]
    }
   ],
   "source": [
    "#begin4 \n",
    "d=int(input(\"d=\"))\n",
    "pi=3.14 \n",
    "L=pi*d\n",
    "print(L)"
   ]
  },
  {
   "cell_type": "code",
   "execution_count": 10,
   "id": "35c13a56",
   "metadata": {},
   "outputs": [
    {
     "name": "stdout",
     "output_type": "stream",
     "text": [
      "a=4\n",
      "64 96\n"
     ]
    }
   ],
   "source": [
    "#begin5\n",
    "a=int(input(\"a=\"))\n",
    "V=a**3\n",
    "S=6*a**2\n",
    "print(V,S)"
   ]
  },
  {
   "cell_type": "code",
   "execution_count": 11,
   "id": "dca93ad3",
   "metadata": {},
   "outputs": [
    {
     "name": "stdout",
     "output_type": "stream",
     "text": [
      "a=4\n",
      "b=5\n",
      "c=8\n",
      "160 184\n"
     ]
    }
   ],
   "source": [
    "#begin6 \n",
    "a=int(input(\"a=\"))\n",
    "b=int(input(\"b=\"))\n",
    "c=int(input(\"c=\"))\n",
    "V=a*b*c\n",
    "S=2*(a*b +b*c+ a*c)\n",
    "print(V,S)"
   ]
  },
  {
   "cell_type": "code",
   "execution_count": 12,
   "id": "0bd1cfbc",
   "metadata": {},
   "outputs": [
    {
     "name": "stdout",
     "output_type": "stream",
     "text": [
      "R=5\n",
      "31.400000000000002 78.5\n"
     ]
    }
   ],
   "source": [
    "#begin 7 \n",
    "R=int(input(\"R=\"))\n",
    "pi=3.14\n",
    "L=2*pi*R\n",
    "S=pi*R**2\n",
    "print(L,S)\n"
   ]
  },
  {
   "cell_type": "code",
   "execution_count": 13,
   "id": "c6f2223f",
   "metadata": {},
   "outputs": [
    {
     "name": "stdout",
     "output_type": "stream",
     "text": [
      "a=5\n",
      "b=4\n",
      "4.5\n"
     ]
    }
   ],
   "source": [
    "#begin8 \n",
    "a=int(input(\"a=\"))\n",
    "b=int(input(\"b=\"))\n",
    "S=(a+b)/2 \n",
    "print(S)"
   ]
  },
  {
   "cell_type": "code",
   "execution_count": 15,
   "id": "2a8e2b9d",
   "metadata": {},
   "outputs": [
    {
     "name": "stdout",
     "output_type": "stream",
     "text": [
      "a=1\n",
      "b=4\n",
      "2.0\n"
     ]
    }
   ],
   "source": [
    "#begin9\n",
    "a=int(input(\"a=\"))\n",
    "b=int(input(\"b=\"))\n",
    "S=(a*b)**1/2\n",
    "print(S)"
   ]
  },
  {
   "cell_type": "code",
   "execution_count": 16,
   "id": "a29d98ac",
   "metadata": {},
   "outputs": [
    {
     "name": "stdout",
     "output_type": "stream",
     "text": [
      "a=4\n",
      "b=5\n",
      "20 9 16 25\n"
     ]
    }
   ],
   "source": [
    "#begin10 \n",
    "a=int(input(\"a=\"))\n",
    "b=int(input(\"b=\"))\n",
    "S=a*b\n",
    "L=a+b\n",
    "print(S,L,a**2,b**2)"
   ]
  },
  {
   "cell_type": "code",
   "execution_count": 3,
   "id": "115b725f",
   "metadata": {},
   "outputs": [
    {
     "name": "stdout",
     "output_type": "stream",
     "text": [
      "a=4\n",
      "b=-5\n",
      "-20 -1 4 5\n"
     ]
    }
   ],
   "source": [
    "#begin11\n",
    "a=int(input(\"a=\"))\n",
    "b=int(input(\"b=\"))\n",
    "S=a*b\n",
    "L=a+b\n",
    "T=abs(a)\n",
    "D=abs(b)\n",
    "print(S,L,T,D)"
   ]
  },
  {
   "cell_type": "code",
   "execution_count": 7,
   "id": "3900abe1",
   "metadata": {},
   "outputs": [
    {
     "name": "stdout",
     "output_type": "stream",
     "text": [
      "a=4\n",
      "b=3\n",
      "5.0 12.0\n"
     ]
    }
   ],
   "source": [
    "#begin12 \n",
    "import math\n",
    "a=int(input(\"a=\"))\n",
    "b=int(input(\"b=\"))\n",
    "c = math.sqrt(a**2 + b**2)\n",
    "P=a+b+c\n",
    "print(c,P)"
   ]
  },
  {
   "cell_type": "code",
   "execution_count": 12,
   "id": "bd639282",
   "metadata": {},
   "outputs": [
    {
     "name": "stdout",
     "output_type": "stream",
     "text": [
      "R1 = 4\n",
      "R2 = 2\n",
      "S1 = 50.24\n",
      "S2 = 12.56\n",
      "S3 = 37.68\n"
     ]
    }
   ],
   "source": [
    "# begin 13 \n",
    "R1 = int(input(\"R1 = \"))\n",
    "R2 = int(input(\"R2 = \"))\n",
    "pi = 3.14\n",
    "\n",
    "if R1 > R2:\n",
    "    S1 = pi * R1**2\n",
    "    S2 = pi * R2**2\n",
    "    S3 = S1 - S2\n",
    "    print(\"S1 =\", S1)\n",
    "    print(\"S2 =\", S2)\n",
    "    print(\"S3 =\", S3)\n"
   ]
  },
  {
   "cell_type": "code",
   "execution_count": 13,
   "id": "447990c1",
   "metadata": {},
   "outputs": [
    {
     "name": "stdout",
     "output_type": "stream",
     "text": [
      "L=4\n",
      "6.28 123.83657600000001\n"
     ]
    }
   ],
   "source": [
    "# begin 14 \n",
    "L=int(input(\"L=\"))\n",
    "PI=3.14\n",
    "R=L/2*PI\n",
    "S=PI*R**2\n",
    "print(R,S)"
   ]
  },
  {
   "cell_type": "code",
   "execution_count": 14,
   "id": "85f3c03a",
   "metadata": {},
   "outputs": [
    {
     "name": "stdout",
     "output_type": "stream",
     "text": [
      "S=45\n",
      "7.165605095541401 14.331210191082802\n"
     ]
    }
   ],
   "source": [
    "#begin15\n",
    "S=int(input(\"S=\"))\n",
    "pi=3.14 \n",
    "R=(S/pi)**1/2\n",
    "d=2*R\n",
    "print(R,d)"
   ]
  },
  {
   "cell_type": "code",
   "execution_count": 15,
   "id": "0603c261",
   "metadata": {},
   "outputs": [
    {
     "name": "stdout",
     "output_type": "stream",
     "text": [
      "x1=-4\n",
      "x2=8\n",
      "12\n"
     ]
    }
   ],
   "source": [
    "#begin16 \n",
    "x1=int(input(\"x1=\"))\n",
    "x2=int(input(\"x2=\"))\n",
    "x=abs(x2-x1)\n",
    "print(x)"
   ]
  },
  {
   "cell_type": "code",
   "execution_count": 17,
   "id": "c56a11a8",
   "metadata": {},
   "outputs": [
    {
     "name": "stdout",
     "output_type": "stream",
     "text": [
      "A=2\n",
      "b=4\n",
      "C=8\n",
      "12\n"
     ]
    }
   ],
   "source": [
    "# begin 17 \n",
    "A=int(input(\"A=\"))\n",
    "B=int(input(\"b=\"))\n",
    "C=int(input(\"C=\"))\n",
    "X=C-A\n",
    "Y=C-A\n",
    "print(X+Y)"
   ]
  },
  {
   "cell_type": "code",
   "execution_count": 19,
   "id": "233ef5d8",
   "metadata": {},
   "outputs": [
    {
     "name": "stdout",
     "output_type": "stream",
     "text": [
      "A=2\n",
      "B=8\n",
      "C=4\n",
      "8\n"
     ]
    }
   ],
   "source": [
    "# begin18\n",
    "A=int(input(\"A=\"))\n",
    "B=int(input(\"B=\"))\n",
    "C=int(input(\"C=\"))\n",
    "X=C-A\n",
    "Y=B-C\n",
    "print(X*Y)"
   ]
  },
  {
   "cell_type": "code",
   "execution_count": 20,
   "id": "e09763da",
   "metadata": {},
   "outputs": [
    {
     "name": "stdout",
     "output_type": "stream",
     "text": [
      "x1=1\n",
      "x2=8\n",
      "y1=5\n",
      "y2=9\n",
      "22 28\n"
     ]
    }
   ],
   "source": [
    "# begin19 \n",
    "x1=int(input(\"x1=\"))\n",
    "x2=int(input(\"x2=\"))\n",
    "y1=int(input(\"y1=\"))\n",
    "y2=int(input(\"y2=\"))\n",
    "x=abs(x2-x1)\n",
    "y=abs(y2-y1)\n",
    "P=2*(x+y)\n",
    "S=x*y\n",
    "print(P,S)"
   ]
  },
  {
   "cell_type": "code",
   "execution_count": 22,
   "id": "961edcc4",
   "metadata": {},
   "outputs": [
    {
     "name": "stdout",
     "output_type": "stream",
     "text": [
      "x1=4\n",
      "x2=7\n",
      "y1=5\n",
      "y2=6\n",
      "3.1622776601683795\n"
     ]
    }
   ],
   "source": [
    "#begin20 \n",
    "import math\n",
    "x1=int(input(\"x1=\"))\n",
    "x2=int(input(\"x2=\"))\n",
    "y1=int(input(\"y1=\"))\n",
    "y2=int(input(\"y2=\"))\n",
    "S=math.sqrt((x2-x1)**2 + (y2-y1)**2)\n",
    "print(S)"
   ]
  },
  {
   "cell_type": "code",
   "execution_count": 23,
   "id": "544faed5",
   "metadata": {},
   "outputs": [
    {
     "name": "stdout",
     "output_type": "stream",
     "text": [
      "x1=1\n",
      "x2=4\n",
      "x3=7\n",
      "y1=2\n",
      "y2=5\n",
      "y3=8\n",
      "7.741931283601018 17.727922061357855\n"
     ]
    }
   ],
   "source": [
    "# begin 21 \n",
    "import math\n",
    "x1=int(input(\"x1=\"))\n",
    "x2=int(input(\"x2=\"))\n",
    "x3=int(input(\"x3=\"))\n",
    "y1=int(input(\"y1=\"))\n",
    "y2=int(input(\"y2=\"))\n",
    "y3=int(input(\"y3=\"))\n",
    "a=math.sqrt((x2-x1)**2 + (y2-y1)**2)\n",
    "b=math.sqrt((x3-x2)**2 + (y3-y2)**2)\n",
    "a=math.sqrt((x3-x1)**2 + (y3-y1)**2)\n",
    "p=(a+b+c)/2\n",
    "S=math.sqrt(p*(p-a)*(p-b)*(p-c))\n",
    "P=p*2\n",
    "print(S,P)"
   ]
  },
  {
   "cell_type": "code",
   "execution_count": 24,
   "id": "2b62f8f2",
   "metadata": {},
   "outputs": [
    {
     "name": "stdout",
     "output_type": "stream",
     "text": [
      "a=4\n",
      "b=7\n",
      "7 4\n"
     ]
    }
   ],
   "source": [
    "# begin22 \n",
    "a=int(input(\"a=\"))\n",
    "b=int(input(\"b=\"))\n",
    "a,b=b,a\n",
    "print(a,b)"
   ]
  },
  {
   "cell_type": "code",
   "execution_count": 25,
   "id": "dc5ba64a",
   "metadata": {},
   "outputs": [
    {
     "name": "stdout",
     "output_type": "stream",
     "text": [
      "a=4\n",
      "b=7\n",
      "c=8\n",
      "4 8 7\n"
     ]
    }
   ],
   "source": [
    "# begin23\n",
    "a=int(input(\"a=\"))\n",
    "b=int(input(\"b=\"))\n",
    "c=int(input(\"c=\"))\n",
    "a,b=b,a\n",
    "b,c=c,b\n",
    "c,a=a,c\n",
    "print(a,b,c)"
   ]
  },
  {
   "cell_type": "code",
   "execution_count": 26,
   "id": "bb9a7300",
   "metadata": {},
   "outputs": [
    {
     "name": "stdout",
     "output_type": "stream",
     "text": [
      "a=4\n",
      "b=8\n",
      "c=5\n",
      "4 5 8\n"
     ]
    }
   ],
   "source": [
    "# begin 24 \n",
    "a=int(input(\"a=\"))\n",
    "b=int(input(\"b=\"))\n",
    "c=int(input(\"c=\"))\n",
    "a,c=c,a\n",
    "c,b=b,c\n",
    "b,a=a,b\n",
    "print(a,b,c)"
   ]
  },
  {
   "cell_type": "code",
   "execution_count": 28,
   "id": "f94833a0",
   "metadata": {},
   "outputs": [
    {
     "name": "stdout",
     "output_type": "stream",
     "text": [
      "x=1\n",
      "-10\n"
     ]
    }
   ],
   "source": [
    "# begin25 \n",
    "x=int(input(\"x=\"))\n",
    "y=3*x**6-6*x**2 - 7\n",
    "print(y)"
   ]
  },
  {
   "cell_type": "code",
   "execution_count": 30,
   "id": "b7c9573d",
   "metadata": {},
   "outputs": [
    {
     "name": "stdout",
     "output_type": "stream",
     "text": [
      "x=1\n",
      "314\n"
     ]
    }
   ],
   "source": [
    "# begin26 \n",
    "x=int(input(\"x=\"))\n",
    "y=4*(x-3)**6-7*(x-3)**3+ 2\n",
    "print(y)"
   ]
  },
  {
   "cell_type": "code",
   "execution_count": 1,
   "id": "51613586",
   "metadata": {},
   "outputs": [
    {
     "name": "stdout",
     "output_type": "stream",
     "text": [
      "A= 5\n",
      "25 625 390625\n"
     ]
    }
   ],
   "source": [
    "# begin 27 \n",
    "A=int(input(\"A= \"))\n",
    "print(A**2,A**4,A**8 )\n"
   ]
  },
  {
   "cell_type": "code",
   "execution_count": 2,
   "id": "f82c6f60",
   "metadata": {},
   "outputs": [
    {
     "name": "stdout",
     "output_type": "stream",
     "text": [
      "A=4\n",
      "16 64 1024 1048576 1073741824\n"
     ]
    }
   ],
   "source": [
    "# begin28\n",
    "A=int(input(\"A=\"))\n",
    "\n",
    "print(A**2,A**3,A**5,A**10,A**15)\n",
    "\n"
   ]
  },
  {
   "cell_type": "code",
   "execution_count": 12,
   "id": "8c6ff700",
   "metadata": {},
   "outputs": [
    {
     "name": "stdout",
     "output_type": "stream",
     "text": [
      "a=30\n",
      "0.5235987755982988\n"
     ]
    }
   ],
   "source": [
    "# begin29\n",
    "import math\n",
    "a=float(input(\"a=\"))\n",
    "pi=180\n",
    "if 0<a and a<2*pi:\n",
    "    x=a*math .pi/180\n",
    "    print(x)"
   ]
  },
  {
   "cell_type": "code",
   "execution_count": 11,
   "id": "45243791",
   "metadata": {},
   "outputs": [
    {
     "name": "stdout",
     "output_type": "stream",
     "text": [
      "a=4\n",
      "229.1831180523293\n"
     ]
    }
   ],
   "source": [
    "# begin30\n",
    "import math\n",
    "a=float(input(\"a=\"))\n",
    "pi=180\n",
    "if 0<a and a<2*pi:\n",
    "    x=a*180/math .pi\n",
    "    print(x)"
   ]
  },
  {
   "cell_type": "code",
   "execution_count": 14,
   "id": "6c3021e5",
   "metadata": {},
   "outputs": [
    {
     "name": "stdout",
     "output_type": "stream",
     "text": [
      "Tf=54\n",
      "12.222222222222221\n"
     ]
    }
   ],
   "source": [
    "# begin31\n",
    "Tf=int(input(\"Tf=\"))\n",
    "Tc=(Tf-32)* 5/9\n",
    "print(Tc)"
   ]
  },
  {
   "cell_type": "code",
   "execution_count": 15,
   "id": "1014cd7b",
   "metadata": {},
   "outputs": [
    {
     "name": "stdout",
     "output_type": "stream",
     "text": [
      "T_C=21\n",
      "69.8\n"
     ]
    }
   ],
   "source": [
    "# begin 32 \n",
    "\n",
    "T_C=float(input(\"T_C=\"))\n",
    "T_F=(T_C * 9/5)+32\n",
    "print(T_F)"
   ]
  },
  {
   "cell_type": "code",
   "execution_count": 17,
   "id": "e10091c4",
   "metadata": {},
   "outputs": [
    {
     "name": "stdout",
     "output_type": "stream",
     "text": [
      "X=4\n",
      "A=8\n",
      "Y=2\n",
      "2.0 4.0\n"
     ]
    }
   ],
   "source": [
    "# begin33\n",
    "X=int(input(\"X=\"))\n",
    "A=int(input(\"A=\"))\n",
    "Y=int(input(\"Y=\"))\n",
    "T=A/X\n",
    "D=Y*T\n",
    "print(T,D)"
   ]
  },
  {
   "cell_type": "code",
   "execution_count": 18,
   "id": "96c33264",
   "metadata": {},
   "outputs": [
    {
     "name": "stdout",
     "output_type": "stream",
     "text": [
      "X=1\n",
      "A=4\n",
      "Y=2\n",
      "B=8\n",
      "0.0\n"
     ]
    }
   ],
   "source": [
    "# begin 34 \n",
    "X=int(input(\"X=\"))\n",
    "A=int(input(\"A=\"))\n",
    "Y=int(input(\"Y=\"))\n",
    "B=int(input(\"B=\"))\n",
    "D=A/X #konfetni 1kg narxi \n",
    "C=B/Y # 1 kg shokalatni narxi\n",
    "V=C-D\n",
    "print(V)"
   ]
  },
  {
   "cell_type": "code",
   "execution_count": 19,
   "id": "cc06b4f8",
   "metadata": {},
   "outputs": [
    {
     "name": "stdout",
     "output_type": "stream",
     "text": [
      "a=4\n",
      "b=2\n",
      "T1=5\n",
      "T2=7\n",
      "44\n"
     ]
    }
   ],
   "source": [
    "# begin 35 \n",
    "a=int(input(\"a=\"))# qayiqni tezligi\n",
    "b=int(input(\"b=\")) #oqimni tezligi \n",
    "T1=int(input(\"T1=\"))\n",
    "T2=int(input(\"T2=\"))\n",
    "\n",
    "S1=T1*(a+b)\n",
    "S2=T2*(a-b)\n",
    "S=S1+S2\n",
    "print(S)\n"
   ]
  },
  {
   "cell_type": "code",
   "execution_count": 20,
   "id": "15634a16",
   "metadata": {},
   "outputs": [
    {
     "name": "stdout",
     "output_type": "stream",
     "text": [
      "V1=4\n",
      "V2=5\n",
      "S=8\n",
      "T=2\n",
      "10.0\n"
     ]
    }
   ],
   "source": [
    "# begin36\n",
    "\n",
    "V1=float(input(\"V1=\"))\n",
    "V2=float(input(\"V2=\"))\n",
    "S=float(input(\"S=\"))\n",
    "T=float(input(\"T=\"))\n",
    "X=abs(S-(V1+V2)* T)\n",
    "print(X)"
   ]
  },
  {
   "cell_type": "code",
   "execution_count": 21,
   "id": "dc8dd047",
   "metadata": {},
   "outputs": [
    {
     "name": "stdout",
     "output_type": "stream",
     "text": [
      "V1=7\n",
      "V2=4\n",
      "S=4\n",
      "T=5\n",
      "19.0\n"
     ]
    }
   ],
   "source": [
    "# begin 37 \n",
    "V1=float(input(\"V1=\"))\n",
    "V2=float(input(\"V2=\"))\n",
    "S=float(input(\"S=\"))\n",
    "T=float(input(\"T=\"))\n",
    "X=S+(V1-V2)* T\n",
    "print(X)"
   ]
  },
  {
   "cell_type": "code",
   "execution_count": 24,
   "id": "f65482d4",
   "metadata": {},
   "outputs": [
    {
     "name": "stdout",
     "output_type": "stream",
     "text": [
      "a=5\n",
      "b=8\n",
      "-1.6\n"
     ]
    }
   ],
   "source": [
    "# begin 38 \n",
    "a=float(input(\"a=\"))\n",
    "b=float(input(\"b=\"))\n",
    "x=-b/a\n",
    "print(x)"
   ]
  },
  {
   "cell_type": "code",
   "execution_count": 33,
   "id": "6e7b4cad",
   "metadata": {},
   "outputs": [
    {
     "name": "stdout",
     "output_type": "stream",
     "text": [
      "a = 2\n",
      "b = 5\n",
      "c = 4\n",
      "Haqiqiy yechim yo'q (kompleks sonlar).\n"
     ]
    }
   ],
   "source": [
    "# begin 39 \n",
    "import math\n",
    "\n",
    "a = float(input(\"a = \"))\n",
    "b = float(input(\"b = \"))\n",
    "c = float(input(\"c = \"))\n",
    "\n",
    "if a != 0:\n",
    "    D = b**2 - 4*a*c\n",
    "\n",
    "    if D > 0:\n",
    "        x1 = (-b - math.sqrt(D)) / (2 * a)\n",
    "        x2 = (-b + math.sqrt(D)) / (2 * a)\n",
    "        print( x1, x2)\n",
    "    elif D == 0:\n",
    "        x = -b / (2 * a)\n",
    "        print(\"Bitta haqiqiy yechim:\", x)\n",
    "\n",
    "    else:\n",
    "        print(\"Haqiqiy yechim yo'q \")\n",
    "\n",
    "else:\n",
    "    print(\"a = 0 bo'lganda bu kvadrat tenglama emas.\")\n",
    "\n",
    "\n"
   ]
  },
  {
   "cell_type": "code",
   "execution_count": 35,
   "id": "6736d7b6",
   "metadata": {},
   "outputs": [
    {
     "name": "stdout",
     "output_type": "stream",
     "text": [
      "A1 = 1\n",
      "B1 = 1\n",
      "C1 = 1\n",
      "A2 =1\n",
      "B2 =1\n",
      "C2 =1\n",
      "Sistema yechimga ega emas yoki cheksiz ko'p yechimga ega\n"
     ]
    }
   ],
   "source": [
    "# begin 40 \n",
    "A1 = float(input(\"A1 = \"))\n",
    "B1 = float(input(\"B1 = \"))\n",
    "C1 = float(input(\"C1 = \"))\n",
    "A2 = float(input(\"A2 =\"))\n",
    "B2 = float(input(\"B2 =\"))\n",
    "C2 = float(input(\"C2 =\"))\n",
    "\n",
    "D = A1 * B2 - A2 * B1\n",
    "\n",
    "if D == 0:\n",
    "    print(\"Sistema yechimga ega emas yoki cheksiz ko'p yechimga ega\")\n",
    "else:\n",
    "    x = (C1 * B2 - C2 * B1) / D\n",
    "    y = (A1 * C2 - A2 * C1) / D\n",
    "    print(X)\n",
    "    print(Y)"
   ]
  }
 ],
 "metadata": {
  "kernelspec": {
   "display_name": "Python 3 (ipykernel)",
   "language": "python",
   "name": "python3"
  },
  "language_info": {
   "codemirror_mode": {
    "name": "ipython",
    "version": 3
   },
   "file_extension": ".py",
   "mimetype": "text/x-python",
   "name": "python",
   "nbconvert_exporter": "python",
   "pygments_lexer": "ipython3",
   "version": "3.12.3"
  }
 },
 "nbformat": 4,
 "nbformat_minor": 5
}
