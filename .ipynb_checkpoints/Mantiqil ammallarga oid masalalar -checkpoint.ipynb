{
 "cells": [
  {
   "cell_type": "code",
   "execution_count": 2,
   "id": "c5153761",
   "metadata": {},
   "outputs": [
    {
     "name": "stdout",
     "output_type": "stream",
     "text": [
      "A=-7\n",
      "False\n"
     ]
    }
   ],
   "source": [
    "# bolleon 1\n",
    "A=int(input(\"A=\"))\n",
    "print(A>0)"
   ]
  },
  {
   "cell_type": "code",
   "execution_count": 8,
   "id": "4ea5f0a8",
   "metadata": {},
   "outputs": [
    {
     "name": "stdout",
     "output_type": "stream",
     "text": [
      "A=7\n",
      "True\n"
     ]
    }
   ],
   "source": [
    "#  boleon 2\n",
    "A=int(input(\"A=\"))\n",
    "print(A%2==1)"
   ]
  },
  {
   "cell_type": "code",
   "execution_count": 10,
   "id": "ee46542f",
   "metadata": {},
   "outputs": [
    {
     "name": "stdout",
     "output_type": "stream",
     "text": [
      "A=7\n",
      "False\n"
     ]
    }
   ],
   "source": [
    "# boleon 3 \n",
    "A=int(input(\"A=\"))\n",
    "print(A%2==0)"
   ]
  },
  {
   "cell_type": "code",
   "execution_count": null,
   "id": "83a7c51f",
   "metadata": {},
   "outputs": [],
   "source": [
    "# boleon 4\n"
   ]
  }
 ],
 "metadata": {
  "kernelspec": {
   "display_name": "Python 3 (ipykernel)",
   "language": "python",
   "name": "python3"
  },
  "language_info": {
   "codemirror_mode": {
    "name": "ipython",
    "version": 3
   },
   "file_extension": ".py",
   "mimetype": "text/x-python",
   "name": "python",
   "nbconvert_exporter": "python",
   "pygments_lexer": "ipython3",
   "version": "3.12.3"
  }
 },
 "nbformat": 4,
 "nbformat_minor": 5
}
