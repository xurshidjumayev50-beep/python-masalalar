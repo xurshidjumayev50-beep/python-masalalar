{
 "cells": [
  {
   "cell_type": "code",
   "execution_count": 3,
   "id": "a778b8d4",
   "metadata": {},
   "outputs": [
    {
     "name": "stdout",
     "output_type": "stream",
     "text": [
      "L=400\n",
      "4.0\n"
     ]
    }
   ],
   "source": [
    "# butun sonlar 1\n",
    "L=float(input(\"L=\"))\n",
    "m=L/100\n",
    "print(m)"
   ]
  },
  {
   "cell_type": "code",
   "execution_count": null,
   "id": "67505868",
   "metadata": {},
   "outputs": [],
   "source": [
    "# butun sonlar 2\n",
    "m=float(input(\"m=\"))\n",
    "t=m/1000\n",
    "print(t)"
   ]
  },
  {
   "cell_type": "code",
   "execution_count": 7,
   "id": "78989d88",
   "metadata": {},
   "outputs": [
    {
     "name": "stdout",
     "output_type": "stream",
     "text": [
      "G=4865\n",
      "4\n"
     ]
    }
   ],
   "source": [
    "# butun sonlar 3\n",
    "G=int(input(\"G=\"))\n",
    "T= G//1024 \n",
    "print(T)\n"
   ]
  },
  {
   "cell_type": "code",
   "execution_count": 5,
   "id": "4e01a322",
   "metadata": {},
   "outputs": [
    {
     "name": "stdout",
     "output_type": "stream",
     "text": [
      "A=8\n",
      "B=3\n",
      "2\n"
     ]
    }
   ],
   "source": [
    "# butun sonlar 4\n",
    "A=int(input(\"A=\"))\n",
    "B=int(input(\"B=\"))\n",
    "if A>B:\n",
    "    S=A//B\n",
    "    print(S)"
   ]
  },
  {
   "cell_type": "code",
   "execution_count": 8,
   "id": "59287912",
   "metadata": {},
   "outputs": [
    {
     "name": "stdout",
     "output_type": "stream",
     "text": [
      "A=7\n",
      "B=5\n",
      "2\n"
     ]
    }
   ],
   "source": [
    "# butun sonlar 5 \n",
    "A=int(input(\"A=\"))\n",
    "B=int(input(\"B=\"))\n",
    "if A>B:\n",
    "    \n",
    "    T=A%B\n",
    "    print(T)\n",
    "    "
   ]
  },
  {
   "cell_type": "code",
   "execution_count": 10,
   "id": "a5349a7d",
   "metadata": {},
   "outputs": [
    {
     "name": "stdout",
     "output_type": "stream",
     "text": [
      "n=14\n",
      "1 4\n"
     ]
    }
   ],
   "source": [
    "# butun sonlar 6 \n",
    "n=int(input(\"n=\"))\n",
    "if n!=0:\n",
    "    a=n//10 \n",
    "    b=n%10\n",
    "    print(a,b)"
   ]
  },
  {
   "cell_type": "code",
   "execution_count": 11,
   "id": "ae141ed4",
   "metadata": {},
   "outputs": [
    {
     "name": "stdout",
     "output_type": "stream",
     "text": [
      "n=47\n",
      "11\n"
     ]
    }
   ],
   "source": [
    "# butun sonlar 7 \n",
    "n=int(input(\"n=\"))\n",
    "if n!=0:\n",
    "    a=n//10 \n",
    "    b=n%10\n",
    "    print(a+b)"
   ]
  },
  {
   "cell_type": "code",
   "execution_count": 12,
   "id": "52a998bf",
   "metadata": {},
   "outputs": [
    {
     "name": "stdout",
     "output_type": "stream",
     "text": [
      "son = 53\n",
      "35\n"
     ]
    }
   ],
   "source": [
    " # butun sonnlar 8 \n",
    "son = int(input(\"son = \"))\n",
    "a = son // 10\n",
    "b = son % 10\n",
    "son = b * 10 + a\n",
    "print(son)"
   ]
  },
  {
   "cell_type": "code",
   "execution_count": 13,
   "id": "5c222221",
   "metadata": {},
   "outputs": [
    {
     "name": "stdout",
     "output_type": "stream",
     "text": [
      "N=456\n",
      "4\n"
     ]
    }
   ],
   "source": [
    "# butun sonlar 9\n",
    "N=int(input(\"N=\"))\n",
    "Y_z=N//100\n",
    "print(Y_z)"
   ]
  },
  {
   "cell_type": "code",
   "execution_count": 16,
   "id": "cc577992",
   "metadata": {},
   "outputs": [
    {
     "name": "stdout",
     "output_type": "stream",
     "text": [
      "N=456\n",
      "6 5\n"
     ]
    }
   ],
   "source": [
    "# butun sonlar 10 \n",
    "N=int(input(\"N=\"))\n",
    "B=N%10\n",
    "A=(N%100)//10\n",
    "print(B,A)"
   ]
  },
  {
   "cell_type": "markdown",
   "id": "11519ece",
   "metadata": {},
   "source": [
    "# butun sonlar 11\n",
    "N=int(input(\"N=\"))\n",
    "B=N%10\n",
    "A=(N%100)//10\n",
    "C=N//100\n",
    "print(B,A)"
   ]
  },
  {
   "cell_type": "code",
   "execution_count": 17,
   "id": "3ec11206",
   "metadata": {},
   "outputs": [
    {
     "name": "stdout",
     "output_type": "stream",
     "text": [
      "N=471\n",
      "12\n"
     ]
    }
   ],
   "source": [
    "# butun sonlar 11\n",
    "N=int(input(\"N=\"))\n",
    "B=N%10\n",
    "A=(N%100)//10\n",
    "C=N//100\n",
    "print(B+A+C)"
   ]
  },
  {
   "cell_type": "code",
   "execution_count": 19,
   "id": "09227c71",
   "metadata": {},
   "outputs": [
    {
     "name": "stdout",
     "output_type": "stream",
     "text": [
      "N=123\n",
      "321\n"
     ]
    }
   ],
   "source": [
    "# butun sonlar 12 \n",
    "\n",
    "N=int(input(\"N=\"))\n",
    "B=N%10\n",
    "A=(N%100)//10\n",
    "C=N//100\n",
    "N=B*100+A*10+C\n",
    "print(N)"
   ]
  },
  {
   "cell_type": "code",
   "execution_count": 20,
   "id": "c08e03dd",
   "metadata": {},
   "outputs": [
    {
     "name": "stdout",
     "output_type": "stream",
     "text": [
      "n = 123\n",
      "312\n"
     ]
    }
   ],
   "source": [
    "# butun sonlar 13 \n",
    "n = int(input(\"n = \"))\n",
    "a = n% 10\n",
    "b = n// 10\n",
    "n2 = a * 100 + b\n",
    "print(n2)\n"
   ]
  },
  {
   "cell_type": "code",
   "execution_count": 21,
   "id": "c32ea6e4",
   "metadata": {},
   "outputs": [
    {
     "name": "stdout",
     "output_type": "stream",
     "text": [
      "N = 123\n",
      "231\n"
     ]
    }
   ],
   "source": [
    "# butun sonlar 14 \n",
    "N= int(input(\"N = \"))\n",
    "a = N% 100\n",
    "b = N// 100\n",
    "N2 = a * 10 + b\n",
    "print(N2)\n"
   ]
  },
  {
   "cell_type": "code",
   "execution_count": 26,
   "id": "d5708acf",
   "metadata": {},
   "outputs": [
    {
     "name": "stdout",
     "output_type": "stream",
     "text": [
      "N=123\n",
      "213\n"
     ]
    }
   ],
   "source": [
    "# butun sonlar 15 \n",
    "N=int(input(\"N=\"))\n",
    "a=((N % 100) // 10)\n",
    "b=N // 100\n",
    "c=N%10\n",
    "D=a*100+b*10+c\n",
    "print(D)\n"
   ]
  },
  {
   "cell_type": "code",
   "execution_count": 31,
   "id": "b75bd166",
   "metadata": {},
   "outputs": [
    {
     "name": "stdout",
     "output_type": "stream",
     "text": [
      "N=123\n",
      "132\n"
     ]
    }
   ],
   "source": [
    "# butun sonlar 16 \n",
    "son=int(input(\"N=\"))\n",
    "S = (son // 100) * 100 + (son % 10) * 10 + (son % 100) // 10\n",
    "print(S)"
   ]
  },
  {
   "cell_type": "code",
   "execution_count": 33,
   "id": "648b0d8c",
   "metadata": {},
   "outputs": [
    {
     "name": "stdout",
     "output_type": "stream",
     "text": [
      "N=1234\n",
      "2\n"
     ]
    }
   ],
   "source": [
    "# butun sonlar 17\n",
    "N=int(input(\"N=\"))\n",
    "B=(N%1000)//100\n",
    "print(B)"
   ]
  },
  {
   "cell_type": "code",
   "execution_count": 34,
   "id": "a138b01a",
   "metadata": {},
   "outputs": [
    {
     "name": "stdout",
     "output_type": "stream",
     "text": [
      "N=4561\n",
      "4\n"
     ]
    }
   ],
   "source": [
    "# butun sonlar 18\n",
    "N=int(input(\"N=\"))\n",
    "if N>999:\n",
    "    a=N%10000//1000\n",
    "    print(a)"
   ]
  },
  {
   "cell_type": "code",
   "execution_count": 35,
   "id": "6df3432c",
   "metadata": {},
   "outputs": [
    {
     "name": "stdout",
     "output_type": "stream",
     "text": [
      "N=60\n",
      "1\n"
     ]
    }
   ],
   "source": [
    "# butun sonlar 19\n",
    "N=int(input(\"N=\"))\n",
    "m=N//60\n",
    "print(m)"
   ]
  },
  {
   "cell_type": "code",
   "execution_count": 36,
   "id": "c59702a5",
   "metadata": {},
   "outputs": [
    {
     "name": "stdout",
     "output_type": "stream",
     "text": [
      "N=8520\n",
      "2\n"
     ]
    }
   ],
   "source": [
    "# butun sonlar 20\n",
    "N=int(input(\"N=\"))\n",
    "s=N//3600\n",
    "print(s)"
   ]
  },
  {
   "cell_type": "code",
   "execution_count": 37,
   "id": "3569d21e",
   "metadata": {},
   "outputs": [
    {
     "name": "stdout",
     "output_type": "stream",
     "text": [
      "N=457\n",
      "7 37\n"
     ]
    }
   ],
   "source": [
    "# butun sonlar 21\n",
    "N=int(input(\"N=\"))\n",
    "m=N//60\n",
    "s=N%60\n",
    "print(m,s)"
   ]
  },
  {
   "cell_type": "code",
   "execution_count": 38,
   "id": "16ac15fc",
   "metadata": {},
   "outputs": [
    {
     "name": "stdout",
     "output_type": "stream",
     "text": [
      "N=3600\n",
      "1 0\n"
     ]
    }
   ],
   "source": [
    "# butun sonlar 22\n",
    "N=int(input(\"N=\"))\n",
    "s=N//3600\n",
    "m=N%60\n",
    "print(s,m)"
   ]
  },
  {
   "cell_type": "code",
   "execution_count": 39,
   "id": "a8ce287b",
   "metadata": {},
   "outputs": [
    {
     "name": "stdout",
     "output_type": "stream",
     "text": [
      "N=8520\n",
      "2 142 0\n"
     ]
    }
   ],
   "source": [
    "# butun sonlar 23\n",
    "N=int(input(\"N=\"))\n",
    "s=N//3600 # soat\n",
    "c=N//60 # minut\n",
    "m=N%60\n",
    "print(s,c,m)"
   ]
  },
  {
   "cell_type": "code",
   "execution_count": 40,
   "id": "eec82e3b",
   "metadata": {},
   "outputs": [
    {
     "name": "stdout",
     "output_type": "stream",
     "text": [
      "k=21\n",
      "0\n"
     ]
    }
   ],
   "source": [
    "# burun sonlar 24\n",
    "k=int(input(\"k=\"))\n",
    "print(k%7)"
   ]
  },
  {
   "cell_type": "code",
   "execution_count": 41,
   "id": "f13d2f86",
   "metadata": {},
   "outputs": [
    {
     "name": "stdout",
     "output_type": "stream",
     "text": [
      "k=47\n",
      "1\n"
     ]
    }
   ],
   "source": [
    "# butun sonlar 25\n",
    "k=int(input(\"k=\"))\n",
    "print((k-4)%7)\n"
   ]
  },
  {
   "cell_type": "code",
   "execution_count": 44,
   "id": "e27b9dcc",
   "metadata": {},
   "outputs": [
    {
     "name": "stdout",
     "output_type": "stream",
     "text": [
      "k=15\n",
      "2\n"
     ]
    }
   ],
   "source": [
    "# butun sonlar 26\n",
    "k=int(input(\"k=\"))\n",
    "print((k+1)%7)"
   ]
  },
  {
   "cell_type": "code",
   "execution_count": 45,
   "id": "109c5d0c",
   "metadata": {},
   "outputs": [
    {
     "name": "stdout",
     "output_type": "stream",
     "text": [
      "k=3\n",
      "2\n"
     ]
    }
   ],
   "source": [
    "# butun sonlar 27\n",
    "k=int(input(\"k=\"))\n",
    "print(k%7-1)"
   ]
  },
  {
   "cell_type": "code",
   "execution_count": 53,
   "id": "4052fefe",
   "metadata": {},
   "outputs": [
    {
     "name": "stdout",
     "output_type": "stream",
     "text": [
      "N=4\n",
      "K=74\n",
      "1<=N<=7 / N1<=K<=365\n",
      "1\n"
     ]
    }
   ],
   "source": [
    "# butun sonlar 28\n",
    "N=int(input(\"N=\"))\n",
    "K=int(input(\"K=\"))\n",
    "print(\"1<=N<=7 / N1<=K<=365\")\n",
    "print((N+K)%7)"
   ]
  },
  {
   "cell_type": "code",
   "execution_count": 54,
   "id": "8eb02eb2",
   "metadata": {},
   "outputs": [
    {
     "name": "stdout",
     "output_type": "stream",
     "text": [
      "a = 4\n",
      "b = 2\n",
      "c = 5\n",
      "0 marta joylashadi 8 qismiga joylashmaydi\n"
     ]
    }
   ],
   "source": [
    "# butun sonlar 29\n",
    "a = int(input(\"a = \"))\n",
    "b = int(input(\"b = \"))\n",
    "c = int(input(\"c = \"))\n",
    "s1 = a*b\n",
    "s2 = (a // c * b // c)\n",
    "S=s1 - (s2*c**2)\n",
    "print(s2, \"marta joylashadi\", S, \"qismiga joylashmaydi\")\n",
    "\n"
   ]
  },
  {
   "cell_type": "code",
   "execution_count": 56,
   "id": "4f1e9ea0",
   "metadata": {},
   "outputs": [
    {
     "name": "stdout",
     "output_type": "stream",
     "text": [
      "N=4265\n",
      "43\n"
     ]
    }
   ],
   "source": [
    "# butun sonlar 30\n",
    "N=int(input(\"N=\"))\n",
    "Y=N//100+1\n",
    "print(Y)"
   ]
  }
 ],
 "metadata": {
  "kernelspec": {
   "display_name": "Python 3 (ipykernel)",
   "language": "python",
   "name": "python3"
  },
  "language_info": {
   "codemirror_mode": {
    "name": "ipython",
    "version": 3
   },
   "file_extension": ".py",
   "mimetype": "text/x-python",
   "name": "python",
   "nbconvert_exporter": "python",
   "pygments_lexer": "ipython3",
   "version": "3.12.3"
  }
 },
 "nbformat": 4,
 "nbformat_minor": 5
}
