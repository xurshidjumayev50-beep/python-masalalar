{
 "cells": [
  {
   "cell_type": "code",
   "execution_count": null,
   "id": "024d7302",
   "metadata": {},
   "outputs": [],
   "source": [
    "# if 1 \n",
    "n = int(input(\"n = \"))\n",
    "if n > 0:\n",
    "    n += 1\n",
    "else:\n",
    "    n -= 2\n",
    "print(n)\n"
   ]
  },
  {
   "cell_type": "code",
   "execution_count": null,
   "id": "10007fc3",
   "metadata": {},
   "outputs": [],
   "source": [
    "# if 2 \n",
    "n = int(input(\"n = \"))\n",
    "if n > 0:\n",
    "    n += 1\n",
    "print(n)"
   ]
  },
  {
   "cell_type": "code",
   "execution_count": null,
   "id": "1f127f9f",
   "metadata": {},
   "outputs": [],
   "source": [
    "# if 3 \n",
    "n = int(input(\"n = \"))\n",
    "if n > 0:\n",
    "    n += 1\n",
    "elif n == 0:\n",
    "    n = 10\n",
    "else:\n",
    "    n -= 2\n",
    "print(n)\n"
   ]
  },
  {
   "cell_type": "code",
   "execution_count": 2,
   "id": "743dee8a",
   "metadata": {},
   "outputs": [
    {
     "name": "stdout",
     "output_type": "stream",
     "text": [
      "3 musbat 0 manfiy\n"
     ]
    }
   ],
   "source": [
    "# if 4 \n",
    "a = int(input(\"a = \"))\n",
    "b = int(input(\"b = \"))\n",
    "c = int(input(\"c = \"))\n",
    "j = 0\n",
    "i = 0\n",
    "if a>0:\n",
    "    j +=1\n",
    "if b >0:\n",
    "    j+=1\n",
    "if c > 0:\n",
    "    j += 1\n",
    "print(j, \"musbat\", 3 - j, \"manfiy\")\n",
    "    "
   ]
  },
  {
   "cell_type": "code",
   "execution_count": 1,
   "id": "7c8e780e",
   "metadata": {},
   "outputs": [
    {
     "name": "stdout",
     "output_type": "stream",
     "text": [
      "3 musbat 0 manfiy\n"
     ]
    }
   ],
   "source": [
    "# if 5 \n",
    "a = int(input(\"a = \"))\n",
    "b = int(input(\"b = \"))\n",
    "c = int(input(\"c = \"))\n",
    "j = 0\n",
    "i = 0\n",
    "if a>0:\n",
    "    j +=1\n",
    "else:\n",
    "    i +=1\n",
    "    \n",
    "if b >0:\n",
    "    j+=1\n",
    "else:\n",
    "    i +=1\n",
    "    \n",
    "if c > 0:\n",
    "    j += 1\n",
    "else:\n",
    "    i += 1\n",
    "print(j, \"musbat\", i ,\"manfiy\")\n"
   ]
  },
  {
   "cell_type": "code",
   "execution_count": 3,
   "id": "ce46953f",
   "metadata": {},
   "outputs": [
    {
     "name": "stdout",
     "output_type": "stream",
     "text": [
      "5\n"
     ]
    }
   ],
   "source": [
    "# if 6 \n",
    "a = int(input(\"a = \"))\n",
    "b = int(input(\"b = \"))\n",
    "if a > b:\n",
    "    print(a)\n",
    "else:\n",
    "    print(b)\n",
    "\n"
   ]
  },
  {
   "cell_type": "code",
   "execution_count": 4,
   "id": "ff6a3154",
   "metadata": {},
   "outputs": [
    {
     "name": "stdout",
     "output_type": "stream",
     "text": [
      "1\n"
     ]
    }
   ],
   "source": [
    "#  7 \n",
    "a = int(input(\"a = \"))\n",
    "b = int(input(\"b = \"))\n",
    "if a > b:\n",
    "    print(2)\n",
    "else:\n",
    "    print(1)\n"
   ]
  },
  {
   "cell_type": "code",
   "execution_count": 5,
   "id": "541c8d48",
   "metadata": {},
   "outputs": [
    {
     "name": "stdout",
     "output_type": "stream",
     "text": [
      "2\n",
      "1\n"
     ]
    }
   ],
   "source": [
    "# 8 \n",
    "a = int(input(\"a = \"))\n",
    "b = int(input(\"b = \"))\n",
    "if a > b:\n",
    "    print(a)\n",
    "    print(b)\n",
    "else:\n",
    "    print(b)\n",
    "    print(a)\n"
   ]
  },
  {
   "cell_type": "code",
   "execution_count": 7,
   "id": "38afba53",
   "metadata": {},
   "outputs": [
    {
     "name": "stdout",
     "output_type": "stream",
     "text": [
      "4.0 4.0\n"
     ]
    }
   ],
   "source": [
    "# if 9 \n",
    "a = float(input(\"a = \"))\n",
    "b = float(input(\"b = \"))\n",
    "if a > b:\n",
    "    a += b\n",
    "    b = a - b\n",
    "    a = a - b\n",
    "print(a, b)\n"
   ]
  },
  {
   "cell_type": "code",
   "execution_count": 8,
   "id": "237a924c",
   "metadata": {},
   "outputs": [
    {
     "name": "stdout",
     "output_type": "stream",
     "text": [
      "a =  0 b =  0\n"
     ]
    }
   ],
   "source": [
    "# 10 \n",
    "a = int(input(\"a = \"))\n",
    "b = int(input(\"b = \"))\n",
    "if a == b:\n",
    "    a += b\n",
    "    b = a\n",
    "else:\n",
    "    a = 0\n",
    "    b = 0\n",
    "print(\"a = \", a , \"b = \", b)\n"
   ]
  },
  {
   "cell_type": "code",
   "execution_count": 9,
   "id": "71c97f07",
   "metadata": {},
   "outputs": [
    {
     "name": "stdout",
     "output_type": "stream",
     "text": [
      "a =  5 b =  5\n"
     ]
    }
   ],
   "source": [
    "# if 11\n",
    "a = int(input(\"a = \"))\n",
    "b = int(input(\"b = \"))\n",
    "if a == b:\n",
    "    a = 0\n",
    "    b = 0\n",
    "else:\n",
    "    if a > b:\n",
    "        b = a\n",
    "    else:\n",
    "        a = b\n",
    "print(\"a = \", a , \"b = \", b)\n",
    "\n"
   ]
  },
  {
   "cell_type": "code",
   "execution_count": 13,
   "id": "d430047a",
   "metadata": {},
   "outputs": [
    {
     "name": "stdout",
     "output_type": "stream",
     "text": [
      "1\n"
     ]
    }
   ],
   "source": [
    "# if 12 \n",
    "a = int(input(\"a = \"))\n",
    "b = int(input(\"b = \"))\n",
    "c = int(input(\"c = \"))\n",
    "if a > b and a > c:\n",
    "    if b > c:\n",
    "        print(c)\n",
    "    else:\n",
    "        print(b)\n",
    "elif b > a and b > c:\n",
    "    if a > c:\n",
    "        print(c)\n",
    "    else:\n",
    "        print(a)\n",
    "elif c > a and c > b:\n",
    "    if (a > b):\n",
    "        print(b)\n",
    "    else:\n",
    "        print(a)\n"
   ]
  },
  {
   "cell_type": "code",
   "execution_count": 14,
   "id": "5e2ae3b0",
   "metadata": {},
   "outputs": [
    {
     "name": "stdout",
     "output_type": "stream",
     "text": [
      "1\n"
     ]
    }
   ],
   "source": [
    "#if13\n",
    "a = int(input(\"a = \"))\n",
    "b = int(input(\"b = \"))\n",
    "c = int(input(\"c = \"))\n",
    "if a > b and a > c:\n",
    "    if b > c:\n",
    "        print(b)\n",
    "    else:\n",
    "        print(c)\n",
    "elif b > a and b > c:\n",
    "    if a > c:\n",
    "        print(a)\n",
    "    else:\n",
    "        print(c)\n",
    "elif c > a and c > b:\n",
    "    if a > b:\n",
    "        print(a)\n",
    "    else:\n",
    "        print(b)"
   ]
  },
  {
   "cell_type": "code",
   "execution_count": 15,
   "id": "c1267a2e",
   "metadata": {},
   "outputs": [
    {
     "name": "stdout",
     "output_type": "stream",
     "text": [
      "2\n",
      "11\n"
     ]
    }
   ],
   "source": [
    "# if 14 \n",
    "a = int(input(\"a = \"))\n",
    "b = int(input(\"b = \"))\n",
    "c = int(input(\"c = \"))\n",
    "if a > b and a > c:\n",
    "    if b > c:\n",
    "        print(c)\n",
    "        print(a)\n",
    "    else:\n",
    "        print(b)\n",
    "        print(a)\n",
    "elif b > a and b > c:\n",
    "    if a > c:\n",
    "        print(c)\n",
    "        print(b)\n",
    "    else:\n",
    "        print(a)\n",
    "        print(b)\n",
    "elif c > a and c > b:\n",
    "    if (a > b):\n",
    "        print(b)\n",
    "        print(c)\n",
    "    else:\n",
    "        print(a)\n",
    "        print(c)"
   ]
  },
  {
   "cell_type": "code",
   "execution_count": 16,
   "id": "a8d5a550",
   "metadata": {},
   "outputs": [
    {
     "name": "stdout",
     "output_type": "stream",
     "text": [
      "1 1\n"
     ]
    }
   ],
   "source": [
    "# if 15 \n",
    "a = int(input(\"a = \"))\n",
    "b = int(input(\"b = \"))\n",
    "c = int(input(\"c = \"))\n",
    "if a + b > a + c and a + b > b + c:\n",
    "    print(a, b)\n",
    "elif a + c > a + b and a + c > b + c:\n",
    "    print(a, c)\n",
    "else:\n",
    "    print(b, c)\n",
    "\n"
   ]
  },
  {
   "cell_type": "code",
   "execution_count": 17,
   "id": "0a803a78",
   "metadata": {},
   "outputs": [
    {
     "name": "stdout",
     "output_type": "stream",
     "text": [
      "-1.0 -4.0 -1.0\n"
     ]
    }
   ],
   "source": [
    "# if 16 \n",
    "a = float(input(\"a = \"))\n",
    "b = float(input(\"b = \"))\n",
    "c = float(input(\"c = \"))\n",
    "if b > a and c > b:\n",
    "    a *= 2\n",
    "    b *= 2\n",
    "    c *= 2\n",
    "else:\n",
    "    a = -a\n",
    "    b = -b\n",
    "    c = -c\n",
    "print(a, b, c)\n"
   ]
  },
  {
   "cell_type": "code",
   "execution_count": 18,
   "id": "e340b8dc",
   "metadata": {},
   "outputs": [
    {
     "name": "stdout",
     "output_type": "stream",
     "text": [
      "-1.0 -4.0 -1.0\n"
     ]
    }
   ],
   "source": [
    "# if 17 \n",
    "a = float(input(\"a = \"))\n",
    "b = float(input(\"b = \"))\n",
    "c = float(input(\"c = \"))\n",
    "if (b > a and c > b) or (a > b and b > c) :\n",
    "    a *= 2\n",
    "    b *= 2\n",
    "    c *= 2\n",
    "else:\n",
    "    a = -a\n",
    "    b = -b\n",
    "    c = -c\n",
    "print(a, b, c)\n"
   ]
  },
  {
   "cell_type": "code",
   "execution_count": 19,
   "id": "2573500d",
   "metadata": {},
   "outputs": [
    {
     "name": "stdout",
     "output_type": "stream",
     "text": [
      "Sonlar teng emas\n"
     ]
    }
   ],
   "source": [
    "# if 18 \n",
    "a = int(input(\"a = \"))\n",
    "b = int(input(\"b = \"))\n",
    "c = int(input(\"c = \"))\n",
    "if a == b:\n",
    "    print(3)\n",
    "elif (c == a):\n",
    "    print(2)\n",
    "elif(b == c):\n",
    "    print(1)\n",
    "else:\n",
    "    print(\"Sonlar teng emas\")\n"
   ]
  },
  {
   "cell_type": "code",
   "execution_count": 20,
   "id": "69b66887",
   "metadata": {},
   "outputs": [
    {
     "name": "stdout",
     "output_type": "stream",
     "text": [
      "Sonlar teng emas\n"
     ]
    }
   ],
   "source": [
    "# if  19 \n",
    "a = int(input(\"a = \"))\n",
    "b = int(input(\"b = \"))\n",
    "c = int(input(\"c = \"))\n",
    "d = int(input(\"d = \"))\n",
    "if a == b and b == c:\n",
    "    print(4)\n",
    "elif b == c and c == d:\n",
    "    print(1)\n",
    "elif a == c and c == d:\n",
    "    print(2)\n",
    "elif a == d and d == b:\n",
    "    print(3)\n",
    "else:\n",
    "    print(\"Sonlar teng emas\")  "
   ]
  },
  {
   "cell_type": "code",
   "execution_count": 21,
   "id": "3c506c69",
   "metadata": {},
   "outputs": [
    {
     "name": "stdout",
     "output_type": "stream",
     "text": [
      "c nuqta  ac =  12\n"
     ]
    }
   ],
   "source": [
    "# if 20 \n",
    "a = int(input(\"a = \"))\n",
    "b = int(input(\"b = \"))\n",
    "c = int(input(\"c = \"))\n",
    "if abs(a - b) > abs(a - c):\n",
    "    print(\"c nuqta  ac = \", abs(a - c))\n",
    "else:\n",
    "    print(\"b nuqta ab = \", abs(a - b))\n"
   ]
  },
  {
   "cell_type": "code",
   "execution_count": 22,
   "id": "baf92eb5",
   "metadata": {},
   "outputs": [
    {
     "name": "stdout",
     "output_type": "stream",
     "text": [
      "3\n"
     ]
    }
   ],
   "source": [
    "# if 21 \n",
    "x = int(input(\"x = \"))\n",
    "y = int(input(\"y = \"))\n",
    "if x == 0 and y == 0:\n",
    "    print(0)\n",
    "elif x == 0 and y !=0:\n",
    "    print(1)\n",
    "elif x != 0 and y == 0:\n",
    "    print(2)\n",
    "else:\n",
    "    print(3)\n"
   ]
  },
  {
   "cell_type": "code",
   "execution_count": 23,
   "id": "25a08b19",
   "metadata": {},
   "outputs": [
    {
     "name": "stdout",
     "output_type": "stream",
     "text": [
      "1\n"
     ]
    }
   ],
   "source": [
    "# if 22 \n",
    "x = int(input(\"x = \"))\n",
    "y = int(input(\"y = \"))\n",
    "if x > 0 and y > 0:\n",
    "    print(1)\n",
    "elif x < 0 and y > 0:\n",
    "    print(2)\n",
    "elif x < 0 and y < 0:\n",
    "    print(3)\n",
    "elif x > 0 and y < 0:\n",
    "    print(4)"
   ]
  },
  {
   "cell_type": "code",
   "execution_count": 25,
   "id": "175cc190",
   "metadata": {},
   "outputs": [
    {
     "name": "stdout",
     "output_type": "stream",
     "text": [
      "x4 =  4 y4 =  4\n"
     ]
    }
   ],
   "source": [
    "# if 23 \n",
    "x1 = int(input(\"x1 = \"))\n",
    "y1 = int(input(\"y1 = \"))\n",
    "x2 = int(input(\"x2 = \"))\n",
    "y2 = int(input(\"y2 = \"))\n",
    "x3 = int(input(\"x3 = \"))\n",
    "y3 = int(input(\"y3 = \"))\n",
    "if y1==y2 and x2==x3:\n",
    "    y4 = y3 \n",
    "    x4 = x1\n",
    "elif x2 == x3 and y3==y1:\n",
    "    x4 = x2\n",
    "    y4 = y1\n",
    "elif y2 == y1 and x1 == x3:\n",
    "    x4 = x2\n",
    "    y4 = y3\n",
    "elif y2==y3 and x2 == x1:\n",
    "    x4 = x3\n",
    "    y4 = y1\n",
    "print(\"x4 = \", x4, \"y4 = \", y4)\n"
   ]
  },
  {
   "cell_type": "code",
   "execution_count": 26,
   "id": "583a959f",
   "metadata": {},
   "outputs": [
    {
     "name": "stdout",
     "output_type": "stream",
     "text": [
      "1.682941969615793\n"
     ]
    }
   ],
   "source": [
    "# if 24 \n",
    "from math import *\n",
    "x = int(input(\"x = \"))\n",
    "if x > 0:\n",
    "    print(2 * sin(x))\n",
    "else:\n",
    "    print(x - 6)\n",
    "\n"
   ]
  },
  {
   "cell_type": "code",
   "execution_count": 27,
   "id": "ad4180d2",
   "metadata": {},
   "outputs": [
    {
     "name": "stdout",
     "output_type": "stream",
     "text": [
      "-3\n"
     ]
    }
   ],
   "source": [
    "# if 25 \n",
    "x = int(input(\"x = \"))\n",
    "if x < -2 and x > 2:\n",
    "    print(2 * x)\n",
    "else:\n",
    "    print(-3 * x)"
   ]
  },
  {
   "cell_type": "code",
   "execution_count": null,
   "id": "c843d221",
   "metadata": {},
   "outputs": [
    {
     "name": "stdout",
     "output_type": "stream",
     "text": [
      "1\n"
     ]
    }
   ],
   "source": [
    "#  26 \n",
    "x = int(input(\"x = \"))\n",
    "if x >= 2:\n",
    "    print(4)\n",
    "elif x > 0 and x < 2:\n",
    "    print(x ** 2)\n",
    "elif X <= 0:\n",
    "    print(-x)5\n",
    "    "
   ]
  },
  {
   "cell_type": "code",
   "execution_count": 29,
   "id": "d0191aaa",
   "metadata": {},
   "outputs": [
    {
     "name": "stdout",
     "output_type": "stream",
     "text": [
      "1.0\n",
      "-1\n"
     ]
    }
   ],
   "source": [
    "# 27 \n",
    "x = float(input(\"x = \"))\n",
    "x //= 1\n",
    "print(x)\n",
    "if x < 0:\n",
    "    print(0)\n",
    "elif x % 2 == 0 or x == 0:\n",
    "    print(1)\n",
    "else:\n",
    "    print(-1)"
   ]
  },
  {
   "cell_type": "code",
   "execution_count": 30,
   "id": "6338cb9c",
   "metadata": {},
   "outputs": [
    {
     "name": "stdout",
     "output_type": "stream",
     "text": [
      "365\n"
     ]
    }
   ],
   "source": [
    "# if 28 \n",
    "yil = int(input(\"yil = \"))\n",
    "if (yil % 4 == 0 and yil % 100 != 0) or (yil % 100 == 0 and yil % 400 ==0 ):\n",
    "    print(366)\n",
    "else:\n",
    "    print(365)"
   ]
  },
  {
   "cell_type": "code",
   "execution_count": 31,
   "id": "44c2d9ed",
   "metadata": {},
   "outputs": [
    {
     "name": "stdout",
     "output_type": "stream",
     "text": [
      "musbat\n",
      "toq son\n"
     ]
    }
   ],
   "source": [
    "# if 29 \n",
    "n = int(input(\"n = \"))\n",
    "if n > 0:\n",
    "    print(\"musbat\")\n",
    "    if n % 2 == 0 :\n",
    "        print(\"juft son\")\n",
    "    else:\n",
    "        print(\"toq son\")\n",
    "elif n < 0:\n",
    "    print(\"manfiy\")\n",
    "    if n % 2 == 0 :\n",
    "        print(\"juft son\")\n",
    "    else:\n",
    "        print(\"toq son\")\n",
    "else:\n",
    "    print(0)\n"
   ]
  },
  {
   "cell_type": "code",
   "execution_count": 32,
   "id": "4c1a9ea5",
   "metadata": {},
   "outputs": [
    {
     "name": "stdout",
     "output_type": "stream",
     "text": [
      "bir xonali\n",
      "musbat\n",
      "toq son\n"
     ]
    }
   ],
   "source": [
    "# if 30 \n",
    "n = int(input(\"n = \"))\n",
    "if n >99 and n < 1000:\n",
    "    print(\"uch xonali\")\n",
    "elif n > 10 and n < 100:\n",
    "    print(\"ikki xonali\")\n",
    "else:\n",
    "    print(\"bir xonali\")\n",
    "if n > 0:\n",
    "    print(\"musbat\")\n",
    "    if n % 2 == 0 :\n",
    "        print(\"juft son\")\n",
    "    else:\n",
    "        print(\"toq son\")\n",
    "elif n < 0:\n",
    "    print(\"manfiy\")\n",
    "    if n % 2 == 0 :\n",
    "        print(\"juft son\")\n",
    "    else:\n",
    "        print(\"toq son\")\n"
   ]
  },
  {
   "cell_type": "code",
   "execution_count": null,
   "id": "0a92d1d7",
   "metadata": {},
   "outputs": [
    {
     "name": "stdout",
     "output_type": "stream",
     "text": [
      "toqson\n",
      "\n"
     ]
    }
   ],
   "source": [
    "# if 30\n",
    "n = int(input())\n",
    "if n // 10 == 1:\n",
    "    print(\"on\")\n",
    "elif n // 10 == 2:\n",
    "    print(\"yigirma\")\n",
    "elif n // 10 == 3:\n",
    "    print(\"ottiz\")\n",
    "elif n // 10 == 4:\n",
    "    print(\"qirq\")\n",
    "elif n // 10 ==5:\n",
    "    print(\"ellik\")\n",
    "elif n // 10 ==6:\n",
    "    print(\"oltmush\")\n",
    "elif n // 10 ==7:\n",
    "    print(\"yetmush\")\n",
    "elif n // 10 == 8:\n",
    "    print(\"sakson\")\n",
    "elif n // 10 == 9:\n",
    "    print(\"toqson\")\n",
    "else:\n",
    "    print(\"\")\n",
    "\n",
    "if n % 10 == 1:\n",
    "    print(\"bir\")\n",
    "elif n % 10 == 2:\n",
    "    print(\"ikki\")\n",
    "elif n % 10 == 3:\n",
    "    print(\"uch\")\n",
    "elif n % 10 == 4:\n",
    "    print(\"to'rt\")\n",
    "elif n % 10 ==5:\n",
    "    print(\"besh\")\n",
    "elif n % 10 ==6:\n",
    "    print(\"olti\")\n",
    "elif n % 10 ==7:\n",
    "    print(\"7\")\n",
    "elif n % 10 == 8:\n",
    "    print(\"sakkiz\")\n",
    "elif n % 10 == 9:\n",
    "    print(\"toqqiz\")\n",
    "else:\n",
    "    print(\"\")\n"
   ]
  }
 ],
 "metadata": {
  "kernelspec": {
   "display_name": "Python 3",
   "language": "python",
   "name": "python3"
  },
  "language_info": {
   "codemirror_mode": {
    "name": "ipython",
    "version": 3
   },
   "file_extension": ".py",
   "mimetype": "text/x-python",
   "name": "python",
   "nbconvert_exporter": "python",
   "pygments_lexer": "ipython3",
   "version": "3.12.3"
  }
 },
 "nbformat": 4,
 "nbformat_minor": 5
}
