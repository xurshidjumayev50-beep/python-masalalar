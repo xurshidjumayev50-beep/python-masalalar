{
 "cells": [
  {
   "cell_type": "code",
   "execution_count": 1,
   "id": "3851cdea",
   "metadata": {},
   "outputs": [
    {
     "name": "stdout",
     "output_type": "stream",
     "text": [
      "chorshanba\n"
     ]
    }
   ],
   "source": [
    "# case 1 \n",
    "n = int(input())\n",
    "if n == 1 :\n",
    "    print(\"dushanba\")\n",
    "elif n == 2:\n",
    "    print(\"seshanba\")\n",
    "elif n == 3:\n",
    "    print(\"chorshanba\")\n",
    "elif n == 4:\n",
    "    print(\"payshanba\")\n",
    "elif n == 5:\n",
    "    print(\"juma\")\n",
    "elif n == 6:\n",
    "    print(\"shanba\")\n",
    "elif n == 7:\n",
    "    print(\"yakshanba\")\n",
    "else:\n",
    "    print(\"bunday hafta kuni yo'q\")\n"
   ]
  },
  {
   "cell_type": "code",
   "execution_count": 2,
   "id": "d7411659",
   "metadata": {},
   "outputs": [
    {
     "name": "stdout",
     "output_type": "stream",
     "text": [
      "yomon\n"
     ]
    }
   ],
   "source": [
    "# case 2 \n",
    "n = int(input())\n",
    "if n == 1:\n",
    "    print(\"yomon\")\n",
    "elif n == 2 :\n",
    "    print(\"qoniqarsiz\")\n",
    "elif n == 3:\n",
    "    print(\"qoniqarli\")\n",
    "elif n ==4 :\n",
    "    print(\"yaxshi\")\n",
    "elif n ==5 :\n",
    "    print(\"alo\")\n",
    "else:\n",
    "    print(\"bunday baho yoq\")\n"
   ]
  },
  {
   "cell_type": "code",
   "execution_count": 3,
   "id": "6404e890",
   "metadata": {},
   "outputs": [
    {
     "name": "stdout",
     "output_type": "stream",
     "text": [
      "bahor\n"
     ]
    }
   ],
   "source": [
    "# case 3 \n",
    "n = int(input())\n",
    "if n == 1 or n == 2 or n == 12:\n",
    "    print(\"qish\")\n",
    "elif 3 <= n <=5 :\n",
    "    print(\"bahor\")\n",
    "elif  6 <= n <= 8 :\n",
    "    print(\"yoz\")\n",
    "elif 9 <= n <= 11:\n",
    "    print(\"kuz\")\n",
    "else:\n",
    "    print(\"bunday fals yoq\")\n"
   ]
  },
  {
   "cell_type": "code",
   "execution_count": 4,
   "id": "81195d65",
   "metadata": {},
   "outputs": [
    {
     "name": "stdout",
     "output_type": "stream",
     "text": [
      "31\n"
     ]
    }
   ],
   "source": [
    "# case 4 \n",
    "o = int(input())\n",
    "o30 = o == 4 or o ==6 or 0 == 11 or o==9\n",
    "o28 = o == 2\n",
    "if o30:\n",
    "    print(\"30\")\n",
    "elif o28 :\n",
    "    print(\"28\")\n",
    "else:\n",
    "    print(\"31\")\n"
   ]
  },
  {
   "cell_type": "code",
   "execution_count": 5,
   "id": "5370bf47",
   "metadata": {},
   "outputs": [
    {
     "name": "stdout",
     "output_type": "stream",
     "text": [
      "-2.0\n"
     ]
    }
   ],
   "source": [
    "# case 5 \n",
    "a = float(input(\"a = \"))\n",
    "b = float(input(\"b = \"))\n",
    "n = int(input(\" amal \"))\n",
    "if n == 1:\n",
    "    print(a + b)\n",
    "elif n == 2:\n",
    "    print(a - b)\n",
    "elif n == 3:\n",
    "    print(a * b)\n",
    "else:\n",
    "    print(a/b)\n"
   ]
  },
  {
   "cell_type": "code",
   "execution_count": 6,
   "id": "956adaf8",
   "metadata": {},
   "outputs": [
    {
     "name": "stdout",
     "output_type": "stream",
     "text": [
      "1000\n"
     ]
    }
   ],
   "source": [
    "# case 6 \n",
    "a = int(input(\"uzunlik\"))\n",
    "n = int(input(\"birlik sonda \"))\n",
    "if n == 1:\n",
    "    print(a/10)\n",
    "elif n == 2:\n",
    "    print(a*1000)\n",
    "elif n == 3:\n",
    "    print(a)\n",
    "elif n == 4:\n",
    "    print(a/1000)\n",
    "elif n ==5 :\n",
    "    print(a/100)"
   ]
  },
  {
   "cell_type": "code",
   "execution_count": 7,
   "id": "78a9b8f0",
   "metadata": {},
   "outputs": [
    {
     "name": "stdout",
     "output_type": "stream",
     "text": [
      "0.01\n"
     ]
    }
   ],
   "source": [
    "# case 7 \n",
    "a = int(input(\"ogirlik\"))\n",
    "n = int(input(\"birlik sonda \"))\n",
    "if n == 1:\n",
    "    print(a)\n",
    "elif n == 2:\n",
    "    print(a/ 10 ** 6)\n",
    "elif n == 3:\n",
    "    print(a/100)\n",
    "elif n == 4:\n",
    "    print(a*1000)\n",
    "elif n ==5 :\n",
    "    print(a*100)"
   ]
  },
  {
   "cell_type": "code",
   "execution_count": 11,
   "id": "0fabd183",
   "metadata": {},
   "outputs": [],
   "source": [
    "# case 8 \n",
    "k = int(input(\"kun = \"))\n",
    "o = int(input(\"oy = \"))\n",
    "y = int(input(\"yil = \"))\n",
    "\n",
    "kabisa = False\n",
    "if y % 4 == 0 and y % 100 != 0 or y % 100 == 0 and y % 400 == 0:\n",
    "    kabisa = True\n",
    "\n",
    "k += 2\n",
    "\n",
    "if (o == 4 or o == 6 or o == 9 or o == 11):\n",
    "    if k == 31:\n",
    "        k = 1\n",
    "    elif k == 32:\n",
    "        k = 2\n",
    "    o +=1\n",
    "\n",
    "elif o == 2 and k == 29 :\n",
    "    o += 1\n",
    "    k = 1\n",
    "        \n",
    "elif (o == 1 or o == 3 or o == 5 or o == 7 or o == 8 or o == 10 or 0 == 12) and k == 33:\n",
    "    if o == 12:\n",
    "        o = 1\n",
    "        y += 1\n",
    "    else:\n",
    "         o += 1\n",
    "    k = 1\n",
    "else:\n",
    "    k = 0\n"
   ]
  },
  {
   "cell_type": "code",
   "execution_count": 13,
   "id": "783c7ce6",
   "metadata": {},
   "outputs": [
    {
     "name": "stdout",
     "output_type": "stream",
     "text": [
      "d =  1\n",
      "m =  4\n"
     ]
    }
   ],
   "source": [
    "# case 9 \n",
    "d =  int(input(\"d = \"))\n",
    "m =  int(input(\"m = \"))\n",
    "if m == 4 or m == 6 or m == 9 or m == 11:\n",
    "    if d == 30:\n",
    "        m += 1\n",
    "        d = 0\n",
    "elif m == 2:\n",
    "    if d == 28 :\n",
    "        d = 1\n",
    "        m += 1\n",
    "else :\n",
    "    if m == 12 and d ==31:\n",
    "        m = 1\n",
    "        d = 1\n",
    "    elif d == 31:\n",
    "        m += 1\n",
    "        d = 0\n",
    "        \n",
    "print(\"d = \", d)\n",
    "print(\"m = \", m)"
   ]
  },
  {
   "cell_type": "code",
   "execution_count": 14,
   "id": "dc4bfdfd",
   "metadata": {},
   "outputs": [],
   "source": [
    "# case 10 \n",
    "a = input(\"yonalish  \")\n",
    "n = int(input(\"komanda  \"))\n",
    "\n",
    "if a == 'j':\n",
    "    if n == 1 :\n",
    "        print(\"garbga \")\n",
    "    elif n == 2:\n",
    "        print(\"sharqqa\")\n",
    "    elif n == 0:\n",
    "        print(\" simolga\")\n",
    "elif a == 's' :\n",
    "    if n == 1 :\n",
    "        print(\"sharq\")\n",
    "    elif n == 2:\n",
    "        print(\"garb\")\n",
    "    elif n == 0:\n",
    "        print(\"shimol\")\n",
    "elif a == 'q':\n",
    "    if n == 1 :\n",
    "        print(\"shimol\")\n",
    "    elif n == 2:\n",
    "        print(\"janub\")\n",
    "    elif n == 0:\n",
    "        print(\"sharq\")\n",
    "elif a == 'g' :\n",
    "    if n == 1 :\n",
    "        print(\"janub\")\n",
    "    elif n == 2:\n",
    "        print(\"shimol\")\n",
    "    elif n == 0:\n",
    "        print(\"g'arb\")"
   ]
  },
  {
   "cell_type": "code",
   "execution_count": 20,
   "id": "71f817cd",
   "metadata": {},
   "outputs": [
    {
     "ename": "IndentationError",
     "evalue": "unindent does not match any outer indentation level (<string>, line 27)",
     "output_type": "error",
     "traceback": [
      "\u001b[0;36m  File \u001b[0;32m<string>:27\u001b[0;36m\u001b[0m\n\u001b[0;31m    elif k1==0 and k2==1 and c==\"j\":\u001b[0m\n\u001b[0m                                    ^\u001b[0m\n\u001b[0;31mIndentationError\u001b[0m\u001b[0;31m:\u001b[0m unindent does not match any outer indentation level\n"
     ]
    }
   ],
   "source": [
    "# case 11 \n",
    "c = input(\"Lokatrning holati < s,j,q,g > \")\n",
    "k1 = int(input(\"1-komandani tanlang < 0,1,2 > \"))\n",
    "k2 = int(input(\"2-komandani tanlang < 0,1,2 > \"))\n",
    "\n",
    "if 0<=k1<=2 and 0<=k2<=2: \n",
    "    if k1==0 and k2==0 and c==\"s\":\n",
    "        c=\"janub\"\n",
    "    elif k1==0 and k2==1 and c==\"s\": \n",
    "        c=\"shimol\"\n",
    "    elif k1==0 and k2==2 and c==\"s\":\n",
    "        c=\"g'arb\"\n",
    "    elif k1==1 and k2==0 and c==\"s\":\n",
    "        c=\"shimol\"\n",
    "    elif k1==1 and k2==1 and c==\"s\":\n",
    "        c=\"janub\"\n",
    "    elif k1==1 and k2==2 and c==\"s\":\n",
    "        c=\"sharq\"\n",
    "    elif k1==2 and k2==0 and c==\"s\":\n",
    "        c=\"g'arb\"\n",
    "    elif k1==2 and k2==1 and c==\"s\":\n",
    "        c=\"sharq\"\n",
    "    elif k1==2 and k2==2 and c==\"s\":\n",
    "        c=\"shimol\"   \n",
    "elif k1==0 and k2==0 and c==\"j\":\n",
    "        c=\"shimol\"\n",
    "    elif k1==0 and k2==1 and c==\"j\":\n",
    "        c=\"janub\"\n",
    "    elif k1==0 and k2==2 and c==\"j\":\n",
    "        c=\"sharq\"\n",
    "    elif k1==1 and k2==0 and c==\"j\":\n",
    "        c=\"janub\"\n",
    "    elif k1==1 and k2==1 and c==\"j\":\n",
    "        c=\"shimol\"\n",
    "    elif k1==1 and k2==2 and c==\"j\":\n",
    "        c=\"g'arb\"\n",
    "    elif k1==2 and k2==0 and c==\"j\":\n",
    "        c=\"sharq\"\n",
    "    elif k1==2 and k2==1 and c==\"j\":\n",
    "        c=\"g'arb\"\n",
    "    elif k1==2 and k2==2 and c==\"j\":\n",
    "        c=\"janub\"  \n",
    "\n",
    "    elif k1==0 and k2==0 and c==\"g\": \n",
    "        c=\"sharq\"\n",
    "    elif k1==0 and k2==1 and c==\"g\":\n",
    "        c=\"g'arb\"\n",
    "    elif k1==0 and k2==2 and c==\"g\": \n",
    "        c=\"janub\"\n",
    "    elif k1==1 and k2==0 and c==\"g\":\n",
    "        c=\"g'arb\"\n",
    "    elif k1==1 and k2==1 and c==\"g\": \n",
    "        c=\"sharq\"\n",
    "    elif k1==1 and k2==2 and c==\"g\":\n",
    "        c=\"shimol\"\n",
    "    elif k1==2 and k2==0 and c==\"g\":\n",
    "        c=\"janub\"\n",
    "    elif k1==2 and k2==1 and c==\"g\": \n",
    "        c=\"shimol\"\n",
    "    elif k1==2 and k2==2 and c==\"g\":\n",
    "        c=\"g'arb\"\n",
    "        elif k1==0 and k2==0 and c==\"q\":\n",
    "        c=\"g'arb\"\n",
    "    elif k1==0 and k2==1 and c==\"q\":\n",
    "        c=\"sharq\"\n",
    "    elif k1==0 and k2==2 and c==\"q\":\n",
    "        c=\"shimol\"\n",
    "    elif k1==1 and k2==0 and c==\"q\":\n",
    "        c=\"sharq\"\n",
    "    elif k1==1 and k2==1 and c==\"q\":\n",
    "        c=\"g'arb\"\n",
    "    elif k1==1 and k2==2 and c==\"q\":\n",
    "        c=\"janub\"\n",
    "    elif k1==2 and k2==0 and c==\"q\":\n",
    "        c=\"shimol\"\n",
    "    elif k1==2 and k2==1 and c==\"q\":\n",
    "        c=\"janub\"\n",
    "    elif k1==2 and k2==2 and c==\"q\":\n",
    "        c=\"sharq\"\n",
    "    print(c)\n",
    "else:\n",
    "    print(\"Xato\")"
   ]
  },
  {
   "cell_type": "code",
   "execution_count": 21,
   "id": "205d3021",
   "metadata": {},
   "outputs": [
    {
     "name": "stderr",
     "output_type": "stream",
     "text": [
      "<>:12: SyntaxWarning: 'str' object is not callable; perhaps you missed a comma?\n",
      "<>:12: SyntaxWarning: 'str' object is not callable; perhaps you missed a comma?\n",
      "/tmp/ipykernel_4126/4051094136.py:12: SyntaxWarning: 'str' object is not callable; perhaps you missed a comma?\n",
      "  print(\"r = \", (a/3.1415)**0.5, \"d = \"  (a/3.1415)**0.5 * 2, \"l = \", (a/3.1415)**0.5 * 3.1415 * 2)\n"
     ]
    },
    {
     "ename": "TypeError",
     "evalue": "'str' object is not callable",
     "output_type": "error",
     "traceback": [
      "\u001b[0;31m---------------------------------------------------------------------------\u001b[0m",
      "\u001b[0;31mTypeError\u001b[0m                                 Traceback (most recent call last)",
      "Cell \u001b[0;32mIn[21], line 12\u001b[0m\n\u001b[1;32m     10\u001b[0m     \u001b[38;5;28mprint\u001b[39m(\u001b[38;5;124m\"\u001b[39m\u001b[38;5;124mS = \u001b[39m\u001b[38;5;124m\"\u001b[39m, l\u001b[38;5;241m*\u001b[39m\u001b[38;5;241m*\u001b[39m\u001b[38;5;241m2\u001b[39m \u001b[38;5;241m/\u001b[39m (\u001b[38;5;241m4\u001b[39m \u001b[38;5;241m*\u001b[39m \u001b[38;5;241m3.1415\u001b[39m), \u001b[38;5;124m\"\u001b[39m\u001b[38;5;124mr = \u001b[39m\u001b[38;5;124m\"\u001b[39m, a \u001b[38;5;241m/\u001b[39m (\u001b[38;5;241m2\u001b[39m \u001b[38;5;241m*\u001b[39m \u001b[38;5;241m3.1415\u001b[39m), \u001b[38;5;124m\"\u001b[39m\u001b[38;5;124md = \u001b[39m\u001b[38;5;124m\"\u001b[39m, a \u001b[38;5;241m/\u001b[39m \u001b[38;5;241m3.1415\u001b[39m )\n\u001b[1;32m     11\u001b[0m \u001b[38;5;28;01melse\u001b[39;00m:\n\u001b[0;32m---> 12\u001b[0m     \u001b[38;5;28mprint\u001b[39m(\u001b[38;5;124m\"\u001b[39m\u001b[38;5;124mr = \u001b[39m\u001b[38;5;124m\"\u001b[39m, (a\u001b[38;5;241m/\u001b[39m\u001b[38;5;241m3.1415\u001b[39m)\u001b[38;5;241m*\u001b[39m\u001b[38;5;241m*\u001b[39m\u001b[38;5;241m0.5\u001b[39m, \u001b[38;5;124;43m\"\u001b[39;49m\u001b[38;5;124;43md = \u001b[39;49m\u001b[38;5;124;43m\"\u001b[39;49m\u001b[43m  \u001b[49m\u001b[43m(\u001b[49m\u001b[43ma\u001b[49m\u001b[38;5;241;43m/\u001b[39;49m\u001b[38;5;241;43m3.1415\u001b[39;49m\u001b[43m)\u001b[49m\u001b[38;5;241m*\u001b[39m\u001b[38;5;241m*\u001b[39m\u001b[38;5;241m0.5\u001b[39m \u001b[38;5;241m*\u001b[39m \u001b[38;5;241m2\u001b[39m, \u001b[38;5;124m\"\u001b[39m\u001b[38;5;124ml = \u001b[39m\u001b[38;5;124m\"\u001b[39m, (a\u001b[38;5;241m/\u001b[39m\u001b[38;5;241m3.1415\u001b[39m)\u001b[38;5;241m*\u001b[39m\u001b[38;5;241m*\u001b[39m\u001b[38;5;241m0.5\u001b[39m \u001b[38;5;241m*\u001b[39m \u001b[38;5;241m3.1415\u001b[39m \u001b[38;5;241m*\u001b[39m \u001b[38;5;241m2\u001b[39m)\n",
      "\u001b[0;31mTypeError\u001b[0m: 'str' object is not callable"
     ]
    }
   ],
   "source": [
    "# cASE 12 \n",
    "\n",
    "n = int(input(\"doira elementlari nomeri \"))\n",
    "a = float(input(\"doira elementi \"))\n",
    "if n == 1:\n",
    "    print(\"S = \",3.1415 * a**2, \"l = \", 2 * 3.1415 * a, \"d = \", 2*a)\n",
    "elif n == 2:\n",
    "    print(\"S = \",3.1415 * a**2 / 4, \"l = \", 3.1415 * a, \"r = \", a/2)\n",
    "elif n == 3:\n",
    "    print(\"S = \", l**2 / (4 * 3.1415), \"r = \", a / (2 * 3.1415), \"d = \", a / 3.1415 )\n",
    "else:\n",
    "    print(\"r = \", (a/3.1415)**0.5, \"d = \"  (a/3.1415)**0.5 * 2, \"l = \", (a/3.1415)**0.5 * 3.1415 * 2)"
   ]
  },
  {
   "cell_type": "code",
   "execution_count": null,
   "id": "ea544190",
   "metadata": {},
   "outputs": [],
   "source": [
    "# case 13 \n",
    "n = int(input(\"uchburchak elementlari nomeri \"))\n",
    "a = float(input(\"uchburchak elementi \"))\n",
    "if n == 1:\n",
    "    print(\"c = \", a*2**0.5, \"h = \", a*2**0.5/2,\"S = \", (a*2**0.5)**2/4 )\n",
    "elif n == 2:\n",
    "    print(\"a = \", a/2**0.5, \"h = \", a/2, \"S = \", a**2/4)\n",
    "elif n == 3:\n",
    "    print(\"c = \", a*2,\"a = \", a*2**0.5, \"S = \", a**2/4)\n",
    "else:\n",
    "    print(\"c = \", a**0.5*2, \"h = \", a**0.5, \"a = \", a**0.5/2**0.5)\n"
   ]
  },
  {
   "cell_type": "code",
   "execution_count": 22,
   "id": "7be681fa",
   "metadata": {},
   "outputs": [
    {
     "name": "stdout",
     "output_type": "stream",
     "text": [
      "a =  3.0393427426063706 r =  0.8773826753016617 R =  1.7547653506033234\n"
     ]
    }
   ],
   "source": [
    "# case 14 \n",
    "n = int(input(\"uchburchak elementlari nomeri \"))\n",
    "a = float(input(\"uchburchak elementi \"))\n",
    "if n == 1:\n",
    "    print(\"r = \", a * 3**2/6, \"R = \", a * 3**2/6 * 2, \"S = \", a**2 * 3**0.5/4)\n",
    "elif n == 2:\n",
    "    print(\"a = \", a*6/3**0.5, \"R = \", a*2, \"S = \", (a*6/3**0.5)**2 * 3**0.2/4 )\n",
    "elif n == 3:\n",
    "    print(\"a = \", a*3**0.5,  \"r = \", a/2, \"S = \", a**2*3**1.5/4 )\n",
    "else:\n",
    "    print(\"a = \", (a*4/3**0.5)**0.5, \"r = \", (a*4/3**0.5)**0.5 * 3**0.5/6, \"R = \", (a*4/3**0.5)**0.5 * 3**0.5/3)\n"
   ]
  },
  {
   "cell_type": "code",
   "execution_count": 23,
   "id": "0b28081d",
   "metadata": {},
   "outputs": [],
   "source": [
    "# case 15 \n",
    "n = int(input(\"n = \"))\n",
    "m = int(input(\"m = \"))\n",
    "if n ==6:\n",
    "    print(\"olti\", end = \" \")\n",
    "elif n ==7:\n",
    "    print(\"yetti\",end = \" \")\n",
    "elif  n == 8:\n",
    "    print(\"sakkiz\",end = \" \")\n",
    "elif n == 9:\n",
    "    print(\"toqqiz\",end = \" \")\n",
    "elif n==10:\n",
    "    print(\"on\",end = \" \")\n",
    "elif n ==11:\n",
    "    print(\"valent\",end = \" \")\n",
    "elif n == 12:\n",
    "    print(\"dama\",end = \" \")\n",
    "elif n == 13:\n",
    "    print(\"qirol\",end = \" \")\n",
    "elif n==14:\n",
    "    print(\"tuz\",end = \" \")\n",
    "    \n",
    "if m ==1:\n",
    "    print(\"gisht\")\n",
    "elif m ==2:\n",
    "    print(\"olma\")\n",
    "elif m==3:\n",
    "    print(\"chillak\")\n",
    "elif m==4:\n",
    "    print(\"qarga\")"
   ]
  },
  {
   "cell_type": "code",
   "execution_count": 24,
   "id": "b80a2e6b",
   "metadata": {},
   "outputs": [
    {
     "name": "stdout",
     "output_type": "stream",
     "text": [
      "yigirma yosh\n"
     ]
    }
   ],
   "source": [
    "# CASE 16 \n",
    "n = int(input(\"n = \"))\n",
    "a = n // 10 \n",
    "\n",
    "if a == 1:\n",
    "    print(\"on\", end=\" \")\n",
    "elif a== 2:\n",
    "    print(\"yigirma\", end=\" \")\n",
    "elif a == 3:\n",
    "    print(\"ottiz\", end=\" \")\n",
    "elif a == 4:\n",
    "    print(\"qirq\", end=\" \")\n",
    "elif a ==5:\n",
    "    print(\"ellik\", end=\" \")\n",
    "elif a ==6:\n",
    "    print(\"oltmush\", end=\" \")\n",
    "elif a==7:\n",
    "    print(\"yetmush\", end=\" \")\n",
    "elif a == 8:\n",
    "    print(\"sakson\", end=\" \")\n",
    "elif a == 9:\n",
    "    print(\"toqson\", end=\" \")\n",
    "\n",
    "n %= 10\n",
    "if n  == 1:\n",
    "    print(\"bir\", end=\" \")\n",
    "elif n == 2:\n",
    "    print(\"ikki\", end=\" \")\n",
    "elif n == 3:\n",
    "    print(\"uch\", end=\" \")\n",
    "elif n== 4:\n",
    "    print(\"to'rt\", end=\" \")\n",
    "elif n ==5:\n",
    "    print(\"besh\", end=\" \")\n",
    "elif n ==6:\n",
    "    print(\"olti\", end=\" \")\n",
    "elif n  ==7:\n",
    "    print(\"yetti\", end=\" \")\n",
    "elif n == 8:\n",
    "    print(\"sakkiz\", end=\" \")\n",
    "elif n  == 9:\n",
    "    print(\"toqqiz\", end=\" \")\n",
    "print(\"yosh\")"
   ]
  },
  {
   "cell_type": "code",
   "execution_count": 26,
   "id": "5d2bd7a8",
   "metadata": {},
   "outputs": [
    {
     "name": "stdout",
     "output_type": "stream",
     "text": [
      "yigirma to'rt ta masala\n"
     ]
    }
   ],
   "source": [
    "# CASE 17 \n",
    "n = int(input(\"n = \"))\n",
    "a = n // 10 \n",
    "\n",
    "if a == 1:\n",
    "    print(\"on\", end=\" \")\n",
    "elif a== 2:\n",
    "    print(\"yigirma\", end=\" \")\n",
    "elif a == 3:\n",
    "    print(\"ottiz\", end=\" \")\n",
    "elif a == 4:\n",
    "    print(\"qirq\", end=\" \")\n",
    "elif a ==5:\n",
    "    print(\"ellik\", end=\" \")\n",
    "elif a ==6:\n",
    "    print(\"oltmush\", end=\" \")\n",
    "elif a==7:\n",
    "    print(\"yetmush\", end=\" \")\n",
    "elif a == 8:\n",
    "    print(\"sakson\", end=\" \")\n",
    "elif a == 9:\n",
    "    print(\"toqson\", end=\" \")\n",
    "\n",
    "n %= 10\n",
    "if n  == 1:\n",
    "    print(\"bir\", end=\" \")\n",
    "elif n == 2:\n",
    "    print(\"ikki\", end=\" \")\n",
    "elif n == 3:\n",
    "    print(\"uch\", end=\" \")\n",
    "elif n== 4:\n",
    "    print(\"to'rt\", end=\" \")\n",
    "elif n ==5:\n",
    "    print(\"besh\", end=\" \")\n",
    "elif n ==6:\n",
    "    print(\"olti\", end=\" \")\n",
    "elif n  ==7:\n",
    "    print(\"yetti\", end=\" \")\n",
    "elif n == 8:\n",
    "    print(\"sakkiz\", end=\" \")\n",
    "elif n  == 9:\n",
    "    print(\"toqqiz\", end=\" \")\n",
    "print(\"ta masala\")"
   ]
  },
  {
   "cell_type": "code",
   "execution_count": 28,
   "id": "242a7aad",
   "metadata": {},
   "outputs": [
    {
     "name": "stdout",
     "output_type": "stream",
     "text": [
      "\n",
      "on\n",
      "to'rt\n"
     ]
    }
   ],
   "source": [
    "# CASE 18 \n",
    "n = int(input())\n",
    "\n",
    "\n",
    "if n // 100 == 1:\n",
    "    print(\"bir yuz\")\n",
    "elif n // 100 == 2:\n",
    "    print(\"ikki yuz\")\n",
    "elif n // 100 == 3:\n",
    "    print(\"uch yuz\")\n",
    "elif n // 100 == 4:\n",
    "    print(\"to'rt yuz\")\n",
    "elif n // 100 ==5:\n",
    "    print(\"besh yuz\")\n",
    "elif n // 100 ==6:\n",
    "    print(\"olti yuz\")\n",
    "elif n // 100 ==7:\n",
    "    print(\"yetti yuz\")\n",
    "elif n // 100 == 8:\n",
    "    print(\"sakkiz yuz\")\n",
    "elif n // 100 == 9:\n",
    "    print(\"toqqiz yuz\")\n",
    "else:\n",
    "    print(\"\")\n",
    "if n % 100 // 10 == 1:\n",
    "    print(\"on\")\n",
    "elif n % 100 // 10 == 2:\n",
    "    print(\"yigirma\")\n",
    "elif n % 100 // 10 == 3:\n",
    "    print(\"ottiz\")\n",
    "elif n % 100 // 10 == 4:\n",
    "    print(\"qirq\")\n",
    "elif n % 100 // 10 ==5:\n",
    "    print(\"ellik\")\n",
    "elif n % 100 // 10 ==6:\n",
    "    print(\"oltmush\")\n",
    "elif n % 100 // 10 ==7:\n",
    "    print(\"yetmush\")\n",
    "elif n % 100 // 10 == 8:\n",
    "    print(\"sakson\")\n",
    "elif n % 100 // 10 == 9:\n",
    "    print(\"toqson\")\n",
    "else:\n",
    "    print(\"\")\n",
    "if n % 10 == 1:\n",
    "    print(\"bir\")\n",
    "elif n % 10 == 2:\n",
    "    print(\"ikki\")\n",
    "elif n % 10 == 3:\n",
    "    print(\"uch\")\n",
    "elif n % 10 == 4:\n",
    "    print(\"to'rt\")\n",
    "elif n % 10 ==5:\n",
    "    print(\"besh\")\n",
    "elif n % 10 ==6:\n",
    "    print(\"olti\")\n",
    "elif n % 10 ==7:\n",
    "    print(\"yetti\")\n",
    "elif n % 10 == 8:\n",
    "    print(\"sakkiz\")\n",
    "elif n % 10 == 9:\n",
    "    print(\"toqqiz\")\n",
    "else:\n",
    "    print(\"\")\n",
    "\n"
   ]
  },
  {
   "cell_type": "code",
   "execution_count": 29,
   "id": "5fc5b455",
   "metadata": {},
   "outputs": [
    {
     "name": "stdout",
     "output_type": "stream",
     "text": [
      "qora\n",
      "sichqon\n"
     ]
    }
   ],
   "source": [
    "# case 19\n",
    "n = int(input())\n",
    "a = n % 5\n",
    "n %=12\n",
    "if  a== 1:\n",
    "    print(\"yashil\")\n",
    "elif a ==2 :\n",
    "    print(\"qizil\")\n",
    "elif a == 3:\n",
    "    print(\"sariq\")\n",
    "elif a == 4 :\n",
    "    print(\" oq\")\n",
    "elif a == 0:\n",
    "    print(\"qora\")\n",
    "\n",
    "if n == 1:\n",
    "    print(\"sichqon\")\n",
    "elif n  ==2 :\n",
    "    print(\"sigir\")\n",
    "elif n  == 3:\n",
    "    print(\"yolbars\")\n",
    "elif n == 4 :\n",
    "    print(\"quyon\")\n",
    "elif n == 5:\n",
    "    print(\"ajdar\")\n",
    "elif n == 6 :\n",
    "    print(\"ilon\")\n",
    "elif n  == 7:\n",
    "    print(\"ot\")\n",
    "elif n  == 8:\n",
    "    print(\"qoy\")\n",
    "elif n  == 9:\n",
    "    print(\"maymun\")\n",
    "elif n == 10 :\n",
    "    print(\"tovuq\")\n",
    "elif n  == 11 :\n",
    "    print(\"it\")\n",
    "elif n  == 0 :\n",
    "    print(\"tongiz\")\n"
   ]
  },
  {
   "cell_type": "code",
   "execution_count": 30,
   "id": "b5bae8bf",
   "metadata": {},
   "outputs": [
    {
     "name": "stdout",
     "output_type": "stream",
     "text": [
      "qishgichbaqa\n"
     ]
    }
   ],
   "source": [
    "# case 20 \n",
    "d = int(input(\" kun  \"))\n",
    "m = int(input(\" oy  \"))\n",
    "a = (m - 1) * 30 + d \n",
    "if 20 <= a <= 48:\n",
    "    print(\"qovga\")\n",
    "elif 49 <= a <= 80:\n",
    "    print(\"baliq\")\n",
    "elif 81 <= a <= 109:\n",
    "    print(\"qoy\")\n",
    "elif 110 <= a <= 140:\n",
    "    print(\"buzoq\")\n",
    "elif 141 <= a <= 171:\n",
    "    print(\"egizak\")\n",
    "elif 172 <= a <= 202:\n",
    "    print(\"qishgichbaqa\")\n",
    "elif 203 <= a <= 232:\n",
    "    print(\"asrlon\")\n",
    "elif 233 <= a <= 262:\n",
    "    print(\"parizod\")\n",
    "elif 163 <= a <= 292:\n",
    "    print(\"tarozi\")\n",
    "elif 293 <= a <= 322:\n",
    "    print(\"chayon\")\n",
    "elif 323 <= a <= 351:\n",
    "    print(\"o'qotar\")\n",
    "elif 351 <= a <= 365 or 1 <= m <= 20:\n",
    "    print(\"echki\")\n"
   ]
  }
 ],
 "metadata": {
  "kernelspec": {
   "display_name": "Python 3",
   "language": "python",
   "name": "python3"
  },
  "language_info": {
   "codemirror_mode": {
    "name": "ipython",
    "version": 3
   },
   "file_extension": ".py",
   "mimetype": "text/x-python",
   "name": "python",
   "nbconvert_exporter": "python",
   "pygments_lexer": "ipython3",
   "version": "3.12.3"
  }
 },
 "nbformat": 4,
 "nbformat_minor": 5
}
