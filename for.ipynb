{
 "cells": [
  {
   "cell_type": "code",
   "execution_count": 1,
   "id": "2d7f0496",
   "metadata": {},
   "outputs": [
    {
     "name": "stdout",
     "output_type": "stream",
     "text": [
      "4 4 4 4 4 "
     ]
    }
   ],
   "source": [
    "# for 1 \n",
    "k = int(input(\"k = \"))\n",
    "n = int(input(\"n = \"))\n",
    "for i in range(n):\n",
    "    print(k, end=\" \")\n",
    "    \n"
   ]
  },
  {
   "cell_type": "code",
   "execution_count": 2,
   "id": "4570694d",
   "metadata": {},
   "outputs": [
    {
     "name": "stdout",
     "output_type": "stream",
     "text": [
      "1\n",
      "2\n",
      "3\n",
      "4\n"
     ]
    }
   ],
   "source": [
    "# for 2 \n",
    "a = int(input(\"a = \"))\n",
    "b = int(input(\"b = \"))\n",
    "if a < b:\n",
    "    for i in range(a, b+1):\n",
    "        print(i)\n"
   ]
  },
  {
   "cell_type": "code",
   "execution_count": 3,
   "id": "fd43f416",
   "metadata": {},
   "outputs": [
    {
     "name": "stdout",
     "output_type": "stream",
     "text": [
      "5\n",
      "6\n",
      "7\n",
      "8\n",
      "9\n",
      "10\n",
      "11\n",
      "12\n",
      "13\n",
      "14\n",
      "15\n",
      "16\n",
      "17\n",
      "18\n",
      "19\n",
      "20\n",
      "21\n",
      "22\n",
      "23\n",
      "24\n",
      "25\n",
      "26\n",
      "27\n",
      "28\n",
      "29\n",
      "30\n",
      "31\n",
      "32\n",
      "33\n",
      "34\n",
      "35\n",
      "36\n",
      "37\n",
      "38\n",
      "39\n",
      "40\n",
      "41\n",
      "42\n",
      "43\n",
      "44\n",
      "45\n",
      "46\n",
      "47\n",
      "48\n",
      "49\n",
      "50\n",
      "51\n",
      "52\n",
      "53\n",
      "54\n",
      "55\n",
      "56\n",
      "57\n",
      "58\n",
      "59\n",
      "60\n",
      "61\n",
      "62\n",
      "63\n"
     ]
    }
   ],
   "source": [
    "# for 3 \n",
    "a = int(input(\"a = \"))\n",
    "b = int(input(\"b = \"))\n",
    "\n",
    "for i in range(a+1, b):\n",
    "    print(i)"
   ]
  },
  {
   "cell_type": "code",
   "execution_count": 4,
   "id": "9188acdb",
   "metadata": {},
   "outputs": [
    {
     "name": "stdout",
     "output_type": "stream",
     "text": [
      "1 kg konfet narxi 4.0 sum\n",
      "2 kg konfet narxi 8.0 sum\n",
      "3 kg konfet narxi 12.0 sum\n",
      "4 kg konfet narxi 16.0 sum\n",
      "5 kg konfet narxi 20.0 sum\n",
      "6 kg konfet narxi 24.0 sum\n",
      "7 kg konfet narxi 28.0 sum\n",
      "8 kg konfet narxi 32.0 sum\n",
      "9 kg konfet narxi 36.0 sum\n",
      "10 kg konfet narxi 40.0 sum\n"
     ]
    }
   ],
   "source": [
    "# for 4 \n",
    "a = float(input(\"narx = \"))\n",
    "for i in range(1,11):\n",
    "    print(i, \"kg konfet narxi\", i*a, \"sum\")\n"
   ]
  },
  {
   "cell_type": "code",
   "execution_count": 5,
   "id": "d5eaf874",
   "metadata": {},
   "outputs": [
    {
     "name": "stdout",
     "output_type": "stream",
     "text": [
      "0.1 kg konfet narxi 0.4 sum\n",
      "0.2 kg konfet narxi 0.8 sum\n",
      "0.3 kg konfet narxi 1.2 sum\n",
      "0.4 kg konfet narxi 1.6 sum\n",
      "0.5 kg konfet narxi 2.0 sum\n",
      "0.6 kg konfet narxi 2.4 sum\n",
      "0.7 kg konfet narxi 2.8 sum\n",
      "0.8 kg konfet narxi 3.2 sum\n",
      "0.9 kg konfet narxi 3.6 sum\n",
      "1.0 kg konfet narxi 4.0 sum\n"
     ]
    }
   ],
   "source": [
    "# for 5 \n",
    "a = float(input(\"narx = \"))\n",
    "for i in range(1,11):\n",
    "    print(i/10, \"kg konfet narxi\", i*a/10, \"sum\")\n"
   ]
  },
  {
   "cell_type": "code",
   "execution_count": 6,
   "id": "fd58a4cd",
   "metadata": {},
   "outputs": [
    {
     "name": "stdout",
     "output_type": "stream",
     "text": [
      "1.2 kg konfet narxi 4.8 sum\n",
      "1.4 kg konfet narxi 5.6 sum\n",
      "1.6 kg konfet narxi 6.4 sum\n",
      "1.8 kg konfet narxi 7.2 sum\n",
      "2.0 kg konfet narxi 8.0 sum\n"
     ]
    }
   ],
   "source": [
    "#for 6 \n",
    "# a = float(input(\"narx = \"))\n",
    "for i in range(12,21,2):\n",
    "    print(i/10, \"kg konfet narxi\", i*a/10, \"sum\")\n",
    " "
   ]
  },
  {
   "cell_type": "code",
   "execution_count": 7,
   "id": "569b9c99",
   "metadata": {},
   "outputs": [
    {
     "name": "stdout",
     "output_type": "stream",
     "text": [
      "Summa 0\n"
     ]
    }
   ],
   "source": [
    "# for 7 \n",
    "a = int(input(\"a = \"))\n",
    "b = int(input(\"b = \"))\n",
    "Sum = 0\n",
    "for i in range(a,b+1):\n",
    "    Sum += i\n",
    "print(\"Summa\", Sum)"
   ]
  },
  {
   "cell_type": "code",
   "execution_count": 8,
   "id": "ce745064",
   "metadata": {},
   "outputs": [
    {
     "name": "stdout",
     "output_type": "stream",
     "text": [
      "Ko'paytma 20\n"
     ]
    }
   ],
   "source": [
    "# for 8 \n",
    "a = int(input(\"a = \"))\n",
    "b = int(input(\"b = \"))\n",
    "kopaytma = 1\n",
    "for i in range(a,b+1):\n",
    "    kopaytma *= i\n",
    "print(\"Ko'paytma\", kopaytma)"
   ]
  },
  {
   "cell_type": "code",
   "execution_count": 9,
   "id": "3da59341",
   "metadata": {},
   "outputs": [
    {
     "name": "stdout",
     "output_type": "stream",
     "text": [
      "Summa 30\n"
     ]
    }
   ],
   "source": [
    "# for 9 \n",
    "a = int(input(\"a = \"))\n",
    "b = int(input(\"b = \"))\n",
    "Sum = 0\n",
    "for i in range(a,b+1):\n",
    "    Sum += i**2\n",
    "print(\"Summa\", Sum)\n"
   ]
  },
  {
   "cell_type": "code",
   "execution_count": 10,
   "id": "f4d7583a",
   "metadata": {},
   "outputs": [
    {
     "name": "stdout",
     "output_type": "stream",
     "text": [
      "1.5\n"
     ]
    }
   ],
   "source": [
    "# for 10 \n",
    "n = int(input(\"n = \"))\n",
    "s = 0\n",
    "for i in range(1, n+1):\n",
    "    s += 1/i\n",
    "print(s)"
   ]
  },
  {
   "cell_type": "code",
   "execution_count": 11,
   "id": "1cbe4f6a",
   "metadata": {},
   "outputs": [
    {
     "name": "stdout",
     "output_type": "stream",
     "text": [
      "492\n"
     ]
    }
   ],
   "source": [
    "# for 11 \n",
    "n = int(input(\"n = \"))\n",
    "s = 0\n",
    "for i in range(2*n):\n",
    "    s += (n+i)**2\n",
    "print(s)"
   ]
  },
  {
   "cell_type": "code",
   "execution_count": 12,
   "id": "439098bd",
   "metadata": {},
   "outputs": [
    {
     "name": "stdout",
     "output_type": "stream",
     "text": [
      "56211094800.477974\n"
     ]
    }
   ],
   "source": [
    "# for 12 \n",
    "n = int(input(\"n = \"))\n",
    "s = 1\n",
    "for i in range(11,n*10):\n",
    "    s *= i/10\n",
    "    \n",
    "print(s)\n"
   ]
  },
  {
   "cell_type": "code",
   "execution_count": 13,
   "id": "8a43de77",
   "metadata": {},
   "outputs": [
    {
     "name": "stdout",
     "output_type": "stream",
     "text": [
      "-8.0\n"
     ]
    }
   ],
   "source": [
    "# for 13 \n",
    "n = int(input(\"n = \"))\n",
    "s = 0\n",
    "for i in range(11,(n+1)*10):\n",
    "    s += (-1)**(i) * i/10\n",
    "print(s)\n"
   ]
  },
  {
   "cell_type": "code",
   "execution_count": 14,
   "id": "1640fdea",
   "metadata": {},
   "outputs": [
    {
     "name": "stdout",
     "output_type": "stream",
     "text": [
      "16\n"
     ]
    }
   ],
   "source": [
    "# for 14 \n",
    "n = int(input(\"n = \"))\n",
    "s = 0\n",
    "for i in range(1, 2*n,2):\n",
    "    s += i\n",
    "print(s)"
   ]
  },
  {
   "cell_type": "code",
   "execution_count": 15,
   "id": "51fed80d",
   "metadata": {},
   "outputs": [
    {
     "name": "stdout",
     "output_type": "stream",
     "text": [
      "256\n"
     ]
    }
   ],
   "source": [
    "# for 15 \n",
    "a = int(input(\"a = \"))\n",
    "s = 1\n",
    "for i in range(n):\n",
    "    s *= a\n",
    "print(s)"
   ]
  },
  {
   "cell_type": "code",
   "execution_count": 16,
   "id": "c504c747",
   "metadata": {},
   "outputs": [
    {
     "name": "stdout",
     "output_type": "stream",
     "text": [
      "2 4 8 16 "
     ]
    }
   ],
   "source": [
    "# for 16 \n",
    "n = int(input(\"n = \"))\n",
    "a = int(input(\"a = \"))\n",
    "for i in range(1, n+1):\n",
    "    print(a**i, end=\" \")\n"
   ]
  },
  {
   "cell_type": "code",
   "execution_count": 17,
   "id": "ec6b67af",
   "metadata": {},
   "outputs": [
    {
     "name": "stdout",
     "output_type": "stream",
     "text": [
      "0 1 1 2 "
     ]
    }
   ],
   "source": [
    "# for 17 \n",
    "n = int(input('n = '))\n",
    "a1 = 0\n",
    "a2 = 1\n",
    "print(a1,a2,sep=\" \", end=' ' )\n",
    "for i in range(0,n,2):\n",
    "    a1+=a2\n",
    "    a2+=a1\n",
    "    print(a1,a2,sep=\" \", end=' ' )\n",
    "    "
   ]
  },
  {
   "cell_type": "code",
   "execution_count": 21,
   "id": "b0cdf776",
   "metadata": {},
   "outputs": [
    {
     "name": "stdout",
     "output_type": "stream",
     "text": [
      "5 19\n"
     ]
    }
   ],
   "source": [
    "# for 18 \n",
    "n = int(input('n = '))\n",
    "s = 0\n",
    "for i in range(2,n,1):\n",
    "    tub = False\n",
    "    a = n - i\n",
    "    k = int(i**0.5+1)\n",
    "    \n",
    "    for j in range(2,k):\n",
    "        if i%j != 0:\n",
    "            tub = True\n",
    "        else:\n",
    "            tub = False\n",
    "            break\n",
    "    \n",
    "    if tub:\n",
    "        k = int(a**0.5+1)\n",
    "        for j in range(2,k):\n",
    "            if a % j != 0:\n",
    "                tub = True\n",
    "            else:\n",
    "                tub = False\n",
    "                break\n",
    "    \n",
    "    if tub:\n",
    "        print(i, a, sep=\" \")\n",
    "        break"
   ]
  },
  {
   "cell_type": "code",
   "execution_count": 24,
   "id": "ac3aacd0",
   "metadata": {},
   "outputs": [
    {
     "name": "stdout",
     "output_type": "stream",
     "text": [
      "1 dan 4 gacha sonlar ko‘paytmasi = 24\n"
     ]
    }
   ],
   "source": [
    "# for  19 \n",
    "n = int(input('n = '))\n",
    "kopaytma = 1\n",
    "for i in range(1, n + 1):\n",
    "    kopaytma *= i\n",
    "print(\"1 dan\", n, \"gacha sonlar ko‘paytmasi =\", kopaytma)\n",
    "\n"
   ]
  },
  {
   "cell_type": "code",
   "execution_count": 25,
   "id": "f321506f",
   "metadata": {},
   "outputs": [
    {
     "name": "stdout",
     "output_type": "stream",
     "text": [
      "1 \n",
      "1 2 \n",
      "1 2 3 \n",
      "1 2 3 4 \n"
     ]
    }
   ],
   "source": [
    "# for 20 \n",
    "n = int(input('n = '))\n",
    "for i in range(1,n+1,1):\n",
    "    for j in range(1,i+1):\n",
    "        print(j, end=\" \")\n",
    "        \n",
    "    print()"
   ]
  },
  {
   "cell_type": "code",
   "execution_count": 26,
   "id": "0ee77f74",
   "metadata": {},
   "outputs": [
    {
     "name": "stdout",
     "output_type": "stream",
     "text": [
      "1 \n",
      "2 2 \n",
      "3 3 3 \n",
      "4 4 4 4 \n"
     ]
    }
   ],
   "source": [
    "# for 21 \n",
    "n = int(input('n = '))\n",
    "for i in range(1,n+1,1):\n",
    "    for j in range(1,i+1):\n",
    "        print(i, end=\" \")\n",
    "        \n",
    "    print()\n"
   ]
  },
  {
   "cell_type": "code",
   "execution_count": 27,
   "id": "e01b1585",
   "metadata": {},
   "outputs": [
    {
     "name": "stdout",
     "output_type": "stream",
     "text": [
      "Yig‘indi = 65.375\n"
     ]
    }
   ],
   "source": [
    "# for 22 \n",
    "n = int(input(\"n = \"))\n",
    "x = float(input(\"x = \"))\n",
    "\n",
    "yigindi = 1 \n",
    "fact = 1     \n",
    "daraja = 1   \n",
    "for i in range(1, n + 1):\n",
    "    daraja *= x       # x^i\n",
    "    fact *= i         # i!\n",
    "    yigindi += daraja / fact\n",
    "\n",
    "print(\"Yig‘indi =\", yigindi)\n"
   ]
  },
  {
   "cell_type": "code",
   "execution_count": 28,
   "id": "b14868eb",
   "metadata": {},
   "outputs": [
    {
     "name": "stdout",
     "output_type": "stream",
     "text": [
      "Yig‘indi = 0.8414710097001764\n"
     ]
    }
   ],
   "source": [
    "# for 23 \n",
    "n = int(input(\"n = \"))\n",
    "x = float(input(\"x = \"))\n",
    "\n",
    "yigindi = 0\n",
    "daraja = x\n",
    "fact = 1\n",
    "\n",
    "for i in range(0, n + 1):\n",
    "    \n",
    "    if i > 0:\n",
    "        daraja *= x * x      \n",
    "        fact *= (2 * i) * (2 * i + 1)  \n",
    "    hadi = ((-1) ** i) * (daraja / fact)\n",
    "    yigindi += hadi\n",
    "\n",
    "print(\"Yig‘indi =\", yigindi)\n"
   ]
  },
  {
   "cell_type": "code",
   "execution_count": 29,
   "id": "530fd4f4",
   "metadata": {},
   "outputs": [
    {
     "name": "stdout",
     "output_type": "stream",
     "text": [
      "2.3841269841269837\n"
     ]
    }
   ],
   "source": [
    "# for 24 \n",
    "x = float(input(\"x = \"))\n",
    "s = 1\n",
    "p = 1\n",
    "j = 1\n",
    "for i in range(1,2*n + 1, 2):\n",
    "    p *= i\n",
    "    s += (-1)**j * x**i / p\n",
    "    p *= (i+1)\n",
    "    j += 1\n",
    "print(s)\n"
   ]
  },
  {
   "cell_type": "code",
   "execution_count": 30,
   "id": "c1ee9bdc",
   "metadata": {},
   "outputs": [
    {
     "name": "stdout",
     "output_type": "stream",
     "text": [
      "17.333333333333332\n"
     ]
    }
   ],
   "source": [
    "# for 25 \n",
    "n = int(input(\"n = \"))\n",
    "x = float(input(\"x = \"))\n",
    "s = 0\n",
    "for i in range(1,n+1):\n",
    "    s += (-1)**(i-1) * x**i / i\n",
    "print(s)\n"
   ]
  },
  {
   "cell_type": "code",
   "execution_count": 31,
   "id": "02112e4f",
   "metadata": {},
   "outputs": [
    {
     "name": "stdout",
     "output_type": "stream",
     "text": [
      "206441.50793650793\n"
     ]
    }
   ],
   "source": [
    "# for 26 \n",
    "n = int(input(\"n = \"))\n",
    "x = float(input(\"x = \"))\n",
    "s = 0\n",
    "j = 0\n",
    "for i in range(1,2*n + 2,2):\n",
    "    s += (-1)**j * x**i/i\n",
    "    j += 1\n",
    "print(s)"
   ]
  },
  {
   "cell_type": "code",
   "execution_count": 32,
   "id": "93df39fd",
   "metadata": {},
   "outputs": [
    {
     "name": "stdout",
     "output_type": "stream",
     "text": [
      "41117.20393105158\n"
     ]
    }
   ],
   "source": [
    "# for 27 \n",
    "n = int(input(\"n = \"))\n",
    "x = float(input(\"x = \"))\n",
    "s = x\n",
    "a = 1\n",
    "b = 1\n",
    "j = 1\n",
    "k = 1\n",
    "for i in range(3,2*n+2,2):\n",
    "    a *= (i - 2)\n",
    "    b *= j \n",
    "    s += a * x**i / (b*i)\n",
    "    j *= 2*k\n",
    "    k += 1\n",
    "    \n",
    "print(s)"
   ]
  },
  {
   "cell_type": "code",
   "execution_count": 34,
   "id": "e9edb1e3",
   "metadata": {},
   "outputs": [
    {
     "name": "stdout",
     "output_type": "stream",
     "text": [
      "2.171875\n"
     ]
    }
   ],
   "source": [
    "# for 28 \n",
    "n = int(input(\"n = \"))\n",
    "x = float(input(\"x = \"))\n",
    "s = 1 + x/2\n",
    "a = 3\n",
    "b = 1\n",
    "j = 1\n",
    "k = 1\n",
    "ishora= 1\n",
    "for i in range(2,n+1):\n",
    "    b *= 2*i\n",
    "    s += ishora * a * x**i / b\n",
    "    a *= k\n",
    "    k += 2\n",
    "    j += 1\n",
    "    ishora *= -1\n",
    "print(s)\n"
   ]
  },
  {
   "cell_type": "code",
   "execution_count": 35,
   "id": "04a3f15d",
   "metadata": {},
   "outputs": [
    {
     "name": "stdout",
     "output_type": "stream",
     "text": [
      "5.0\n",
      "5.0\n",
      "5.0\n"
     ]
    }
   ],
   "source": [
    "# FOR 29 \n",
    "n = int(input(\"n = \"))\n",
    "a = float(input(\"a = \"))\n",
    "b = int(input(\"b = \"))\n",
    "if a>b:\n",
    "    a += b\n",
    "    b = a - b\n",
    "    a = a - b\n",
    "c = (b-a)/(n)\n",
    "for i in range(1,n):\n",
    "    a += c\n",
    "    print(a)"
   ]
  },
  {
   "cell_type": "code",
   "execution_count": 36,
   "id": "3e78cf0b",
   "metadata": {},
   "outputs": [
    {
     "name": "stdout",
     "output_type": "stream",
     "text": [
      "1.9589242746631386\n",
      "1.9589242746631386\n",
      "1.9589242746631386\n"
     ]
    }
   ],
   "source": [
    "# for 30\n",
    "from math import sin\n",
    "\n",
    "n = int(input(\"n = \"))\n",
    "a = float(input(\"a = \"))\n",
    "b = int(input(\"b = \"))\n",
    "if a>b:\n",
    "    a += b\n",
    "    b = a - b\n",
    "    a = a - b\n",
    "c = (b-a)/(n)\n",
    "for i in range(1,n):\n",
    "    a += c\n",
    "    print(1-sin(a))\n"
   ]
  },
  {
   "cell_type": "code",
   "execution_count": 37,
   "id": "645dec64",
   "metadata": {},
   "outputs": [
    {
     "name": "stdout",
     "output_type": "stream",
     "text": [
      "2.5\n",
      "2.4\n",
      "2.4166666666666665\n",
      "2.413793103448276\n",
      "2.414285714285714\n"
     ]
    }
   ],
   "source": [
    "# for 31 \n",
    "n = int(input(\"n = \"))\n",
    "a = 2\n",
    "for i in range(1,n+1):\n",
    "    a = 2 + 1/a\n",
    "    print(a)"
   ]
  },
  {
   "cell_type": "code",
   "execution_count": 38,
   "id": "1ffe18d6",
   "metadata": {},
   "outputs": [
    {
     "name": "stdout",
     "output_type": "stream",
     "text": [
      "2.0\n",
      "1.5\n",
      "0.8333333333333334\n",
      "0.45833333333333337\n"
     ]
    }
   ],
   "source": [
    "# for 32 \n",
    "n = int(input(\"n = \"))\n",
    "a = 1\n",
    "for i in range(1,n+1):\n",
    "    a = (a + 1)/i\n",
    "    print(a)"
   ]
  },
  {
   "cell_type": "code",
   "execution_count": 39,
   "id": "97e223f2",
   "metadata": {},
   "outputs": [
    {
     "name": "stdout",
     "output_type": "stream",
     "text": [
      "2\n",
      "3\n",
      "5\n",
      "8\n",
      "13\n",
      "21\n",
      "34\n",
      "55\n",
      "89\n",
      "144\n",
      "233\n",
      "377\n",
      "610\n",
      "987\n"
     ]
    }
   ],
   "source": [
    "# for 33\n",
    "n = int(input(\"n = \"))\n",
    "a = 1 \n",
    "b = 1\n",
    "for i in range(1, n+1, 2):\n",
    "    a += b\n",
    "    b += a\n",
    "    print(a,b,sep='\\n')"
   ]
  },
  {
   "cell_type": "code",
   "execution_count": 40,
   "id": "13d8f6db",
   "metadata": {},
   "outputs": [
    {
     "name": "stdout",
     "output_type": "stream",
     "text": [
      "1.6666666666666667\n",
      "1.777777777777778\n"
     ]
    }
   ],
   "source": [
    "# for 34\n",
    "n = int(input(\"n = \"))\n",
    "a = 1\n",
    "b = 2\n",
    "for i in range(1,n+1,2):\n",
    "    a = (a + 2*b)/3\n",
    "    b = (b + 2*a)/3\n",
    "    print(a, b,sep=\"\\n\")\n",
    "    "
   ]
  },
  {
   "cell_type": "code",
   "execution_count": 41,
   "id": "1c9f88e1",
   "metadata": {},
   "outputs": [
    {
     "name": "stdout",
     "output_type": "stream",
     "text": [
      "3\n",
      "2\n",
      "-1\n",
      "-5\n",
      "-10\n",
      "-13\n"
     ]
    }
   ],
   "source": [
    "# for 3 5\n",
    "n = int(input(\"n = \"))\n",
    "a = 1\n",
    "b = 2\n",
    "c = 3\n",
    "for i in range(1,n+1,3):\n",
    "    a = c + b - 2*a\n",
    "    b = a + c - 2*b\n",
    "    c = b + a - 2*c\n",
    "    print(a,b,c,sep=\"\\n\")"
   ]
  },
  {
   "cell_type": "code",
   "execution_count": 42,
   "id": "7087037c",
   "metadata": {},
   "outputs": [
    {
     "name": "stdout",
     "output_type": "stream",
     "text": [
      "72354\n"
     ]
    }
   ],
   "source": [
    "# for 36 \n",
    "n = int(input(\"n = \"))\n",
    "k = int(input(\"k = \"))\n",
    "s = 0\n",
    "for i in range(1,n+1):\n",
    "    s += i**k\n",
    "print(s)"
   ]
  },
  {
   "cell_type": "code",
   "execution_count": 43,
   "id": "2bd17e86",
   "metadata": {},
   "outputs": [
    {
     "name": "stdout",
     "output_type": "stream",
     "text": [
      "1\n"
     ]
    }
   ],
   "source": [
    "# for 37 \n",
    "n = int(input(\"n = \"))\n",
    "s = 0\n",
    "for i in range(1,n+1):\n",
    "    s += i**i\n",
    "print(s)\n"
   ]
  },
  {
   "cell_type": "code",
   "execution_count": 44,
   "id": "f1796bda",
   "metadata": {},
   "outputs": [
    {
     "name": "stdout",
     "output_type": "stream",
     "text": [
      "22\n"
     ]
    }
   ],
   "source": [
    "# for 38\n",
    "n = int(input(\"n = \"))\n",
    "s = 0\n",
    "for i in range(1,n+1):\n",
    "    s += i**(n-i+1)\n",
    "print(s)"
   ]
  },
  {
   "cell_type": "code",
   "execution_count": 47,
   "id": "3217bfdf",
   "metadata": {},
   "outputs": [
    {
     "name": "stdout",
     "output_type": "stream",
     "text": [
      "7\n",
      "7\n",
      "7\n",
      "7\n",
      "7\n",
      "7\n",
      "7\n",
      "8\n",
      "8\n",
      "8\n",
      "8\n",
      "8\n",
      "8\n",
      "8\n",
      "8\n",
      "9\n",
      "9\n",
      "9\n",
      "9\n",
      "9\n",
      "9\n",
      "9\n",
      "9\n",
      "9\n"
     ]
    }
   ],
   "source": [
    "# for 39 \n",
    "a = int(input(\"a = \"))\n",
    "b = int(input(\"b = \"))\n",
    "for i in range(a,b+1):\n",
    "    for j in range(i):\n",
    "        print(i)\n",
    "\n"
   ]
  },
  {
   "cell_type": "code",
   "execution_count": 49,
   "id": "9772bc6c",
   "metadata": {},
   "outputs": [
    {
     "name": "stdout",
     "output_type": "stream",
     "text": [
      "4\n",
      "5\n",
      "5\n"
     ]
    }
   ],
   "source": [
    "# for 40 \n",
    "a = int(input(\"a = \"))\n",
    "b = int(input(\"b = \"))\n",
    "k = 1\n",
    "for i in range(a, b+1):\n",
    "    for j in range(k):\n",
    "        print(i)\n",
    "    k += 1"
   ]
  }
 ],
 "metadata": {
  "kernelspec": {
   "display_name": "Python 3",
   "language": "python",
   "name": "python3"
  },
  "language_info": {
   "codemirror_mode": {
    "name": "ipython",
    "version": 3
   },
   "file_extension": ".py",
   "mimetype": "text/x-python",
   "name": "python",
   "nbconvert_exporter": "python",
   "pygments_lexer": "ipython3",
   "version": "3.12.3"
  }
 },
 "nbformat": 4,
 "nbformat_minor": 5
}
