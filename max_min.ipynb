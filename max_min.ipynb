{
 "cells": [
  {
   "cell_type": "code",
   "execution_count": null,
   "id": "199643ec",
   "metadata": {},
   "outputs": [
    {
     "name": "stdout",
     "output_type": "stream",
     "text": [
      "7 5\n"
     ]
    }
   ],
   "source": [
    "# max_min\n",
    "N=int(input(\"N=\"))\n",
    "n=int(input(\"n=\"))\n",
    "min_son=n\n",
    "max_son=n\n",
    "for i in range(N-1):\n",
    "    n = int(input())\n",
    "    if (min_son>n):\n",
    "        min_son=n\n",
    "    if (max_son<n):\n",
    "        max_son =n\n",
    "\n",
    "print(max_son,min_son)\n"
   ]
  },
  {
   "cell_type": "code",
   "execution_count": 9,
   "id": "43cd3771",
   "metadata": {},
   "outputs": [
    {
     "name": "stdout",
     "output_type": "stream",
     "text": [
      "1 chi to'g'ri burchakli uchburchakning a va b tomonini kiriting:\n",
      "2 chi to'g'ri burchakli uchburchakning a va b tomonini kiriting:\n",
      "3 chi to'g'ri burchakli uchburchakning a va b tomonini kiriting:\n",
      "4 chi to'g'ri burchakli uchburchakning a va b tomonini kiriting:\n",
      "Min S =  15.249999999999998  Max P =  18.810249675906654\n"
     ]
    }
   ],
   "source": [
    "# max_min\n",
    "from math import *\n",
    "n = int(input(\"n = \"))\n",
    "\n",
    "S = 0\n",
    "P = 0\n",
    "\n",
    "for i in range(n):\n",
    "    print(i+1, \"chi to'g'ri burchakli uchburchakning a va b tomonini kiriting:\")\n",
    "    a = int(input(\"a = \"))\n",
    "    b = int(input(\"b = \"))\n",
    "    c = sqrt(a**2 + b**2)\n",
    "    P = a + b + c\n",
    "    S = (c ** 2)/4\n",
    "    if(i == 0): \n",
    "        max_P = P\n",
    "        mix_S = S\n",
    "        \n",
    "    if(P > max_P):\n",
    "        max_P = P\n",
    "        \n",
    "    if(S < mix_S):\n",
    "        min_S = S\n",
    "        \n",
    "print(\"Min S = \", mix_S, \" Max P = \", max_P )\n",
    "    "
   ]
  },
  {
   "cell_type": "code",
   "execution_count": null,
   "id": "3fd2a7cb",
   "metadata": {},
   "outputs": [
    {
     "name": "stdout",
     "output_type": "stream",
     "text": [
      "1 chi to'g'ri burchakli uchburchakning a va b tomonini kiriting:\n",
      "2 chi to'g'ri burchakli uchburchakning a va b tomonini kiriting:\n",
      "3 chi to'g'ri burchakli uchburchakning a va b tomonini kiriting:\n",
      "4 chi to'g'ri burchakli uchburchakning a va b tomonini kiriting:\n",
      "5 chi to'g'ri burchakli uchburchakning a va b tomonini kiriting:\n",
      "6 chi to'g'ri burchakli uchburchakning a va b tomonini kiriting:\n",
      "7 chi to'g'ri burchakli uchburchakning a va b tomonini kiriting:\n",
      "Min S =  10.25  Max P =  18.810249675906654\n"
     ]
    }
   ],
   "source": [
    "# min_max 3\n",
    "from math import *\n",
    "n = int(input(\"n = \"))\n",
    "\n",
    "S = 0\n",
    "P = 0\n",
    "\n",
    "for i in range(n):\n",
    "    print(i+1, \"chi to'g'ri burchakli uchburchakning a va b tomonini kiriting:\")\n",
    "    a = int(input(\"a = \"))\n",
    "    b = int(input(\"b = \"))\n",
    "    c = sqrt(a**2 + b**2)\n",
    "    P = a + b + c\n",
    "    S = (c ** 2)/4\n",
    "    if(i == 0): \n",
    "        max_P = P\n",
    "        mix_S = S\n",
    "        \n",
    "    if(P > max_P):\n",
    "        max_P = P\n",
    "        \n",
    "    if(S < mix_S):\n",
    "        min_S = S\n",
    "        \n",
    "print(\"Min S = \", mix_S, \" Max P = \", max_P )\n",
    "    "
   ]
  },
  {
   "cell_type": "code",
   "execution_count": 11,
   "id": "005d482d",
   "metadata": {},
   "outputs": [
    {
     "name": "stdout",
     "output_type": "stream",
     "text": [
      " n ta sondan iborat sonlar toplamini kiriting :\n",
      "Eng kichik element o'rni :  0\n"
     ]
    }
   ],
   "source": [
    "# min_max 4 \n",
    "\n",
    "n = int(input(\"n = \"))\n",
    "j = 0\n",
    "print(\" n ta sondan iborat sonlar toplamini kiriting :\")\n",
    "\n",
    "for i in range(n):\n",
    "    a = int(input())\n",
    "    \n",
    "    if(i == 0):\n",
    "        min_son = a\n",
    "        max_son = a\n",
    "    \n",
    "    if(min_son > a):\n",
    "        min_son = a\n",
    "        j = i\n",
    "print(\"Eng kichik element o'rni : \", j)\n"
   ]
  },
  {
   "cell_type": "code",
   "execution_count": null,
   "id": "12328f6e",
   "metadata": {},
   "outputs": [
    {
     "name": "stdout",
     "output_type": "stream",
     "text": [
      "1.0\n"
     ]
    }
   ],
   "source": [
    "# max_min 5 \n",
    "\n",
    "n = int(input(\"n = \"))\n",
    "i = 1\n",
    "while i <= n:\n",
    "    m = float(input(\"m = \"))\n",
    "    v = float(input(\"v = \"))\n",
    "    if i == 1:\n",
    "        max_m_v = m / v\n",
    "    \n",
    "    if max_m_v < m / v:\n",
    "        max_m_v = m / v\n",
    "\n",
    "    i += 1  \n",
    "print(max_m_v)\n"
   ]
  },
  {
   "cell_type": "code",
   "execution_count": 16,
   "id": "91ecb4de",
   "metadata": {},
   "outputs": [
    {
     "name": "stdout",
     "output_type": "stream",
     "text": [
      "5 4\n"
     ]
    }
   ],
   "source": [
    "# max_min 6\n",
    "N=int(input(\"N=\"))\n",
    "n = int(input(\"n = \"))\n",
    "\n",
    "x = True\n",
    "\n",
    "for i in range(1,n+1):\n",
    "    k = int(input(\"son = \"))\n",
    "    if x:\n",
    "        maxi = k\n",
    "        mini = k\n",
    "        x = False\n",
    "    if k >= maxi:\n",
    "        maxi = k\n",
    "        sanoq1 = i\n",
    "    elif k < mini:\n",
    "        mini = k\n",
    "        sanoq2 = i\n",
    "        \n",
    "print(sanoq2,sanoq1)\n"
   ]
  },
  {
   "cell_type": "code",
   "execution_count": null,
   "id": "3c43a2be",
   "metadata": {},
   "outputs": [
    {
     "name": "stdout",
     "output_type": "stream",
     "text": [
      "1 2\n"
     ]
    }
   ],
   "source": [
    "# max_min 7\n",
    "n = int(input(\"n = \"))\n",
    "\n",
    "x = True\n",
    "\n",
    "for i in range(1, n + 1):\n",
    "    k = int(input(\"son = \"))\n",
    "    if x:\n",
    "        maxi = k\n",
    "        mini = k\n",
    "        n1 = i   # <-- bu yerda boshlang‘ich qiymat berish kerak\n",
    "        n2 = i   # <-- bu ham\n",
    "        x = False\n",
    "    if k > maxi:\n",
    "        maxi = k\n",
    "        n1 = i\n",
    "    if k <= mini:\n",
    "        mini = k\n",
    "        n2 = i\n",
    "        \n",
    "print(n1, n2)\n"
   ]
  },
  {
   "cell_type": "code",
   "execution_count": 22,
   "id": "fc38bf73",
   "metadata": {},
   "outputs": [
    {
     "name": "stdout",
     "output_type": "stream",
     "text": [
      "3 2\n"
     ]
    }
   ],
   "source": [
    "# max_min 8\n",
    "n = int(input(\"n = \"))\n",
    "\n",
    "x = True\n",
    "\n",
    "for i in range(1,n+1):\n",
    "    k = int(input(f\"k{i} = \"))\n",
    "    if x:\n",
    "        mini = k\n",
    "        x = False\n",
    "        \n",
    "    if k <= mini:\n",
    "        n1 = i\n",
    "        \n",
    "    if k < mini:\n",
    "        mini = k\n",
    "        n2 = i\n",
    "print(n1,n2)"
   ]
  },
  {
   "cell_type": "code",
   "execution_count": 23,
   "id": "634a23f1",
   "metadata": {},
   "outputs": [
    {
     "name": "stdout",
     "output_type": "stream",
     "text": [
      "1 2\n"
     ]
    }
   ],
   "source": [
    "# max_min 9\n",
    "n = int(input(\"n = \"))\n",
    "\n",
    "x = True\n",
    "\n",
    "for i in range(1,n+1):\n",
    "    k = int(input(\"son = \"))\n",
    "    if x:\n",
    "        maxi = k\n",
    "        x = False\n",
    "        \n",
    "    if k >= maxi:\n",
    "        n1 = i\n",
    "        \n",
    "    if k > maxi:\n",
    "        maxi = k\n",
    "        n2 = i\n",
    "        \n",
    "print(n1,n2)"
   ]
  },
  {
   "cell_type": "code",
   "execution_count": 24,
   "id": "3b5fd86c",
   "metadata": {},
   "outputs": [
    {
     "name": "stdout",
     "output_type": "stream",
     "text": [
      "1\n"
     ]
    }
   ],
   "source": [
    "# max_min 10\n",
    "n = int(input(\"n = \"))\n",
    "x = True\n",
    "\n",
    "for i in range(1,n+1):\n",
    "    a = int(input(\"son = \"))\n",
    "    \n",
    "    if i == 1:\n",
    "        mini = a\n",
    "        maxi = a\n",
    "        index1 = i\n",
    "        index2 = i\n",
    "        \n",
    "    if mini > a:\n",
    "        mini = a\n",
    "        index1 = i\n",
    "        \n",
    "    if maxi < a:\n",
    "        maxi = a\n",
    "        index2 = i\n",
    "        \n",
    "if index1 > index2:\n",
    "    print(index2)\n",
    "else:\n",
    "    print(index1)"
   ]
  },
  {
   "cell_type": "code",
   "execution_count": 25,
   "id": "e89b9700",
   "metadata": {},
   "outputs": [
    {
     "name": "stdout",
     "output_type": "stream",
     "text": [
      "4\n"
     ]
    }
   ],
   "source": [
    "# max_min 11\n",
    "n = int(input(\"n = \"))\n",
    "\n",
    "for i in range(1,n+1):\n",
    "    \n",
    "    a = int(input(\"son = \"))\n",
    "    \n",
    "    if i == 0:\n",
    "        mini = a\n",
    "        maxi = a\n",
    "        \n",
    "    if mini > a:\n",
    "        mini = a\n",
    "        index = i\n",
    "        \n",
    "    if maxi < a:\n",
    "        maxi = a\n",
    "        index = i\n",
    "        \n",
    "print(i)\n",
    "        \n"
   ]
  },
  {
   "cell_type": "code",
   "execution_count": 26,
   "id": "586bb43c",
   "metadata": {},
   "outputs": [
    {
     "name": "stdout",
     "output_type": "stream",
     "text": [
      "4\n"
     ]
    }
   ],
   "source": [
    "# max_min 12\n",
    "n = int(input((\"n = \")))\n",
    "x = True\n",
    "mini = 0\n",
    "for i in range(n):\n",
    "    a = int(input(\"son = \"))\n",
    "    \n",
    "    if a > 0 and x:\n",
    "        mini = a\n",
    "        x = 0\n",
    "        \n",
    "    if mini > a and a > 0:\n",
    "        mini = a\n",
    "        \n",
    "print(mini)\n",
    "    "
   ]
  },
  {
   "cell_type": "code",
   "execution_count": 27,
   "id": "4cc33550",
   "metadata": {},
   "outputs": [
    {
     "name": "stdout",
     "output_type": "stream",
     "text": [
      "5\n"
     ]
    }
   ],
   "source": [
    "# max_min 13\n",
    "n = int(input(\"n = \"))\n",
    "j = 0\n",
    "\n",
    "for i in range(1, n+1):\n",
    "    a = int(input())\n",
    "    \n",
    "    if(i == 1):\n",
    "        max_toq = a\n",
    "    \n",
    "    if(a % 2 != 0 & max_toq < a):\n",
    "        max_toq = a\n",
    "    \n",
    "if(max_toq % 2 != 0):\n",
    "    print(max_toq)\n",
    "else:\n",
    "    print(\"0\")\n",
    "\n"
   ]
  },
  {
   "cell_type": "code",
   "execution_count": 28,
   "id": "679f668a",
   "metadata": {},
   "outputs": [
    {
     "name": "stdout",
     "output_type": "stream",
     "text": [
      "1\n"
     ]
    }
   ],
   "source": [
    "# max_min 14\n",
    "b = int(input(\"b = \"))\n",
    "j = 0\n",
    "n1 = 0\n",
    "x = True\n",
    "for i in range(1,11):\n",
    "    \n",
    "    n = int(input(f\"{i} son =  \"))\n",
    "    \n",
    "    if n > b and x:\n",
    "        j = i\n",
    "        n1 = n\n",
    "        x = False\n",
    "        \n",
    "    if n1 > n and n > b:\n",
    "        n1 = n\n",
    "        j = i\n",
    "        \n",
    "    \n",
    "if j :\n",
    "    print(j)\n",
    "else:\n",
    "    print(\"0\")"
   ]
  },
  {
   "cell_type": "code",
   "execution_count": 31,
   "id": "540b41d7",
   "metadata": {},
   "outputs": [
    {
     "name": "stdout",
     "output_type": "stream",
     "text": [
      "0 < b < c\n",
      "8\n"
     ]
    }
   ],
   "source": [
    "# max_min 15\n",
    "\n",
    "\n",
    "b = int(input(\"b = \"))\n",
    "c = int(input(\"c = \"))\n",
    "print(\"0 < b < c\")\n",
    "j = 0\n",
    "for i in range(10):\n",
    "    n = int(input(f\"{i+1} son = \"))\n",
    "    \n",
    "    if(n > b and n < c):\n",
    "        j = i \n",
    "\n",
    "if(j != 0):\n",
    "    print(j)\n",
    "else:\n",
    "    print(\"0\")\n",
    "        "
   ]
  },
  {
   "cell_type": "code",
   "execution_count": 33,
   "id": "c256bdb6",
   "metadata": {},
   "outputs": [
    {
     "name": "stdout",
     "output_type": "stream",
     "text": [
      "-1\n"
     ]
    }
   ],
   "source": [
    "# max_min 16\n",
    "n = int(input(\"n = \"))\n",
    "index = 0\n",
    "for i in range(1,n+1):\n",
    "    \n",
    "    a =int(input(\"a = \"))\n",
    "    \n",
    "    if i == 1:\n",
    "        mini = a\n",
    "        \n",
    "    if a < mini:\n",
    "        mini = a\n",
    "        index = i\n",
    "        \n",
    "print(index-1)\n"
   ]
  },
  {
   "cell_type": "code",
   "execution_count": 35,
   "id": "0bbfc81a",
   "metadata": {},
   "outputs": [
    {
     "name": "stdout",
     "output_type": "stream",
     "text": [
      "2\n"
     ]
    }
   ],
   "source": [
    "# max_min 17    \n",
    "n = int(input(\"n = \"))\n",
    "\n",
    "index = 0\n",
    "for i in range(1, n+1):\n",
    "    \n",
    "    a = int(input(\"son = \"))\n",
    "    \n",
    "    if i == 1:\n",
    "        maxi = a\n",
    "        \n",
    "    if maxi < a:\n",
    "        maxi = a\n",
    "        index = i\n",
    "print(n-index)\n"
   ]
  },
  {
   "cell_type": "code",
   "execution_count": 36,
   "id": "09731e49",
   "metadata": {},
   "outputs": [
    {
     "name": "stdout",
     "output_type": "stream",
     "text": [
      "4\n"
     ]
    }
   ],
   "source": [
    "# max_min 18\n",
    "n = int(input(\"n = \"))\n",
    "index1, index2 = 0,0\n",
    "for i in range(n):\n",
    "    \n",
    "    a = int(input(\"son = \"))\n",
    "    \n",
    "    if i == 0:\n",
    "        maxi = a\n",
    "    \n",
    "    if maxi < a:\n",
    "        maxi = a\n",
    "        index1 = i\n",
    "        \n",
    "    if maxi == a:\n",
    "        index2 = i\n",
    "        \n",
    "if not index2:\n",
    "    print(0)\n",
    "else:\n",
    "    print(index2-index1-1)\n",
    "    \n",
    "\n"
   ]
  },
  {
   "cell_type": "code",
   "execution_count": null,
   "id": "98216271",
   "metadata": {},
   "outputs": [
    {
     "name": "stdout",
     "output_type": "stream",
     "text": [
      "2\n"
     ]
    }
   ],
   "source": [
    "# max_min 19\n",
    "n = int(input(\"n = \"))\n",
    "\n",
    "for i in range(n):\n",
    "    \n",
    "    a = int(input(\"son = \"))\n",
    "    \n",
    "    if i == 0:4\n",
    "    \n",
    "        mini = a\n",
    "        s = 0\n",
    "    if mini > a:\n",
    "        mini = a\n",
    "        s = 1\n",
    "    elif mini == a:\n",
    "        s += 1\n",
    "        \n",
    "print(s)\n",
    "    "
   ]
  },
  {
   "cell_type": "code",
   "execution_count": 38,
   "id": "ee2d78ed",
   "metadata": {},
   "outputs": [
    {
     "name": "stdout",
     "output_type": "stream",
     "text": [
      "1\n"
     ]
    }
   ],
   "source": [
    "# max_min 20\n",
    "n = int(input(\"n = \"))\n",
    "\n",
    "for i in range(n):\n",
    "    \n",
    "    a = int(input(\"a = \"))\n",
    "    \n",
    "    if i == 0:\n",
    "        mini = a\n",
    "        S_min = 0\n",
    "        maxi = a\n",
    "        S_max = 0\n",
    "        \n",
    "    if mini > a:\n",
    "        mini = a\n",
    "        S_min = 0\n",
    "        \n",
    "    if a == mini:\n",
    "        S_min +=1\n",
    "        \n",
    "    if maxi < a:\n",
    "        maxi = a\n",
    "        S_max = 0\n",
    "        \n",
    "    if mini==maxi:\n",
    "        continue\n",
    "        \n",
    "    if maxi == a:\n",
    "        S_max += 1\n",
    "        \n",
    "    \n",
    "                \n",
    "print(S_min + S_max)"
   ]
  },
  {
   "cell_type": "code",
   "execution_count": 39,
   "id": "00778b9c",
   "metadata": {},
   "outputs": [
    {
     "name": "stdout",
     "output_type": "stream",
     "text": [
      "To'plam orta qiymati : 4.5\n"
     ]
    }
   ],
   "source": [
    "# max_min 21\n",
    "n = int(input(\"n = \"))\n",
    "s = 0\n",
    "\n",
    "for i in range(n):\n",
    "    a = int(input(\"son = \"))\n",
    "    if i == 0:\n",
    "        mini = a\n",
    "        maxi = a\n",
    "    if maxi < a:\n",
    "        maxi = a\n",
    "    if mini > a:\n",
    "        mini = a\n",
    "        \n",
    "    s += a\n",
    "    \n",
    "s -= (mini + maxi)\n",
    "\n",
    "print(\"To'plam orta qiymati :\", s/(n-2) )\n"
   ]
  }
 ],
 "metadata": {
  "kernelspec": {
   "display_name": "Python 3",
   "language": "python",
   "name": "python3"
  },
  "language_info": {
   "codemirror_mode": {
    "name": "ipython",
    "version": 3
   },
   "file_extension": ".py",
   "mimetype": "text/x-python",
   "name": "python",
   "nbconvert_exporter": "python",
   "pygments_lexer": "ipython3",
   "version": "3.12.3"
  }
 },
 "nbformat": 4,
 "nbformat_minor": 5
}
