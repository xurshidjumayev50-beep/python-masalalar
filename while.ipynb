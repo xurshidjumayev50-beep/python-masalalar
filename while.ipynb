{
 "cells": [
  {
   "cell_type": "code",
   "execution_count": null,
   "id": "307e3ff1",
   "metadata": {},
   "outputs": [
    {
     "name": "stdout",
     "output_type": "stream",
     "text": [
      "1\n"
     ]
    }
   ],
   "source": [
    "# while 1 \n",
    "a=int(input(\"a=\"))\n",
    "b=int(input(\"b=\"))\n",
    "while a>=b:\n",
    "    a -=b\n",
    "print(a)"
   ]
  },
  {
   "cell_type": "code",
   "execution_count": null,
   "id": "1a3139fe",
   "metadata": {},
   "outputs": [
    {
     "name": "stdout",
     "output_type": "stream",
     "text": [
      "3\n"
     ]
    }
   ],
   "source": [
    "# while  2 \n",
    "a=int(input(\"a=\"))\n",
    "b=int(input(\"b=\"))\n",
    "i=0\n",
    "while a>b:\n",
    "    a -=b\n",
    "    i +=1 \n",
    "print(i)"
   ]
  },
  {
   "cell_type": "code",
   "execution_count": null,
   "id": "f04f541e",
   "metadata": {},
   "outputs": [
    {
     "name": "stdout",
     "output_type": "stream",
     "text": [
      "butun qismi 3 qoldiq qismi 1\n"
     ]
    }
   ],
   "source": [
    "# while 3 \n",
    "n=int(input(\"n=\"))\n",
    "k=int(input(\"k=\"))\n",
    "i=0\n",
    "while n>k:\n",
    "    n -=k\n",
    "    i +=1\n",
    "print('butun qismi', i ,'qoldiq qismi', a)\n"
   ]
  },
  {
   "cell_type": "code",
   "execution_count": null,
   "id": "0b68c3b9",
   "metadata": {},
   "outputs": [
    {
     "name": "stdout",
     "output_type": "stream",
     "text": [
      "3 ning darajasi emas \n"
     ]
    }
   ],
   "source": [
    "# while 4 \n",
    "n=int(input(\"n=\"))\n",
    "p=3 \n",
    "while p !=n and p<=n:\n",
    "\n",
    "    p *=n\n",
    "if p==n:\n",
    "    print('3 ning darajasi')\n",
    "else :\n",
    "    print('3 ning darajasi emas ')\n",
    "    \n",
    "      "
   ]
  },
  {
   "cell_type": "code",
   "execution_count": null,
   "id": "e9b21672",
   "metadata": {},
   "outputs": [
    {
     "name": "stdout",
     "output_type": "stream",
     "text": [
      "7\n"
     ]
    }
   ],
   "source": [
    "# while 5 \n",
    "n=int(input(\"n=\"))\n",
    "k=1 \n",
    "i=0\n",
    "while k !=n and k<=n:\n",
    "    k*=2\n",
    "    i +=1\n",
    "print(i)\n"
   ]
  },
  {
   "cell_type": "code",
   "execution_count": null,
   "id": "69b230d2",
   "metadata": {},
   "outputs": [
    {
     "name": "stdout",
     "output_type": "stream",
     "text": [
      "35\n"
     ]
    }
   ],
   "source": [
    "# while 6 \n",
    "n=int(input(\"n=\"))\n",
    "n = int(input('n = '))\n",
    "\n",
    "\n",
    "p = 1\n",
    "i = 0\n",
    "\n",
    "while n >= 1:\n",
    "    p *= n\n",
    "    i += 2\n",
    "    n -= i\n",
    "    \n",
    "print(p)\n",
    "    "
   ]
  },
  {
   "cell_type": "code",
   "execution_count": null,
   "id": "0699baa2",
   "metadata": {},
   "outputs": [
    {
     "name": "stdout",
     "output_type": "stream",
     "text": [
      "2\n"
     ]
    }
   ],
   "source": [
    "# while 7 \n",
    "n=int(input(\"n=\"))\n",
    "\n",
    "i=1 \n",
    "while i**2 <n:\n",
    "    i +=1 \n",
    "    print(i)"
   ]
  },
  {
   "cell_type": "code",
   "execution_count": null,
   "id": "dd46d8d9",
   "metadata": {},
   "outputs": [
    {
     "name": "stdout",
     "output_type": "stream",
     "text": [
      "3\n"
     ]
    }
   ],
   "source": [
    "# while 8\n",
    "n=int(input(\"n=\"))\n",
    "k=1 \n",
    "while 3 **  k<n:\n",
    "    k +=1\n",
    "\n",
    "k -=1\n",
    "print(k)"
   ]
  },
  {
   "cell_type": "code",
   "execution_count": null,
   "id": "23b2e2bb",
   "metadata": {},
   "outputs": [
    {
     "name": "stdout",
     "output_type": "stream",
     "text": [
      "4\n"
     ]
    }
   ],
   "source": [
    "# while 9 \n",
    "n = int(input('n = '))\n",
    "k = 0\n",
    "while 3**k < n:\n",
    "    k += 1\n",
    "print(k)"
   ]
  },
  {
   "cell_type": "code",
   "execution_count": null,
   "id": "23873032",
   "metadata": {},
   "outputs": [
    {
     "name": "stdout",
     "output_type": "stream",
     "text": [
      "2\n"
     ]
    }
   ],
   "source": [
    "# while 10 \n",
    "n=int(input(\"n=\"))\n",
    "k=0\n",
    "while 3 **k<=n:\n",
    "    k +=1\n",
    "k -=1\n",
    "print(k)\n",
    "\n"
   ]
  },
  {
   "cell_type": "code",
   "execution_count": null,
   "id": "10087f6a",
   "metadata": {},
   "outputs": [
    {
     "name": "stdout",
     "output_type": "stream",
     "text": [
      "10 5\n"
     ]
    }
   ],
   "source": [
    "#while 11\n",
    "n=int(input(\"n=\"))\n",
    "s=0\n",
    "k=1\n",
    "while n>s:\n",
    "    s +=k\n",
    "    k +=1\n",
    "print(s,k)\n"
   ]
  },
  {
   "cell_type": "code",
   "execution_count": null,
   "id": "39c7f7ed",
   "metadata": {},
   "outputs": [
    {
     "name": "stdout",
     "output_type": "stream",
     "text": [
      "15 6\n"
     ]
    }
   ],
   "source": [
    "# while 12 \n",
    "n=int(input(\"n=\"))\n",
    "s=0\n",
    "k=1\n",
    "while n>=s:\n",
    "    s +=k\n",
    "    k +=1\n",
    "print(s,k)\n",
    "\n",
    " "
   ]
  },
  {
   "cell_type": "code",
   "execution_count": null,
   "id": "965ef178",
   "metadata": {},
   "outputs": [
    {
     "name": "stdout",
     "output_type": "stream",
     "text": [
      "32\n"
     ]
    }
   ],
   "source": [
    "# while 13\n",
    "a=int(input(\"a=\"))\n",
    "s=0\n",
    "k=1\n",
    "while a>=s:\n",
    "    s +=1/k\n",
    "    k +=1\n",
    "print(k)"
   ]
  },
  {
   "cell_type": "code",
   "execution_count": null,
   "id": "0f59e8c8",
   "metadata": {},
   "outputs": [
    {
     "name": "stdout",
     "output_type": "stream",
     "text": [
      "S =  4.990163510775404 k =  83\n"
     ]
    }
   ],
   "source": [
    "# while 14 \n",
    "a = int(input('n = '))\n",
    "s = 0\n",
    "k = 1\n",
    "while a > s:\n",
    "    s += 1/k\n",
    "    k += 1\n",
    "s -= 1/k\n",
    "k -= 1\n",
    "print('S = ', s, 'k = ', k)\n",
    "\n"
   ]
  },
  {
   "cell_type": "code",
   "execution_count": null,
   "id": "0329fdea",
   "metadata": {},
   "outputs": [
    {
     "name": "stdout",
     "output_type": "stream",
     "text": [
      "15 oydan keyin\n"
     ]
    }
   ],
   "source": [
    "# while 15 \n",
    "s = float(input(\"s = \"))\n",
    "p = float(input(\"p = \"))\n",
    "s1 = 0\n",
    "s2 = s\n",
    "i = 0\n",
    "while s2 < 2*s:\n",
    "    s1 = s2/100 * p\n",
    "    s2 += s2/100 * p\n",
    "    i += 1\n",
    "    \n",
    "print(i , 'oydan keyin')"
   ]
  },
  {
   "cell_type": "code",
   "execution_count": null,
   "id": "e19383e8",
   "metadata": {},
   "outputs": [
    {
     "name": "stdout",
     "output_type": "stream",
     "text": [
      "79\n"
     ]
    }
   ],
   "source": [
    "# while 16 \n",
    "p = int(input('p = '))\n",
    "s1 = 10\n",
    "s2 = 0\n",
    "kun = 1\n",
    "while s2 < 200:\n",
    "    s2 += s1/100 * p\n",
    "    s1 += s1/100 * p\n",
    "    kun += 1\n",
    "print(kun)"
   ]
  },
  {
   "cell_type": "code",
   "execution_count": null,
   "id": "a75a2c7b",
   "metadata": {},
   "outputs": [
    {
     "name": "stdout",
     "output_type": "stream",
     "text": [
      "0 butun 4 qoldiq\n"
     ]
    }
   ],
   "source": [
    "# while 17 \n",
    "n = int(input('n = '))\n",
    "m = int(input('n = '))\n",
    "j = 0\n",
    "while n >= m:\n",
    "    n -= m\n",
    "    j += 1\n",
    "print(j, \"butun\", n, \"qoldiq\")"
   ]
  },
  {
   "cell_type": "code",
   "execution_count": null,
   "id": "22195679",
   "metadata": {},
   "outputs": [
    {
     "name": "stdout",
     "output_type": "stream",
     "text": [
      "40\n"
     ]
    }
   ],
   "source": [
    "# while 18\n",
    "n = int(input('n = '))\n",
    "k = 0\n",
    "son1 = n\n",
    "\n",
    "while son1 > 1:\n",
    "    son1 //= 10\n",
    "    k += 1\n",
    "k\n",
    "son1 = 0\n",
    "\n",
    "while n >= 1:\n",
    "    son1 += (n%10)*(10**k)\n",
    "    n //= 10\n",
    "    k -= 1\n",
    "        \n",
    "print(son1)"
   ]
  },
  {
   "cell_type": "code",
   "execution_count": null,
   "id": "26dc83e9",
   "metadata": {},
   "outputs": [
    {
     "name": "stdout",
     "output_type": "stream",
     "text": [
      "4\n"
     ]
    }
   ],
   "source": [
    "# while 19\n",
    "n = int(input('n = '))\n",
    "s = 0\n",
    "while n >= 1:\n",
    "    s += n%10\n",
    "    n//=10\n",
    "print(s)\n"
   ]
  },
  {
   "cell_type": "code",
   "execution_count": null,
   "id": "c2b272f1",
   "metadata": {},
   "outputs": [
    {
     "name": "stdout",
     "output_type": "stream",
     "text": [
      "yo'q\n"
     ]
    }
   ],
   "source": [
    "# while 20 \n",
    "n = int(input('n = '))\n",
    "k = True\n",
    "while n >= 1:\n",
    "    if n%10 == 2:\n",
    "        print('bor')\n",
    "        k = False\n",
    "        break\n",
    "    n //= 10\n",
    "if k:\n",
    "    print('yo\\'q')"
   ]
  },
  {
   "cell_type": "code",
   "execution_count": null,
   "id": "7601b90f",
   "metadata": {},
   "outputs": [
    {
     "name": "stdout",
     "output_type": "stream",
     "text": [
      "yo'q\n"
     ]
    }
   ],
   "source": [
    "#while 21\n",
    "n = int(input('n = '))\n",
    "k = True\n",
    "while n >= 1:\n",
    "    if (n%10)%2!=0:\n",
    "        print('bor')\n",
    "        k = False\n",
    "        break\n",
    "    n //= 10\n",
    "if k:\n",
    "    print('yo\\'q')"
   ]
  },
  {
   "cell_type": "code",
   "execution_count": null,
   "id": "d578c1d8",
   "metadata": {},
   "outputs": [
    {
     "name": "stdout",
     "output_type": "stream",
     "text": [
      "Tub son\n"
     ]
    }
   ],
   "source": [
    "#while 22\n",
    "n = int(input(\"n = \"))\n",
    "a = int(n**0.5 + 1)\n",
    "i = 2\n",
    "tub = True\n",
    "while i < a:\n",
    "    if n % i == 0:\n",
    "        tub = False\n",
    "    i += 1\n",
    "        \n",
    "if tub:\n",
    "    print(\"Tub son\")\n",
    "else:\n",
    "    print(\"Tub son emas\")\n",
    "        "
   ]
  },
  {
   "cell_type": "code",
   "execution_count": null,
   "id": "d315adcd",
   "metadata": {},
   "outputs": [
    {
     "name": "stdout",
     "output_type": "stream",
     "text": [
      "1 1\n"
     ]
    }
   ],
   "source": [
    "# while 23\n",
    "a = int(input(\"a = \"))\n",
    "b = int(input(\"b = \"))\n",
    "\n",
    "while a!=b:\n",
    "    if a>b:\n",
    "        a%=b\n",
    "    else:\n",
    "        b%=a \n",
    "        \n",
    "    if a==0:\n",
    "        a=b\n",
    "    if b==0:\n",
    "        b=a\n",
    "print(a,b)"
   ]
  },
  {
   "cell_type": "code",
   "execution_count": null,
   "id": "108151d0",
   "metadata": {},
   "outputs": [
    {
     "name": "stdout",
     "output_type": "stream",
     "text": [
      "4  fibonachi soni emas\n"
     ]
    }
   ],
   "source": [
    "# while 24\n",
    "n = int(input(\"n = \"))\n",
    "a = 1\n",
    "b = 1\n",
    "i = 1\n",
    "fib = False\n",
    "while (a != n or b != n) and i <= n:\n",
    "    if a==n or b==n:\n",
    "        print(n, \" fibonachi soni\")\n",
    "        fib = False\n",
    "        break\n",
    "        \n",
    "    else:\n",
    "        fib = True\n",
    "        \n",
    "    a += b\n",
    "    b += a    \n",
    "    i += 1\n",
    "    \n",
    "    \n",
    "if fib:\n",
    "    print(n, \" fibonachi soni emas\")\n"
   ]
  },
  {
   "cell_type": "code",
   "execution_count": null,
   "id": "1f043b55",
   "metadata": {},
   "outputs": [
    {
     "name": "stdout",
     "output_type": "stream",
     "text": [
      "5\n"
     ]
    }
   ],
   "source": [
    "# while 25\n",
    "n = int(input('n = '))\n",
    "a = 1\n",
    "b = 1\n",
    "while True:\n",
    "    \n",
    "    if a > n:\n",
    "        print(a)\n",
    "        break\n",
    "    if b > n:\n",
    "        print(b)\n",
    "        break\n",
    "        \n",
    "    a += b\n",
    "    b += a"
   ]
  },
  {
   "cell_type": "code",
   "execution_count": null,
   "id": "faae56ac",
   "metadata": {},
   "outputs": [
    {
     "name": "stdout",
     "output_type": "stream",
     "text": [
      "13\n",
      "34\n"
     ]
    }
   ],
   "source": [
    "# while 26 \n",
    "n = int(input('n = '))\n",
    "a = 1\n",
    "b = 1\n",
    "while True:\n",
    "    a += b\n",
    "    if a > n:\n",
    "        print(abs(a - b))\n",
    "        print(a) \n",
    "        break\n",
    "    b += a\n",
    "    if b > n:\n",
    "        print(abs(a - b))\n",
    "        print(b)\n",
    "        break"
   ]
  },
  {
   "cell_type": "code",
   "execution_count": 16,
   "id": "dc362d3c",
   "metadata": {},
   "outputs": [
    {
     "ename": "KeyboardInterrupt",
     "evalue": "",
     "output_type": "error",
     "traceback": [
      "\u001b[0;31m---------------------------------------------------------------------------\u001b[0m",
      "\u001b[0;31mKeyboardInterrupt\u001b[0m                         Traceback (most recent call last)",
      "Cell \u001b[0;32mIn[16], line 6\u001b[0m\n\u001b[1;32m      4\u001b[0m b \u001b[38;5;241m=\u001b[39m \u001b[38;5;241m1\u001b[39m\n\u001b[1;32m      5\u001b[0m i \u001b[38;5;241m=\u001b[39m \u001b[38;5;241m1\u001b[39m\n\u001b[0;32m----> 6\u001b[0m \u001b[38;5;28;01mwhile\u001b[39;00m \u001b[38;5;28;01mTrue\u001b[39;00m:\n\u001b[1;32m      7\u001b[0m     a \u001b[38;5;241m+\u001b[39m\u001b[38;5;241m=\u001b[39m b\n\u001b[1;32m      8\u001b[0m     i \u001b[38;5;241m+\u001b[39m\u001b[38;5;241m=\u001b[39m \u001b[38;5;241m1\u001b[39m\n",
      "\u001b[0;31mKeyboardInterrupt\u001b[0m: "
     ]
    }
   ],
   "source": [
    "# while 27 \n",
    "n = int(input('n = '))\n",
    "a = 1\n",
    "b = 1\n",
    "i = 1\n",
    "while True:\n",
    "    a += b\n",
    "    i += 1\n",
    "    if n == a:\n",
    "        print(i)\n",
    "        break\n",
    "    b += a\n",
    "    i += 1\n",
    "    if n == b:\n",
    "        print(i)\n",
    "        break\n",
    "        \n",
    "    \n"
   ]
  },
  {
   "cell_type": "code",
   "execution_count": null,
   "id": "e5c9e63c",
   "metadata": {},
   "outputs": [],
   "source": []
  },
  {
   "cell_type": "code",
   "execution_count": 19,
   "id": "502a8e21",
   "metadata": {},
   "outputs": [
    {
     "name": "stdout",
     "output_type": "stream",
     "text": [
      "k =  1\n",
      "ak =  3.0\n",
      "ak-1 =  1\n"
     ]
    }
   ],
   "source": [
    "# while 28 \n",
    "e = float(input(\"e = \"))\n",
    "a = 1\n",
    "k = 1\n",
    "ak = 0\n",
    "while True:\n",
    "    ak = 2 + 1 / a\n",
    "    if abs(ak-a) < e:\n",
    "        break\n",
    "    a = ak\n",
    "    k += 1\n",
    "print(\"k = \", k)\n",
    "print(\"ak = \",  ak)\n",
    "print(\"ak-1 = \", a)"
   ]
  },
  {
   "cell_type": "code",
   "execution_count": 20,
   "id": "cdedbf35",
   "metadata": {},
   "outputs": [
    {
     "ename": "KeyboardInterrupt",
     "evalue": "",
     "output_type": "error",
     "traceback": [
      "\u001b[0;31m---------------------------------------------------------------------------\u001b[0m",
      "\u001b[0;31mKeyboardInterrupt\u001b[0m                         Traceback (most recent call last)",
      "Cell \u001b[0;32mIn[20], line 7\u001b[0m\n\u001b[1;32m      5\u001b[0m k \u001b[38;5;241m=\u001b[39m \u001b[38;5;241m1\u001b[39m\n\u001b[1;32m      6\u001b[0m a3 \u001b[38;5;241m=\u001b[39m (a1 \u001b[38;5;241m+\u001b[39m \u001b[38;5;241m2\u001b[39m \u001b[38;5;241m*\u001b[39m a2)\u001b[38;5;241m/\u001b[39m\u001b[38;5;241m3\u001b[39m\n\u001b[0;32m----> 7\u001b[0m \u001b[38;5;28;01mwhile\u001b[39;00m \u001b[38;5;28;43mabs\u001b[39;49m\u001b[43m(\u001b[49m\u001b[43ma3\u001b[49m\u001b[38;5;241;43m-\u001b[39;49m\u001b[43ma2\u001b[49m\u001b[43m)\u001b[49m \u001b[38;5;241m<\u001b[39m e:\n\u001b[1;32m      8\u001b[0m     a1 \u001b[38;5;241m=\u001b[39m a2\n\u001b[1;32m      9\u001b[0m     a2 \u001b[38;5;241m=\u001b[39m a3\n",
      "\u001b[0;31mKeyboardInterrupt\u001b[0m: "
     ]
    }
   ],
   "source": [
    "# while 29\n",
    "e = float(input(\"e = \"))\n",
    "\n",
    "a1 = 1\n",
    "a2 = 2\n",
    "k = 2  # chunki a1 va a2 allaqachon bor\n",
    "\n",
    "while True:\n",
    "    a3 = (a1 + 2 * a2) / 3  # formula bo‘yicha\n",
    "    k += 1\n",
    "    if abs(a3 - a2) < e:\n",
    "        break\n",
    "    a1 = a2\n",
    "    a2 = a3\n",
    "\n",
    "print(\"k =\", k)\n",
    "print(\"ak =\", a3)\n",
    "print(\"ak-1 =\", a2)\n"
   ]
  },
  {
   "cell_type": "code",
   "execution_count": null,
   "id": "136e25ec",
   "metadata": {},
   "outputs": [],
   "source": []
  },
  {
   "cell_type": "code",
   "execution_count": null,
   "id": "cca7d38f",
   "metadata": {},
   "outputs": [
    {
     "name": "stdout",
     "output_type": "stream",
     "text": [
      "1\n"
     ]
    }
   ],
   "source": [
    "# while 30 \n",
    "a = float(input(\"a = \"))\n",
    "b = float(input(\"b = \"))\n",
    "c = float(input(\"c = \"))\n",
    "\n",
    "a1 = 0\n",
    "while a >= c:\n",
    "    a -= c\n",
    "    a1 += 1\n",
    "b1 = 0\n",
    "while b >= c:\n",
    "    b -= c\n",
    "    b1 += 1\n",
    "\n",
    "natija = 0\n",
    "while a1 > 0:\n",
    "    natija += b1\n",
    "    a1 -= 1\n",
    "print(natija)\n",
    "    \n"
   ]
  },
  {
   "cell_type": "code",
   "execution_count": null,
   "id": "a24acc6a",
   "metadata": {},
   "outputs": [],
   "source": [
    "e = float(input(\"e = \"))\n",
    "\n",
    "a1 = 1\n",
    "a2 = 2\n",
    "k = 2  # chunki a1 va a2 allaqachon bor\n",
    "\n",
    "while True:\n",
    "    a3 = (a1 + 2 * a2) / 3  # formula bo‘yicha\n",
    "    k += 1\n",
    "    if abs(a3 - a2) < e:\n",
    "        break\n",
    "    a1 = a2\n",
    "    a2 = a3\n",
    "\n",
    "print(\"k =\", k)\n",
    "print(\"ak =\", a3)\n",
    "print(\"ak-1 =\", a2)\n"
   ]
  }
 ],
 "metadata": {
  "kernelspec": {
   "display_name": "Python 3",
   "language": "python",
   "name": "python3"
  },
  "language_info": {
   "codemirror_mode": {
    "name": "ipython",
    "version": 3
   },
   "file_extension": ".py",
   "mimetype": "text/x-python",
   "name": "python",
   "nbconvert_exporter": "python",
   "pygments_lexer": "ipython3",
   "version": "3.12.3"
  }
 },
 "nbformat": 4,
 "nbformat_minor": 5
}
