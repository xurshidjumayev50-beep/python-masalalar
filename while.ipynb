{
 "cells": [
  {
   "cell_type": "code",
   "execution_count": 5,
   "id": "307e3ff1",
   "metadata": {},
   "outputs": [
    {
     "name": "stdout",
     "output_type": "stream",
     "text": [
      "1\n"
     ]
    }
   ],
   "source": [
    "# while 1 \n",
    "a=int(input(\"a=\"))\n",
    "b=int(input(\"b=\"))\n",
    "while a>=b:\n",
    "    a -=b\n",
    "print(a)"
   ]
  },
  {
   "cell_type": "code",
   "execution_count": 8,
   "id": "1a3139fe",
   "metadata": {},
   "outputs": [
    {
     "name": "stdout",
     "output_type": "stream",
     "text": [
      "3\n"
     ]
    }
   ],
   "source": [
    "# while  2 \n",
    "a=int(input(\"a=\"))\n",
    "b=int(input(\"b=\"))\n",
    "i=0\n",
    "while a>b:\n",
    "    a -=b\n",
    "    i +=1 \n",
    "print(i)"
   ]
  },
  {
   "cell_type": "code",
   "execution_count": 15,
   "id": "f04f541e",
   "metadata": {},
   "outputs": [
    {
     "name": "stdout",
     "output_type": "stream",
     "text": [
      "butun qismi 3 qoldiq qismi 1\n"
     ]
    }
   ],
   "source": [
    "# while 3 \n",
    "n=int(input(\"n=\"))\n",
    "k=int(input(\"k=\"))\n",
    "i=0\n",
    "while n>k:\n",
    "    n -=k\n",
    "    i +=1\n",
    "print('butun qismi', i ,'qoldiq qismi', a)\n"
   ]
  },
  {
   "cell_type": "code",
   "execution_count": 18,
   "id": "0b68c3b9",
   "metadata": {},
   "outputs": [
    {
     "name": "stdout",
     "output_type": "stream",
     "text": [
      "3 ning darajasi emas \n"
     ]
    }
   ],
   "source": [
    "# while 4 \n",
    "n=int(input(\"n=\"))\n",
    "p=3 \n",
    "while p !=n and p<=n:\n",
    "\n",
    "    p *=n\n",
    "if p==n:\n",
    "    print('3 ning darajasi')\n",
    "else :\n",
    "    print('3 ning darajasi emas ')\n",
    "    \n",
    "      "
   ]
  },
  {
   "cell_type": "code",
   "execution_count": 22,
   "id": "e9b21672",
   "metadata": {},
   "outputs": [
    {
     "name": "stdout",
     "output_type": "stream",
     "text": [
      "7\n"
     ]
    }
   ],
   "source": [
    "# while 5 \n",
    "n=int(input(\"n=\"))\n",
    "k=1 \n",
    "i=0\n",
    "while k !=n and k<=n:\n",
    "    k*=2\n",
    "    i +=1\n",
    "print(i)\n"
   ]
  },
  {
   "cell_type": "code",
   "execution_count": 23,
   "id": "69b230d2",
   "metadata": {},
   "outputs": [
    {
     "name": "stdout",
     "output_type": "stream",
     "text": [
      "35\n"
     ]
    }
   ],
   "source": [
    "# while 6 \n",
    "n=int(input(\"n=\"))\n",
    "n = int(input('n = '))\n",
    "\n",
    "\n",
    "p = 1\n",
    "i = 0\n",
    "\n",
    "while n >= 1:\n",
    "    p *= n\n",
    "    i += 2\n",
    "    n -= i\n",
    "    \n",
    "print(p)\n",
    "    "
   ]
  },
  {
   "cell_type": "code",
   "execution_count": 24,
   "id": "0699baa2",
   "metadata": {},
   "outputs": [
    {
     "name": "stdout",
     "output_type": "stream",
     "text": [
      "2\n"
     ]
    }
   ],
   "source": [
    "# while 7 \n",
    "n=int(input(\"n=\"))\n",
    "\n",
    "i=1 \n",
    "while i**2 <n:\n",
    "    i +=1 \n",
    "    print(i)"
   ]
  },
  {
   "cell_type": "code",
   "execution_count": 28,
   "id": "dd46d8d9",
   "metadata": {},
   "outputs": [
    {
     "name": "stdout",
     "output_type": "stream",
     "text": [
      "3\n"
     ]
    }
   ],
   "source": [
    "# while 8\n",
    "n=int(input(\"n=\"))\n",
    "k=1 \n",
    "while 3 **  k<n:\n",
    "    k +=1\n",
    "\n",
    "k -=1\n",
    "print(k)"
   ]
  },
  {
   "cell_type": "code",
   "execution_count": 29,
   "id": "23b2e2bb",
   "metadata": {},
   "outputs": [
    {
     "name": "stdout",
     "output_type": "stream",
     "text": [
      "4\n"
     ]
    }
   ],
   "source": [
    "# while 9 \n",
    "n = int(input('n = '))\n",
    "k = 0\n",
    "while 3**k < n:\n",
    "    k += 1\n",
    "print(k)"
   ]
  },
  {
   "cell_type": "code",
   "execution_count": null,
   "id": "23873032",
   "metadata": {},
   "outputs": [],
   "source": [
    "# while 10 \n"
   ]
  }
 ],
 "metadata": {
  "kernelspec": {
   "display_name": "Python 3",
   "language": "python",
   "name": "python3"
  },
  "language_info": {
   "codemirror_mode": {
    "name": "ipython",
    "version": 3
   },
   "file_extension": ".py",
   "mimetype": "text/x-python",
   "name": "python",
   "nbconvert_exporter": "python",
   "pygments_lexer": "ipython3",
   "version": "3.12.3"
  }
 },
 "nbformat": 4,
 "nbformat_minor": 5
}
